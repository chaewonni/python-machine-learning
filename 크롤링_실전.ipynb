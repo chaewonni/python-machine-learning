{
  "nbformat": 4,
  "nbformat_minor": 0,
  "metadata": {
    "colab": {
      "provenance": [],
      "include_colab_link": true
    },
    "kernelspec": {
      "name": "python3",
      "display_name": "Python 3"
    },
    "language_info": {
      "name": "python"
    }
  },
  "cells": [
    {
      "cell_type": "markdown",
      "metadata": {
        "id": "view-in-github",
        "colab_type": "text"
      },
      "source": [
        "<a href=\"https://colab.research.google.com/github/chaewonni/python-machine-learning/blob/main/%ED%81%AC%EB%A1%A4%EB%A7%81_%EC%8B%A4%EC%A0%84.ipynb\" target=\"_parent\"><img src=\"https://colab.research.google.com/assets/colab-badge.svg\" alt=\"Open In Colab\"/></a>"
      ]
    },
    {
      "cell_type": "markdown",
      "source": [
        "크롤링 실전\n",
        "정해진 기간 동안의 뉴스 기사를 크롤링하는 코드를 작성해봅시다.<br>\n",
        "한 단어로 표시되는 뉴스 기사 수는 제한되어 있습니다. 그래서 하루 단위로 필터링하여 놓치는 기사 없이 모두 수집해보려고합니다.<br>\n",
        "조금 더 재미 있는 코드들을 소개해드릴게요!"
      ],
      "metadata": {
        "id": "PBKIuehH7uDp"
      }
    },
    {
      "cell_type": "markdown",
      "source": [
        "### 이번주 뉴스 기사 URL 수집\n",
        "본격적으로 URL을 조작하여 지난 한 주 동안의 뉴스 기사를 수집해봅시다.<br>\n",
        "여기서는 날짜 리스트를 만들어야 하는데, 어떻게 만들면 더 쉬운지 알아보고<br>\n",
        "사용자 정의 함수를 구현하여 조금 더 효율적이고 이해 가능한 코드를 구현해봅시다.<br>"
      ],
      "metadata": {
        "id": "MJkWuBiraHok"
      }
    },
    {
      "cell_type": "code",
      "execution_count": 1,
      "metadata": {
        "id": "s_Hc6doet83q"
      },
      "outputs": [],
      "source": [
        "# 필요한 라이브러리 불러오기\n",
        "import requests\n",
        "from bs4 import BeautifulSoup\n",
        "import re\n",
        "import time"
      ]
    },
    {
      "cell_type": "code",
      "source": [
        "# 임시 URL 설정\n",
        "tmp_url = 'https://search.naver.com/search.naver?where=news&sm=tab_pge&query=AI&sort=2&photo=0&field=0&pd=3&ds=2023.02.01&de=2023.02.01&mynews=0&office_type=0&office_section_code=0&news_office_checked=&nso=so:r,p:from20230201to20230201,a:all&start=1'"
      ],
      "metadata": {
        "id": "mkEPZ0fz4wmy"
      },
      "execution_count": 2,
      "outputs": []
    },
    {
      "cell_type": "code",
      "source": [
        "from urllib.parse import urlparse\n",
        "from urllib.parse import parse_qs\n",
        "\n",
        "# 위의 복잡한 URL은 사실 요청문으로 이루어져 있습니다. 여기에서 정보를 빠르고 쉽게 추출할 수 있어요!\n",
        "params = parse_qs(urlparse(tmp_url).query)\n",
        "params"
      ],
      "metadata": {
        "id": "Mg4wP-rv5Ew5",
        "colab": {
          "base_uri": "https://localhost:8080/"
        },
        "outputId": "b500ac47-0edf-43fe-a30a-ab627ecb7dc1"
      },
      "execution_count": 3,
      "outputs": [
        {
          "output_type": "execute_result",
          "data": {
            "text/plain": [
              "{'where': ['news'],\n",
              " 'sm': ['tab_pge'],\n",
              " 'query': ['AI'],\n",
              " 'sort': ['2'],\n",
              " 'photo': ['0'],\n",
              " 'field': ['0'],\n",
              " 'pd': ['3'],\n",
              " 'ds': ['2023.02.01'],\n",
              " 'de': ['2023.02.01'],\n",
              " 'mynews': ['0'],\n",
              " 'office_type': ['0'],\n",
              " 'office_section_code': ['0'],\n",
              " 'nso': ['so:r,p:from20230201to20230201,a:all'],\n",
              " 'start': ['1']}"
            ]
          },
          "metadata": {},
          "execution_count": 3
        }
      ]
    },
    {
      "cell_type": "code",
      "source": [
        "# 파라미터 변경\n",
        "params['start'] = 1 # 이 값은 저희가 추후에 변경해야 하는 부분이라 리스트 형태에서 정수 형태로 미리 바꾸어두었습니다."
      ],
      "metadata": {
        "id": "SyTDkOtDAX0H"
      },
      "execution_count": 4,
      "outputs": []
    },
    {
      "cell_type": "code",
      "source": [
        "# 날짜 리스트 생성\n",
        "from datetime import datetime\n",
        "from datetime import timedelta\n",
        "\n",
        "today = datetime.today() + timedelta(hours = 9)\n",
        "last_week = today - timedelta(days = 7)\n",
        "\n",
        "today = today.strftime('%Y.%m.%d')\n",
        "last_week = last_week.strftime('%Y.%m.%d')\n",
        "\n",
        "import pandas as pd\n",
        "date_list = pd.date_range(last_week, today)\n",
        "#Pandas에서 날짜 리스트를 쉽게 얻을 수 있습니다. 저희가 알고 있는 문자열이 아니라, 날짜 데이터를 조금 더 유연하게 다룰 수 있는 형식으로 저장됩니다.\n",
        "print(date_list)"
      ],
      "metadata": {
        "id": "XS0TC4eY8XHh",
        "colab": {
          "base_uri": "https://localhost:8080/"
        },
        "outputId": "9a1b3472-56be-4833-d90d-3257439384ff"
      },
      "execution_count": 5,
      "outputs": [
        {
          "output_type": "stream",
          "name": "stdout",
          "text": [
            "DatetimeIndex(['2023-03-12', '2023-03-13', '2023-03-14', '2023-03-15',\n",
            "               '2023-03-16', '2023-03-17', '2023-03-18', '2023-03-19'],\n",
            "              dtype='datetime64[ns]', freq='D')\n"
          ]
        }
      ]
    },
    {
      "cell_type": "code",
      "source": [
        "# 뉴스 URL 수집 | 매일 첫 페이지만\n",
        "url = 'https://search.naver.com/search.naver'\n",
        "\n",
        "news_url_list = []\n",
        "for date in date_list:\n",
        "    date_string = date.strftime('%Y.%m.%d')\n",
        "    params['ds'] = date_string\n",
        "    params['de'] = date_string\n",
        "    params['nso'] = 'so:r,p:from{fr}to{to}'.format(fr = date.strftime('%Y%m%d'), to = date.strftime('%Y%m%d'))\n",
        "    time.sleep(1)\n",
        "\n",
        "    res = requests.get(url, params = params)\n",
        "\n",
        "    html = res.text\n",
        "    soup = BeautifulSoup(html, 'html.parser')\n",
        "\n",
        "    news_url_list_part = soup.find_all('a', 'info', text = '네이버뉴스')\n",
        "    print(date_string, len(news_url_list_part), '개')\n",
        "    news_url_list.extend(news_url_list_part)"
      ],
      "metadata": {
        "id": "Y9hOybG77Qiy",
        "colab": {
          "base_uri": "https://localhost:8080/"
        },
        "outputId": "d96784ea-55c7-4cd6-af1a-c076ad640f91"
      },
      "execution_count": 6,
      "outputs": [
        {
          "output_type": "stream",
          "name": "stderr",
          "text": [
            "<ipython-input-6-7c37061ce0b2>:17: DeprecationWarning: The 'text' argument to find()-type methods is deprecated. Use 'string' instead.\n",
            "  news_url_list_part = soup.find_all('a', 'info', text = '네이버뉴스')\n"
          ]
        },
        {
          "output_type": "stream",
          "name": "stdout",
          "text": [
            "2023.03.12 6 개\n",
            "2023.03.13 3 개\n",
            "2023.03.14 3 개\n",
            "2023.03.15 4 개\n",
            "2023.03.16 6 개\n",
            "2023.03.17 4 개\n",
            "2023.03.18 3 개\n",
            "2023.03.19 2 개\n"
          ]
        }
      ]
    },
    {
      "cell_type": "code",
      "source": [
        "def get_soup(url, params):\n",
        "    res = requests.get(url, params = params)\n",
        "    time.sleep(1)\n",
        "\n",
        "    html = res.text\n",
        "    soup = BeautifulSoup(html, 'html.parser')\n",
        "    return soup"
      ],
      "metadata": {
        "id": "KkcWHsrWl7vE"
      },
      "execution_count": 7,
      "outputs": []
    },
    {
      "cell_type": "code",
      "source": [
        "soup = get_soup(url,params)"
      ],
      "metadata": {
        "id": "uin4hJyGul9j"
      },
      "execution_count": null,
      "outputs": []
    },
    {
      "cell_type": "code",
      "source": [
        "soup.find_all('a', 'info', text = '네이버뉴스')"
      ],
      "metadata": {
        "colab": {
          "base_uri": "https://localhost:8080/"
        },
        "id": "0KE0BGxDut-K",
        "outputId": "cb891535-781b-4a12-fb8b-ee322c8d89bb"
      },
      "execution_count": null,
      "outputs": [
        {
          "output_type": "execute_result",
          "data": {
            "text/plain": [
              "[<a class=\"info\" href=\"https://sports.news.naver.com/news.nhn?oid=436&amp;aid=0000068990\" onclick=\"return goOtherCR(this, 'a=nws*e.nav&amp;r=3&amp;i=88156f80_000000000000000000068990&amp;u='+urlencode(this.href));\" target=\"_blank\">네이버뉴스</a>]"
            ]
          },
          "metadata": {},
          "execution_count": 22
        }
      ]
    },
    {
      "cell_type": "code",
      "source": [
        "def get_news_url_list(soup):\n",
        "    news_url_list = soup.find_all('a', 'info', text = '네이버뉴스')\n",
        "    return news_url_list"
      ],
      "metadata": {
        "id": "oIhp_540l7oG"
      },
      "execution_count": null,
      "outputs": []
    },
    {
      "cell_type": "code",
      "source": [
        "page_num_list = []\n",
        "for tag in soup.find('div', 'sc_page_inner').find_all('a'):\n",
        "  page_num_list.append(tag.text)"
      ],
      "metadata": {
        "id": "5GqwMPGsvyEK"
      },
      "execution_count": null,
      "outputs": []
    },
    {
      "cell_type": "code",
      "source": [
        "def get_page_list(soup):\n",
        "    page_list = list(map(lambda i :int(i.text), soup.find('div', 'sc_page_inner').find_all('a')))\n",
        "    return page_list"
      ],
      "metadata": {
        "id": "o6l4bmNOlsMl"
      },
      "execution_count": null,
      "outputs": []
    },
    {
      "cell_type": "code",
      "source": [
        "def get_daily_news(url, params):\n",
        "    news_url_list = []\n",
        "    n = 1\n",
        "\n",
        "    soup = get_soup(url, params)\n",
        "    page_list = get_page_list(soup)\n",
        "\n",
        "    while n in page_list:\n",
        "\n",
        "      soup = get_soup(url, params)\n",
        "      news_url_list_part = get_news_url_list(soup)\n",
        "      news_url_list.extend(news_url_list_part)\n",
        "\n",
        "      time.sleep(1)\n",
        "      page_list = get_page_list(soup)\n",
        "      print(n, page_list)\n",
        "\n",
        "      n += 1\n",
        "      params['start'] += 10\n",
        "\n",
        "\n",
        "    print(len(news_url_list), '개,', n-1, '페이지')\n",
        "    return news_url_list"
      ],
      "metadata": {
        "id": "hu1O0hJ6LVIX"
      },
      "execution_count": null,
      "outputs": []
    },
    {
      "cell_type": "code",
      "source": [
        "# 뉴스 URL 수집 | 하루\n",
        "date = date_list[0]\n",
        "params['start'] = 1\n",
        "\n",
        "date_string = date.strftime('%Y.%m.%d')\n",
        "params['ds'] = date_string\n",
        "params['de'] = date_string\n",
        "params['nso'] = 'so:r,p:from{fr}to{to}'.format(fr = date.strftime('%Y%m%d'), to = date.strftime('%Y%m%d'))\n",
        "time.sleep(1)\n",
        "\n",
        "print(date_string)\n",
        "daily_news_list = get_daily_news(url, params)"
      ],
      "metadata": {
        "id": "zpyrtG30FKRM",
        "colab": {
          "base_uri": "https://localhost:8080/"
        },
        "outputId": "062aec6b-23ef-491c-c9d1-f2147f532262"
      },
      "execution_count": null,
      "outputs": [
        {
          "output_type": "stream",
          "name": "stdout",
          "text": [
            "2023.03.05\n",
            "1 [1, 2, 3, 4, 5, 6, 7, 8, 9, 10]\n",
            "2 [1, 2, 3, 4, 5, 6, 7, 8, 9, 10]\n",
            "3 [1, 2, 3, 4, 5, 6, 7, 8, 9, 10]\n",
            "4 [1, 2, 3, 4, 5, 6, 7, 8, 9, 10]\n",
            "5 [1, 2, 3, 4, 5, 6, 7, 8, 9, 10]\n",
            "6 [2, 3, 4, 5, 6, 7, 8, 9, 10, 11]\n",
            "7 [3, 4, 5, 6, 7, 8, 9, 10, 11, 12]\n",
            "8 [4, 5, 6, 7, 8, 9, 10, 11, 12, 13]\n",
            "9 [5, 6, 7, 8, 9, 10, 11, 12, 13, 14]\n",
            "10 [6, 7, 8, 9, 10, 11, 12, 13, 14, 15]\n",
            "11 [7, 8, 9, 10, 11, 12, 13, 14, 15, 16]\n",
            "12 [8, 9, 10, 11, 12, 13, 14, 15, 16, 17]\n",
            "13 [9, 10, 11, 12, 13, 14, 15, 16, 17, 18]\n",
            "14 [10, 11, 12, 13, 14, 15, 16, 17, 18, 19]\n",
            "15 [11, 12, 13, 14, 15, 16, 17, 18, 19, 20]\n",
            "16 [12, 13, 14, 15, 16, 17, 18, 19, 20, 21]\n",
            "17 [13, 14, 15, 16, 17, 18, 19, 20, 21, 22]\n",
            "18 [14, 15, 16, 17, 18, 19, 20, 21, 22, 23]\n",
            "19 [15, 16, 17, 18, 19, 20, 21, 22, 23, 24]\n",
            "20 [16, 17, 18, 19, 20, 21, 22, 23, 24, 25]\n",
            "21 [17, 18, 19, 20, 21, 22, 23, 24, 25, 26]\n",
            "22 [18, 19, 20, 21, 22, 23, 24, 25, 26, 27]\n",
            "23 [19, 20, 21, 22, 23, 24, 25, 26, 27, 28]\n",
            "24 [20, 21, 22, 23, 24, 25, 26, 27, 28, 29]\n",
            "25 [21, 22, 23, 24, 25, 26, 27, 28, 29, 30]\n",
            "26 [22, 23, 24, 25, 26, 27, 28, 29, 30, 31]\n",
            "27 [23, 24, 25, 26, 27, 28, 29, 30, 31, 32]\n",
            "28 [24, 25, 26, 27, 28, 29, 30, 31, 32, 33]\n",
            "29 [25, 26, 27, 28, 29, 30, 31, 32, 33, 34]\n",
            "30 [26, 27, 28, 29, 30, 31, 32, 33, 34, 35]\n",
            "31 [27, 28, 29, 30, 31, 32, 33, 34, 35, 36]\n",
            "32 [28, 29, 30, 31, 32, 33, 34, 35, 36, 37]\n",
            "33 [29, 30, 31, 32, 33, 34, 35, 36, 37, 38]\n",
            "34 [30, 31, 32, 33, 34, 35, 36, 37, 38, 39]\n",
            "35 [31, 32, 33, 34, 35, 36, 37, 38, 39, 40]\n",
            "36 [32, 33, 34, 35, 36, 37, 38, 39, 40, 41]\n",
            "37 [33, 34, 35, 36, 37, 38, 39, 40, 41, 42]\n",
            "38 [34, 35, 36, 37, 38, 39, 40, 41, 42, 43]\n",
            "39 [35, 36, 37, 38, 39, 40, 41, 42, 43, 44]\n",
            "40 [36, 37, 38, 39, 40, 41, 42, 43, 44, 45]\n",
            "41 [37, 38, 39, 40, 41, 42, 43, 44, 45, 46]\n",
            "42 [38, 39, 40, 41, 42, 43, 44, 45, 46, 47]\n",
            "43 [39, 40, 41, 42, 43, 44, 45, 46, 47, 48]\n",
            "44 [40, 41, 42, 43, 44, 45, 46, 47, 48, 49]\n",
            "45 [41, 42, 43, 44, 45, 46, 47, 48, 49, 50]\n",
            "46 [42, 43, 44, 45, 46, 47, 48, 49, 50, 51]\n",
            "47 [43, 44, 45, 46, 47, 48, 49, 50, 51, 52]\n",
            "48 [44, 45, 46, 47, 48, 49, 50, 51, 52, 53]\n",
            "49 [45, 46, 47, 48, 49, 50, 51, 52, 53, 54]\n",
            "50 [46, 47, 48, 49, 50, 51, 52, 53, 54, 55]\n",
            "51 [47, 48, 49, 50, 51, 52, 53, 54, 55, 56]\n",
            "52 [47, 48, 49, 50, 51, 52, 53, 54, 55, 56]\n",
            "53 [47, 48, 49, 50, 51, 52, 53, 54, 55, 56]\n",
            "54 [47, 48, 49, 50, 51, 52, 53, 54, 55, 56]\n",
            "55 [47, 48, 49, 50, 51, 52, 53, 54, 55, 56]\n",
            "56 [47, 48, 49, 50, 51, 52, 53, 54, 55, 56]\n",
            "241 개, 56 페이지\n"
          ]
        }
      ]
    },
    {
      "cell_type": "code",
      "source": [
        "list(map(lambda x: x.get('href'), daily_news_list))"
      ],
      "metadata": {
        "colab": {
          "base_uri": "https://localhost:8080/"
        },
        "id": "2FILbjBAzg6I",
        "outputId": "aa619054-2956-4763-dd66-7f60825dcec0"
      },
      "execution_count": null,
      "outputs": [
        {
          "output_type": "execute_result",
          "data": {
            "text/plain": [
              "['https://n.news.naver.com/mnews/article/030/0003082171?sid=101',\n",
              " 'https://n.news.naver.com/mnews/article/030/0003082165?sid=105',\n",
              " 'https://n.news.naver.com/mnews/article/030/0003082170?sid=101',\n",
              " 'https://n.news.naver.com/mnews/article/001/0013792446?sid=104',\n",
              " 'https://n.news.naver.com/mnews/article/008/0004858102?sid=105',\n",
              " 'https://n.news.naver.com/mnews/article/001/0013792458?sid=101',\n",
              " 'https://n.news.naver.com/mnews/article/421/0006664158?sid=105',\n",
              " 'https://n.news.naver.com/mnews/article/008/0004858109?sid=101',\n",
              " 'https://n.news.naver.com/mnews/article/021/0002559655?sid=101',\n",
              " 'https://n.news.naver.com/mnews/article/001/0013792476?sid=101',\n",
              " 'https://n.news.naver.com/mnews/article/014/0004977155?sid=104',\n",
              " 'https://n.news.naver.com/mnews/article/003/0011722853?sid=103',\n",
              " 'https://n.news.naver.com/mnews/article/003/0011722858?sid=101',\n",
              " 'https://n.news.naver.com/mnews/article/243/0000041071?sid=101',\n",
              " 'https://n.news.naver.com/mnews/article/024/0000080459?sid=101',\n",
              " 'https://n.news.naver.com/mnews/article/030/0003082177?sid=105',\n",
              " 'https://n.news.naver.com/mnews/article/421/0006664208?sid=104',\n",
              " 'https://n.news.naver.com/mnews/article/031/0000732163?sid=105',\n",
              " 'https://n.news.naver.com/mnews/article/001/0013792489?sid=105',\n",
              " 'https://n.news.naver.com/mnews/article/662/0000015533?sid=105',\n",
              " 'https://n.news.naver.com/mnews/article/052/0001856847?sid=101',\n",
              " 'https://n.news.naver.com/mnews/article/052/0001856848?sid=102',\n",
              " 'https://n.news.naver.com/mnews/article/005/0001591007?sid=105',\n",
              " 'https://n.news.naver.com/mnews/article/003/0011722878?sid=102',\n",
              " 'https://n.news.naver.com/mnews/article/421/0006664228?sid=100',\n",
              " 'https://n.news.naver.com/mnews/article/003/0011722879?sid=105',\n",
              " 'https://n.news.naver.com/mnews/article/008/0004858122?sid=110',\n",
              " 'https://n.news.naver.com/mnews/article/277/0005226111?sid=101',\n",
              " 'https://n.news.naver.com/mnews/article/018/0005436186?sid=100',\n",
              " 'https://n.news.naver.com/mnews/article/469/0000726699?sid=103',\n",
              " 'https://n.news.naver.com/mnews/article/015/0004817133?sid=101',\n",
              " 'https://n.news.naver.com/mnews/article/022/0003789186?sid=102',\n",
              " 'https://n.news.naver.com/mnews/article/308/0000032306?sid=102',\n",
              " 'https://n.news.naver.com/mnews/article/658/0000034611?sid=101',\n",
              " 'https://n.news.naver.com/mnews/article/003/0011722892?sid=102',\n",
              " 'https://n.news.naver.com/mnews/article/119/0002689198?sid=101',\n",
              " 'https://n.news.naver.com/mnews/article/366/0000882454?sid=105',\n",
              " 'https://n.news.naver.com/mnews/article/032/0003208753?sid=105',\n",
              " 'https://n.news.naver.com/mnews/article/119/0002689201?sid=004',\n",
              " 'https://n.news.naver.com/mnews/article/030/0003082183?sid=102',\n",
              " 'https://n.news.naver.com/mnews/article/001/0013792591?sid=105',\n",
              " 'https://n.news.naver.com/mnews/article/018/0005436221?sid=105',\n",
              " 'https://n.news.naver.com/mnews/article/468/0000925618?sid=105',\n",
              " 'https://n.news.naver.com/mnews/article/374/0000325488?sid=101',\n",
              " 'https://n.news.naver.com/mnews/article/011/0004163163?sid=101',\n",
              " 'https://n.news.naver.com/mnews/article/421/0006664273?sid=102',\n",
              " 'https://n.news.naver.com/mnews/article/028/0002629931?sid=104',\n",
              " 'https://n.news.naver.com/mnews/article/366/0000882463?sid=105',\n",
              " 'https://n.news.naver.com/mnews/article/015/0004817142?sid=101',\n",
              " 'https://n.news.naver.com/mnews/article/003/0011722948?sid=101',\n",
              " 'https://n.news.naver.com/mnews/article/021/0002559667?sid=105',\n",
              " 'https://n.news.naver.com/mnews/article/421/0006664313?sid=102',\n",
              " 'https://n.news.naver.com/mnews/article/003/0011723002?sid=101',\n",
              " 'https://n.news.naver.com/mnews/article/052/0001856878?sid=104',\n",
              " 'https://n.news.naver.com/mnews/article/008/0004858144?sid=101',\n",
              " 'https://n.news.naver.com/mnews/article/008/0004858144?sid=101',\n",
              " 'https://n.news.naver.com/mnews/article/366/0000882471?sid=105',\n",
              " 'https://n.news.naver.com/mnews/article/030/0003082191?sid=105',\n",
              " 'https://n.news.naver.com/mnews/article/277/0005226159?sid=101',\n",
              " 'https://n.news.naver.com/mnews/article/014/0004977179?sid=101',\n",
              " 'https://n.news.naver.com/mnews/article/243/0000041082?sid=105',\n",
              " 'https://n.news.naver.com/mnews/article/037/0000032156?sid=101',\n",
              " 'https://n.news.naver.com/mnews/article/037/0000032156?sid=101',\n",
              " 'https://n.news.naver.com/mnews/article/119/0002689211?sid=101',\n",
              " 'https://n.news.naver.com/mnews/article/421/0006664345?sid=105',\n",
              " 'https://n.news.naver.com/mnews/article/421/0006664352?sid=101',\n",
              " 'https://n.news.naver.com/mnews/article/008/0004858153?sid=105',\n",
              " 'https://n.news.naver.com/mnews/article/241/0003260472?sid=101',\n",
              " 'https://n.news.naver.com/mnews/article/018/0005436280?sid=101',\n",
              " 'https://n.news.naver.com/mnews/article/119/0002689214?sid=101',\n",
              " 'https://n.news.naver.com/mnews/article/015/0004817150?sid=102',\n",
              " 'https://n.news.naver.com/mnews/article/366/0000882477?sid=105',\n",
              " 'https://n.news.naver.com/mnews/article/119/0002689215?sid=101',\n",
              " 'https://n.news.naver.com/mnews/article/076/0003977725?sid=105',\n",
              " 'https://n.news.naver.com/mnews/article/001/0013792701?sid=105',\n",
              " 'https://n.news.naver.com/mnews/article/008/0004858159?sid=102',\n",
              " 'https://n.news.naver.com/mnews/article/076/0003977732?sid=105',\n",
              " 'https://n.news.naver.com/mnews/article/050/0000064271?sid=101',\n",
              " 'https://n.news.naver.com/mnews/article/469/0000726717?sid=104',\n",
              " 'https://n.news.naver.com/mnews/article/018/0005436296?sid=105',\n",
              " 'https://n.news.naver.com/mnews/article/468/0000925631?sid=105',\n",
              " 'https://n.news.naver.com/mnews/article/119/0002689230?sid=101',\n",
              " 'https://n.news.naver.com/mnews/article/030/0003082203?sid=101',\n",
              " 'https://n.news.naver.com/mnews/article/008/0004858186?sid=101',\n",
              " 'https://n.news.naver.com/mnews/article/092/0002284429?sid=105',\n",
              " 'https://n.news.naver.com/mnews/article/008/0004858190?sid=104',\n",
              " 'https://n.news.naver.com/mnews/article/138/0002143593?sid=105',\n",
              " 'https://n.news.naver.com/mnews/article/138/0002143592?sid=105',\n",
              " 'https://n.news.naver.com/mnews/article/629/0000203988?sid=105',\n",
              " 'https://n.news.naver.com/mnews/article/001/0013792824?sid=100',\n",
              " 'https://n.news.naver.com/mnews/article/030/0003082206?sid=105',\n",
              " 'https://n.news.naver.com/mnews/article/087/0000955797?sid=100',\n",
              " 'https://n.news.naver.com/mnews/article/014/0004977218?sid=101',\n",
              " 'https://n.news.naver.com/mnews/article/661/0000021427?sid=100',\n",
              " 'https://n.news.naver.com/mnews/article/119/0002689239?sid=101',\n",
              " 'https://n.news.naver.com/mnews/article/014/0004977220?sid=105',\n",
              " 'https://n.news.naver.com/mnews/article/030/0003082209?sid=105',\n",
              " 'https://n.news.naver.com/mnews/article/293/0000042657?sid=105',\n",
              " 'https://n.news.naver.com/mnews/article/003/0011723186?sid=101',\n",
              " 'https://n.news.naver.com/mnews/article/277/0005226213?sid=105',\n",
              " 'https://n.news.naver.com/mnews/article/003/0011723189?sid=102',\n",
              " 'https://n.news.naver.com/mnews/article/025/0003263569?sid=105',\n",
              " 'https://n.news.naver.com/mnews/article/138/0002143599?sid=105',\n",
              " 'https://n.news.naver.com/mnews/article/030/0003082223?sid=105',\n",
              " 'https://n.news.naver.com/mnews/article/009/0005096816?sid=101',\n",
              " 'https://n.news.naver.com/mnews/article/092/0002284442?sid=105',\n",
              " 'https://n.news.naver.com/mnews/article/092/0002284445?sid=105',\n",
              " 'https://n.news.naver.com/mnews/article/421/0006664609?sid=102',\n",
              " 'https://n.news.naver.com/mnews/article/079/0003743884?sid=102',\n",
              " 'https://n.news.naver.com/mnews/article/417/0000900750?sid=101',\n",
              " 'https://n.news.naver.com/mnews/article/032/0003208788?sid=104',\n",
              " 'https://n.news.naver.com/mnews/article/018/0005436354?sid=105',\n",
              " 'https://n.news.naver.com/mnews/article/009/0005096823?sid=101',\n",
              " 'https://n.news.naver.com/mnews/article/008/0004858208?sid=101',\n",
              " 'https://n.news.naver.com/mnews/article/003/0011723279?sid=102',\n",
              " 'https://n.news.naver.com/mnews/article/648/0000014377?sid=105',\n",
              " 'https://n.news.naver.com/mnews/article/022/0003789217?sid=104',\n",
              " 'https://n.news.naver.com/mnews/article/031/0000732192?sid=105',\n",
              " 'https://n.news.naver.com/mnews/article/277/0005226234?sid=101',\n",
              " 'https://n.news.naver.com/mnews/article/138/0002143601?sid=105',\n",
              " 'https://n.news.naver.com/mnews/article/421/0006664657?sid=102',\n",
              " 'https://n.news.naver.com/mnews/article/138/0002143603?sid=105',\n",
              " 'https://n.news.naver.com/mnews/article/052/0001856931?sid=104',\n",
              " 'https://n.news.naver.com/mnews/article/029/0002787242?sid=101',\n",
              " 'https://n.news.naver.com/mnews/article/396/0000637744?sid=105',\n",
              " 'https://n.news.naver.com/mnews/article/469/0000726746?sid=105',\n",
              " 'https://n.news.naver.com/mnews/article/031/0000732197?sid=101',\n",
              " 'https://n.news.naver.com/mnews/article/011/0004163235?sid=104',\n",
              " 'https://n.news.naver.com/mnews/article/003/0011723400?sid=101',\n",
              " 'https://n.news.naver.com/mnews/article/028/0002629958?sid=104',\n",
              " 'https://n.news.naver.com/mnews/article/421/0006664855?sid=102',\n",
              " 'https://n.news.naver.com/mnews/article/018/0005436398?sid=104',\n",
              " 'https://n.news.naver.com/mnews/article/243/0000041095?sid=105',\n",
              " 'https://n.news.naver.com/mnews/article/032/0003208803?sid=101',\n",
              " 'https://n.news.naver.com/mnews/article/014/0004977264?sid=102',\n",
              " 'https://n.news.naver.com/mnews/article/014/0004977265?sid=105',\n",
              " 'https://n.news.naver.com/mnews/article/009/0005096848?sid=101',\n",
              " 'https://n.news.naver.com/mnews/article/021/0002559699?sid=102',\n",
              " 'https://n.news.naver.com/mnews/article/123/0002298916?sid=104',\n",
              " 'https://n.news.naver.com/mnews/article/011/0004163254?sid=104',\n",
              " 'https://n.news.naver.com/mnews/article/654/0000033990?sid=102',\n",
              " 'https://n.news.naver.com/mnews/article/277/0005226246?sid=105',\n",
              " 'https://n.news.naver.com/mnews/article/018/0005436411?sid=105',\n",
              " 'https://n.news.naver.com/mnews/article/011/0004163258?sid=104',\n",
              " 'https://n.news.naver.com/mnews/article/001/0013793399?sid=102',\n",
              " 'https://n.news.naver.com/mnews/article/008/0004858234?sid=101',\n",
              " 'https://n.news.naver.com/mnews/article/030/0003082252?sid=105',\n",
              " 'https://n.news.naver.com/mnews/article/030/0003082257?sid=110',\n",
              " 'https://n.news.naver.com/mnews/article/030/0003082251?sid=105',\n",
              " 'https://n.news.naver.com/mnews/article/018/0005436421?sid=101',\n",
              " 'https://n.news.naver.com/mnews/article/009/0005096876?sid=105',\n",
              " 'https://n.news.naver.com/mnews/article/003/0011723558?sid=102',\n",
              " 'https://n.news.naver.com/mnews/article/123/0002298917?sid=101',\n",
              " 'https://n.news.naver.com/mnews/article/088/0000801748?sid=101',\n",
              " 'https://n.news.naver.com/mnews/article/088/0000801746?sid=101',\n",
              " 'https://n.news.naver.com/mnews/article/005/0001591085?sid=105',\n",
              " 'https://n.news.naver.com/mnews/article/009/0005096888?sid=100',\n",
              " 'https://n.news.naver.com/mnews/article/025/0003263607?sid=104',\n",
              " 'https://n.news.naver.com/mnews/article/020/0003483283?sid=104',\n",
              " 'https://n.news.naver.com/mnews/article/009/0005096895?sid=105',\n",
              " 'https://n.news.naver.com/mnews/article/008/0004858242?sid=101',\n",
              " 'https://n.news.naver.com/mnews/article/469/0000726771?sid=105',\n",
              " 'https://n.news.naver.com/mnews/article/088/0000801761?sid=101',\n",
              " 'https://n.news.naver.com/mnews/article/030/0003082264?sid=101',\n",
              " 'https://n.news.naver.com/mnews/article/009/0005096911?sid=110',\n",
              " 'https://n.news.naver.com/mnews/article/028/0002629980?sid=101',\n",
              " 'https://n.news.naver.com/mnews/article/011/0004163295?sid=105',\n",
              " 'https://n.news.naver.com/mnews/article/009/0005096954?sid=101',\n",
              " 'https://n.news.naver.com/mnews/article/009/0005096955?sid=104',\n",
              " 'https://n.news.naver.com/mnews/article/018/0005436444?sid=105',\n",
              " 'https://n.news.naver.com/mnews/article/030/0003082265?sid=102',\n",
              " 'https://n.news.naver.com/mnews/article/009/0005096967?sid=110',\n",
              " 'https://n.news.naver.com/mnews/article/009/0005096974?sid=105',\n",
              " 'https://n.news.naver.com/mnews/article/366/0000882528?sid=105',\n",
              " 'https://n.news.naver.com/mnews/article/009/0005096984?sid=104',\n",
              " 'https://n.news.naver.com/mnews/article/005/0001591105?sid=101',\n",
              " 'https://n.news.naver.com/mnews/article/011/0004163302?sid=101',\n",
              " 'https://n.news.naver.com/mnews/article/082/0001200887?sid=102',\n",
              " 'https://n.news.naver.com/mnews/article/011/0004163315?sid=101',\n",
              " 'https://n.news.naver.com/mnews/article/421/0006665044?sid=101',\n",
              " 'https://n.news.naver.com/mnews/article/469/0000726785?sid=104',\n",
              " 'https://n.news.naver.com/mnews/article/011/0004163329?sid=101',\n",
              " 'https://n.news.naver.com/mnews/article/011/0004163330?sid=102',\n",
              " 'https://n.news.naver.com/mnews/article/014/0004977304?sid=101',\n",
              " 'https://n.news.naver.com/mnews/article/014/0004977305?sid=105',\n",
              " 'https://n.news.naver.com/mnews/article/015/0004817249?sid=102',\n",
              " 'https://n.news.naver.com/mnews/article/015/0004817247?sid=102',\n",
              " 'https://n.news.naver.com/mnews/article/022/0003789268?sid=104',\n",
              " 'https://n.news.naver.com/mnews/article/011/0004163335?sid=101',\n",
              " 'https://n.news.naver.com/mnews/article/011/0004163336?sid=101',\n",
              " 'https://n.news.naver.com/mnews/article/015/0004817260?sid=101',\n",
              " 'https://n.news.naver.com/mnews/article/011/0004163339?sid=105',\n",
              " 'https://n.news.naver.com/mnews/article/015/0004817264?sid=105',\n",
              " 'https://n.news.naver.com/mnews/article/011/0004163338?sid=105',\n",
              " 'https://n.news.naver.com/mnews/article/015/0004817271?sid=101',\n",
              " 'https://n.news.naver.com/mnews/article/015/0004817267?sid=101',\n",
              " 'https://n.news.naver.com/mnews/article/015/0004817274?sid=104',\n",
              " 'https://n.news.naver.com/mnews/article/015/0004817272?sid=101',\n",
              " 'https://n.news.naver.com/mnews/article/029/0002787284?sid=101',\n",
              " 'https://n.news.naver.com/mnews/article/011/0004163343?sid=101',\n",
              " 'https://n.news.naver.com/mnews/article/025/0003263631?sid=101',\n",
              " 'https://n.news.naver.com/mnews/article/008/0004858251?sid=102',\n",
              " 'https://n.news.naver.com/mnews/article/014/0004977349?sid=101',\n",
              " 'https://n.news.naver.com/mnews/article/015/0004817288?sid=101',\n",
              " 'https://n.news.naver.com/mnews/article/015/0004817289?sid=101',\n",
              " 'https://n.news.naver.com/mnews/article/028/0002629998?sid=110',\n",
              " 'https://n.news.naver.com/mnews/article/015/0004817293?sid=102',\n",
              " 'https://n.news.naver.com/mnews/article/014/0004977359?sid=105',\n",
              " 'https://n.news.naver.com/mnews/article/014/0004977360?sid=102',\n",
              " 'https://n.news.naver.com/mnews/article/001/0013793551?sid=104',\n",
              " 'https://n.news.naver.com/mnews/article/014/0004977361?sid=105',\n",
              " 'https://n.news.naver.com/mnews/article/015/0004817308?sid=101',\n",
              " 'https://n.news.naver.com/mnews/article/015/0004817309?sid=105',\n",
              " 'https://n.news.naver.com/mnews/article/052/0001856981?sid=101',\n",
              " 'https://n.news.naver.com/mnews/article/382/0001036611?sid=102',\n",
              " 'https://n.news.naver.com/mnews/article/014/0004977377?sid=103',\n",
              " 'https://n.news.naver.com/mnews/article/215/0001086729?sid=101',\n",
              " 'https://n.news.naver.com/mnews/article/020/0003483294?sid=104',\n",
              " 'https://n.news.naver.com/mnews/article/666/0000005278?sid=100',\n",
              " 'https://n.news.naver.com/mnews/article/215/0001086730?sid=104',\n",
              " 'https://n.news.naver.com/mnews/article/277/0005226271?sid=104',\n",
              " 'https://n.news.naver.com/mnews/article/656/0000043836?sid=102',\n",
              " 'https://n.news.naver.com/mnews/article/448/0000398126?sid=101',\n",
              " 'https://n.news.naver.com/mnews/article/029/0002787309?sid=105',\n",
              " 'https://n.news.naver.com/mnews/article/029/0002787311?sid=105',\n",
              " 'https://n.news.naver.com/mnews/article/029/0002787318?sid=105',\n",
              " 'https://n.news.naver.com/mnews/article/032/0003208842?sid=101',\n",
              " 'https://n.news.naver.com/mnews/article/025/0003263645?sid=101',\n",
              " 'https://n.news.naver.com/mnews/article/640/0000035732?sid=110',\n",
              " 'https://n.news.naver.com/mnews/article/008/0004858260?sid=105',\n",
              " 'https://n.news.naver.com/mnews/article/022/0003789305?sid=101',\n",
              " 'https://n.news.naver.com/mnews/article/138/0002143606?sid=105',\n",
              " 'https://n.news.naver.com/mnews/article/081/0003343775?sid=104',\n",
              " 'https://n.news.naver.com/mnews/article/020/0003483306?sid=110',\n",
              " 'https://n.news.naver.com/mnews/article/032/0003208885?sid=104',\n",
              " 'https://n.news.naver.com/mnews/article/032/0003208890?sid=105',\n",
              " 'https://n.news.naver.com/mnews/article/109/0004801365?sid=106',\n",
              " 'https://n.news.naver.com/mnews/article/032/0003208898?sid=101',\n",
              " 'https://n.news.naver.com/mnews/article/009/0005097033?sid=101',\n",
              " 'https://n.news.naver.com/mnews/article/052/0001857042?sid=101',\n",
              " 'https://n.news.naver.com/mnews/article/109/0004801385?sid=106']"
            ]
          },
          "metadata": {},
          "execution_count": 32
        }
      ]
    },
    {
      "cell_type": "code",
      "source": [
        "# 뉴스 URL 수집 | 모든 페이지\n",
        "url = 'https://search.naver.com/search.naver'\n",
        "params = parse_qs(urlparse(tmp_url).query)\n",
        "\n",
        "news_url_list = []\n",
        "for date in date_list:\n",
        "    params['start'] = 1\n",
        "\n",
        "    date_string = date.strftime('%Y.%m.%d')\n",
        "    params['ds'] = date_string\n",
        "    params['de'] = date_string\n",
        "    params['nso'] = 'so:r,p:from{fr}to{to}'.format(fr = date.strftime('%Y%m%d'), to = date.strftime('%Y%m%d'))\n",
        "    time.sleep(1)\n",
        "    \n",
        "    print(date_string)\n",
        "    daily_news_list = get_daily_news(url, params)\n",
        "    news_url_list.extend(daily_news_list)\n",
        "\n",
        "# 1주일 분량에 46분 30초 소요"
      ],
      "metadata": {
        "id": "us1AAcfjP6Yc",
        "colab": {
          "base_uri": "https://localhost:8080/",
          "height": 648
        },
        "outputId": "5bd296c2-19a7-4a6d-94a2-a4ba0995fd36"
      },
      "execution_count": null,
      "outputs": [
        {
          "output_type": "stream",
          "name": "stdout",
          "text": [
            "2023.03.05\n",
            "1 [1, 2, 3, 4, 5, 6, 7, 8, 9, 10]\n",
            "2 [1, 2, 3, 4, 5, 6, 7, 8, 9, 10]\n",
            "3 [1, 2, 3, 4, 5, 6, 7, 8, 9, 10]\n",
            "4 [1, 2, 3, 4, 5, 6, 7, 8, 9, 10]\n",
            "5 [1, 2, 3, 4, 5, 6, 7, 8, 9, 10]\n",
            "6 [2, 3, 4, 5, 6, 7, 8, 9, 10, 11]\n",
            "7 [3, 4, 5, 6, 7, 8, 9, 10, 11, 12]\n",
            "8 [4, 5, 6, 7, 8, 9, 10, 11, 12, 13]\n",
            "9 [5, 6, 7, 8, 9, 10, 11, 12, 13, 14]\n",
            "10 [6, 7, 8, 9, 10, 11, 12, 13, 14, 15]\n",
            "11 [7, 8, 9, 10, 11, 12, 13, 14, 15, 16]\n"
          ]
        },
        {
          "output_type": "error",
          "ename": "KeyboardInterrupt",
          "evalue": "ignored",
          "traceback": [
            "\u001b[0;31m---------------------------------------------------------------------------\u001b[0m",
            "\u001b[0;31mKeyboardInterrupt\u001b[0m                         Traceback (most recent call last)",
            "\u001b[0;32m<ipython-input-33-eb1ed4e1f28b>\u001b[0m in \u001b[0;36m<module>\u001b[0;34m\u001b[0m\n\u001b[1;32m     14\u001b[0m \u001b[0;34m\u001b[0m\u001b[0m\n\u001b[1;32m     15\u001b[0m     \u001b[0mprint\u001b[0m\u001b[0;34m(\u001b[0m\u001b[0mdate_string\u001b[0m\u001b[0;34m)\u001b[0m\u001b[0;34m\u001b[0m\u001b[0;34m\u001b[0m\u001b[0m\n\u001b[0;32m---> 16\u001b[0;31m     \u001b[0mdaily_news_list\u001b[0m \u001b[0;34m=\u001b[0m \u001b[0mget_daily_news\u001b[0m\u001b[0;34m(\u001b[0m\u001b[0murl\u001b[0m\u001b[0;34m,\u001b[0m \u001b[0mparams\u001b[0m\u001b[0;34m)\u001b[0m\u001b[0;34m\u001b[0m\u001b[0;34m\u001b[0m\u001b[0m\n\u001b[0m\u001b[1;32m     17\u001b[0m     \u001b[0mnews_url_list\u001b[0m\u001b[0;34m.\u001b[0m\u001b[0mextend\u001b[0m\u001b[0;34m(\u001b[0m\u001b[0mdaily_news_list\u001b[0m\u001b[0;34m)\u001b[0m\u001b[0;34m\u001b[0m\u001b[0;34m\u001b[0m\u001b[0m\n\u001b[1;32m     18\u001b[0m \u001b[0;34m\u001b[0m\u001b[0m\n",
            "\u001b[0;32m<ipython-input-30-9b0a8f7a656b>\u001b[0m in \u001b[0;36mget_daily_news\u001b[0;34m(url, params)\u001b[0m\n\u001b[1;32m      8\u001b[0m     \u001b[0;32mwhile\u001b[0m \u001b[0mn\u001b[0m \u001b[0;32min\u001b[0m \u001b[0mpage_list\u001b[0m\u001b[0;34m:\u001b[0m\u001b[0;34m\u001b[0m\u001b[0;34m\u001b[0m\u001b[0m\n\u001b[1;32m      9\u001b[0m \u001b[0;34m\u001b[0m\u001b[0m\n\u001b[0;32m---> 10\u001b[0;31m       \u001b[0msoup\u001b[0m \u001b[0;34m=\u001b[0m \u001b[0mget_soup\u001b[0m\u001b[0;34m(\u001b[0m\u001b[0murl\u001b[0m\u001b[0;34m,\u001b[0m \u001b[0mparams\u001b[0m\u001b[0;34m)\u001b[0m\u001b[0;34m\u001b[0m\u001b[0;34m\u001b[0m\u001b[0m\n\u001b[0m\u001b[1;32m     11\u001b[0m       \u001b[0mnews_url_list_part\u001b[0m \u001b[0;34m=\u001b[0m \u001b[0mget_news_url_list\u001b[0m\u001b[0;34m(\u001b[0m\u001b[0msoup\u001b[0m\u001b[0;34m)\u001b[0m\u001b[0;34m\u001b[0m\u001b[0;34m\u001b[0m\u001b[0m\n\u001b[1;32m     12\u001b[0m       \u001b[0mnews_url_list\u001b[0m\u001b[0;34m.\u001b[0m\u001b[0mextend\u001b[0m\u001b[0;34m(\u001b[0m\u001b[0mnews_url_list_part\u001b[0m\u001b[0;34m)\u001b[0m\u001b[0;34m\u001b[0m\u001b[0;34m\u001b[0m\u001b[0m\n",
            "\u001b[0;32m<ipython-input-20-4ce2ceb22fb7>\u001b[0m in \u001b[0;36mget_soup\u001b[0;34m(url, params)\u001b[0m\n\u001b[1;32m      4\u001b[0m \u001b[0;34m\u001b[0m\u001b[0m\n\u001b[1;32m      5\u001b[0m     \u001b[0mhtml\u001b[0m \u001b[0;34m=\u001b[0m \u001b[0mres\u001b[0m\u001b[0;34m.\u001b[0m\u001b[0mtext\u001b[0m\u001b[0;34m\u001b[0m\u001b[0;34m\u001b[0m\u001b[0m\n\u001b[0;32m----> 6\u001b[0;31m     \u001b[0msoup\u001b[0m \u001b[0;34m=\u001b[0m \u001b[0mBeautifulSoup\u001b[0m\u001b[0;34m(\u001b[0m\u001b[0mhtml\u001b[0m\u001b[0;34m,\u001b[0m \u001b[0;34m'html.parser'\u001b[0m\u001b[0;34m)\u001b[0m\u001b[0;34m\u001b[0m\u001b[0;34m\u001b[0m\u001b[0m\n\u001b[0m\u001b[1;32m      7\u001b[0m     \u001b[0;32mreturn\u001b[0m \u001b[0msoup\u001b[0m\u001b[0;34m\u001b[0m\u001b[0;34m\u001b[0m\u001b[0m\n",
            "\u001b[0;32m/usr/local/lib/python3.9/dist-packages/bs4/__init__.py\u001b[0m in \u001b[0;36m__init__\u001b[0;34m(self, markup, features, builder, parse_only, from_encoding, exclude_encodings, **kwargs)\u001b[0m\n\u001b[1;32m    280\u001b[0m             \u001b[0mself\u001b[0m\u001b[0;34m.\u001b[0m\u001b[0mreset\u001b[0m\u001b[0;34m(\u001b[0m\u001b[0;34m)\u001b[0m\u001b[0;34m\u001b[0m\u001b[0;34m\u001b[0m\u001b[0m\n\u001b[1;32m    281\u001b[0m             \u001b[0;32mtry\u001b[0m\u001b[0;34m:\u001b[0m\u001b[0;34m\u001b[0m\u001b[0;34m\u001b[0m\u001b[0m\n\u001b[0;32m--> 282\u001b[0;31m                 \u001b[0mself\u001b[0m\u001b[0;34m.\u001b[0m\u001b[0m_feed\u001b[0m\u001b[0;34m(\u001b[0m\u001b[0;34m)\u001b[0m\u001b[0;34m\u001b[0m\u001b[0;34m\u001b[0m\u001b[0m\n\u001b[0m\u001b[1;32m    283\u001b[0m                 \u001b[0;32mbreak\u001b[0m\u001b[0;34m\u001b[0m\u001b[0;34m\u001b[0m\u001b[0m\n\u001b[1;32m    284\u001b[0m             \u001b[0;32mexcept\u001b[0m \u001b[0mParserRejectedMarkup\u001b[0m\u001b[0;34m:\u001b[0m\u001b[0;34m\u001b[0m\u001b[0;34m\u001b[0m\u001b[0m\n",
            "\u001b[0;32m/usr/local/lib/python3.9/dist-packages/bs4/__init__.py\u001b[0m in \u001b[0;36m_feed\u001b[0;34m(self)\u001b[0m\n\u001b[1;32m    341\u001b[0m         \u001b[0mself\u001b[0m\u001b[0;34m.\u001b[0m\u001b[0mbuilder\u001b[0m\u001b[0;34m.\u001b[0m\u001b[0mreset\u001b[0m\u001b[0;34m(\u001b[0m\u001b[0;34m)\u001b[0m\u001b[0;34m\u001b[0m\u001b[0;34m\u001b[0m\u001b[0m\n\u001b[1;32m    342\u001b[0m \u001b[0;34m\u001b[0m\u001b[0m\n\u001b[0;32m--> 343\u001b[0;31m         \u001b[0mself\u001b[0m\u001b[0;34m.\u001b[0m\u001b[0mbuilder\u001b[0m\u001b[0;34m.\u001b[0m\u001b[0mfeed\u001b[0m\u001b[0;34m(\u001b[0m\u001b[0mself\u001b[0m\u001b[0;34m.\u001b[0m\u001b[0mmarkup\u001b[0m\u001b[0;34m)\u001b[0m\u001b[0;34m\u001b[0m\u001b[0;34m\u001b[0m\u001b[0m\n\u001b[0m\u001b[1;32m    344\u001b[0m         \u001b[0;31m# Close out any unfinished strings and close all the open tags.\u001b[0m\u001b[0;34m\u001b[0m\u001b[0;34m\u001b[0m\u001b[0m\n\u001b[1;32m    345\u001b[0m         \u001b[0mself\u001b[0m\u001b[0;34m.\u001b[0m\u001b[0mendData\u001b[0m\u001b[0;34m(\u001b[0m\u001b[0;34m)\u001b[0m\u001b[0;34m\u001b[0m\u001b[0;34m\u001b[0m\u001b[0m\n",
            "\u001b[0;32m/usr/local/lib/python3.9/dist-packages/bs4/builder/_htmlparser.py\u001b[0m in \u001b[0;36mfeed\u001b[0;34m(self, markup)\u001b[0m\n\u001b[1;32m    245\u001b[0m         \u001b[0mparser\u001b[0m\u001b[0;34m.\u001b[0m\u001b[0msoup\u001b[0m \u001b[0;34m=\u001b[0m \u001b[0mself\u001b[0m\u001b[0;34m.\u001b[0m\u001b[0msoup\u001b[0m\u001b[0;34m\u001b[0m\u001b[0;34m\u001b[0m\u001b[0m\n\u001b[1;32m    246\u001b[0m         \u001b[0;32mtry\u001b[0m\u001b[0;34m:\u001b[0m\u001b[0;34m\u001b[0m\u001b[0;34m\u001b[0m\u001b[0m\n\u001b[0;32m--> 247\u001b[0;31m             \u001b[0mparser\u001b[0m\u001b[0;34m.\u001b[0m\u001b[0mfeed\u001b[0m\u001b[0;34m(\u001b[0m\u001b[0mmarkup\u001b[0m\u001b[0;34m)\u001b[0m\u001b[0;34m\u001b[0m\u001b[0;34m\u001b[0m\u001b[0m\n\u001b[0m\u001b[1;32m    248\u001b[0m             \u001b[0mparser\u001b[0m\u001b[0;34m.\u001b[0m\u001b[0mclose\u001b[0m\u001b[0;34m(\u001b[0m\u001b[0;34m)\u001b[0m\u001b[0;34m\u001b[0m\u001b[0;34m\u001b[0m\u001b[0m\n\u001b[1;32m    249\u001b[0m         \u001b[0;32mexcept\u001b[0m \u001b[0mHTMLParseError\u001b[0m \u001b[0;32mas\u001b[0m \u001b[0me\u001b[0m\u001b[0;34m:\u001b[0m\u001b[0;34m\u001b[0m\u001b[0;34m\u001b[0m\u001b[0m\n",
            "\u001b[0;32m/usr/lib/python3.9/html/parser.py\u001b[0m in \u001b[0;36mfeed\u001b[0;34m(self, data)\u001b[0m\n\u001b[1;32m    108\u001b[0m         \"\"\"\n\u001b[1;32m    109\u001b[0m         \u001b[0mself\u001b[0m\u001b[0;34m.\u001b[0m\u001b[0mrawdata\u001b[0m \u001b[0;34m=\u001b[0m \u001b[0mself\u001b[0m\u001b[0;34m.\u001b[0m\u001b[0mrawdata\u001b[0m \u001b[0;34m+\u001b[0m \u001b[0mdata\u001b[0m\u001b[0;34m\u001b[0m\u001b[0;34m\u001b[0m\u001b[0m\n\u001b[0;32m--> 110\u001b[0;31m         \u001b[0mself\u001b[0m\u001b[0;34m.\u001b[0m\u001b[0mgoahead\u001b[0m\u001b[0;34m(\u001b[0m\u001b[0;36m0\u001b[0m\u001b[0;34m)\u001b[0m\u001b[0;34m\u001b[0m\u001b[0;34m\u001b[0m\u001b[0m\n\u001b[0m\u001b[1;32m    111\u001b[0m \u001b[0;34m\u001b[0m\u001b[0m\n\u001b[1;32m    112\u001b[0m     \u001b[0;32mdef\u001b[0m \u001b[0mclose\u001b[0m\u001b[0;34m(\u001b[0m\u001b[0mself\u001b[0m\u001b[0;34m)\u001b[0m\u001b[0;34m:\u001b[0m\u001b[0;34m\u001b[0m\u001b[0;34m\u001b[0m\u001b[0m\n",
            "\u001b[0;32m/usr/lib/python3.9/html/parser.py\u001b[0m in \u001b[0;36mgoahead\u001b[0;34m(self, end)\u001b[0m\n\u001b[1;32m    168\u001b[0m             \u001b[0;32mif\u001b[0m \u001b[0mstartswith\u001b[0m\u001b[0;34m(\u001b[0m\u001b[0;34m'<'\u001b[0m\u001b[0;34m,\u001b[0m \u001b[0mi\u001b[0m\u001b[0;34m)\u001b[0m\u001b[0;34m:\u001b[0m\u001b[0;34m\u001b[0m\u001b[0;34m\u001b[0m\u001b[0m\n\u001b[1;32m    169\u001b[0m                 \u001b[0;32mif\u001b[0m \u001b[0mstarttagopen\u001b[0m\u001b[0;34m.\u001b[0m\u001b[0mmatch\u001b[0m\u001b[0;34m(\u001b[0m\u001b[0mrawdata\u001b[0m\u001b[0;34m,\u001b[0m \u001b[0mi\u001b[0m\u001b[0;34m)\u001b[0m\u001b[0;34m:\u001b[0m \u001b[0;31m# < + letter\u001b[0m\u001b[0;34m\u001b[0m\u001b[0;34m\u001b[0m\u001b[0m\n\u001b[0;32m--> 170\u001b[0;31m                     \u001b[0mk\u001b[0m \u001b[0;34m=\u001b[0m \u001b[0mself\u001b[0m\u001b[0;34m.\u001b[0m\u001b[0mparse_starttag\u001b[0m\u001b[0;34m(\u001b[0m\u001b[0mi\u001b[0m\u001b[0;34m)\u001b[0m\u001b[0;34m\u001b[0m\u001b[0;34m\u001b[0m\u001b[0m\n\u001b[0m\u001b[1;32m    171\u001b[0m                 \u001b[0;32melif\u001b[0m \u001b[0mstartswith\u001b[0m\u001b[0;34m(\u001b[0m\u001b[0;34m\"</\"\u001b[0m\u001b[0;34m,\u001b[0m \u001b[0mi\u001b[0m\u001b[0;34m)\u001b[0m\u001b[0;34m:\u001b[0m\u001b[0;34m\u001b[0m\u001b[0;34m\u001b[0m\u001b[0m\n\u001b[1;32m    172\u001b[0m                     \u001b[0mk\u001b[0m \u001b[0;34m=\u001b[0m \u001b[0mself\u001b[0m\u001b[0;34m.\u001b[0m\u001b[0mparse_endtag\u001b[0m\u001b[0;34m(\u001b[0m\u001b[0mi\u001b[0m\u001b[0;34m)\u001b[0m\u001b[0;34m\u001b[0m\u001b[0;34m\u001b[0m\u001b[0m\n",
            "\u001b[0;32m/usr/lib/python3.9/html/parser.py\u001b[0m in \u001b[0;36mparse_starttag\u001b[0;34m(self, i)\u001b[0m\n\u001b[1;32m    342\u001b[0m             \u001b[0mself\u001b[0m\u001b[0;34m.\u001b[0m\u001b[0mhandle_startendtag\u001b[0m\u001b[0;34m(\u001b[0m\u001b[0mtag\u001b[0m\u001b[0;34m,\u001b[0m \u001b[0mattrs\u001b[0m\u001b[0;34m)\u001b[0m\u001b[0;34m\u001b[0m\u001b[0;34m\u001b[0m\u001b[0m\n\u001b[1;32m    343\u001b[0m         \u001b[0;32melse\u001b[0m\u001b[0;34m:\u001b[0m\u001b[0;34m\u001b[0m\u001b[0;34m\u001b[0m\u001b[0m\n\u001b[0;32m--> 344\u001b[0;31m             \u001b[0mself\u001b[0m\u001b[0;34m.\u001b[0m\u001b[0mhandle_starttag\u001b[0m\u001b[0;34m(\u001b[0m\u001b[0mtag\u001b[0m\u001b[0;34m,\u001b[0m \u001b[0mattrs\u001b[0m\u001b[0;34m)\u001b[0m\u001b[0;34m\u001b[0m\u001b[0;34m\u001b[0m\u001b[0m\n\u001b[0m\u001b[1;32m    345\u001b[0m             \u001b[0;32mif\u001b[0m \u001b[0mtag\u001b[0m \u001b[0;32min\u001b[0m \u001b[0mself\u001b[0m\u001b[0;34m.\u001b[0m\u001b[0mCDATA_CONTENT_ELEMENTS\u001b[0m\u001b[0;34m:\u001b[0m\u001b[0;34m\u001b[0m\u001b[0;34m\u001b[0m\u001b[0m\n\u001b[1;32m    346\u001b[0m                 \u001b[0mself\u001b[0m\u001b[0;34m.\u001b[0m\u001b[0mset_cdata_mode\u001b[0m\u001b[0;34m(\u001b[0m\u001b[0mtag\u001b[0m\u001b[0;34m)\u001b[0m\u001b[0;34m\u001b[0m\u001b[0;34m\u001b[0m\u001b[0m\n",
            "\u001b[0;32m/usr/local/lib/python3.9/dist-packages/bs4/builder/_htmlparser.py\u001b[0m in \u001b[0;36mhandle_starttag\u001b[0;34m(self, name, attrs, handle_empty_element)\u001b[0m\n\u001b[1;32m    100\u001b[0m             \u001b[0mattrvalue\u001b[0m \u001b[0;34m=\u001b[0m \u001b[0;34m'\"\"'\u001b[0m\u001b[0;34m\u001b[0m\u001b[0;34m\u001b[0m\u001b[0m\n\u001b[1;32m    101\u001b[0m         \u001b[0;31m#print \"START\", name\u001b[0m\u001b[0;34m\u001b[0m\u001b[0;34m\u001b[0m\u001b[0m\n\u001b[0;32m--> 102\u001b[0;31m         \u001b[0mtag\u001b[0m \u001b[0;34m=\u001b[0m \u001b[0mself\u001b[0m\u001b[0;34m.\u001b[0m\u001b[0msoup\u001b[0m\u001b[0;34m.\u001b[0m\u001b[0mhandle_starttag\u001b[0m\u001b[0;34m(\u001b[0m\u001b[0mname\u001b[0m\u001b[0;34m,\u001b[0m \u001b[0;32mNone\u001b[0m\u001b[0;34m,\u001b[0m \u001b[0;32mNone\u001b[0m\u001b[0;34m,\u001b[0m \u001b[0mattr_dict\u001b[0m\u001b[0;34m)\u001b[0m\u001b[0;34m\u001b[0m\u001b[0;34m\u001b[0m\u001b[0m\n\u001b[0m\u001b[1;32m    103\u001b[0m         \u001b[0;32mif\u001b[0m \u001b[0mtag\u001b[0m \u001b[0;32mand\u001b[0m \u001b[0mtag\u001b[0m\u001b[0;34m.\u001b[0m\u001b[0mis_empty_element\u001b[0m \u001b[0;32mand\u001b[0m \u001b[0mhandle_empty_element\u001b[0m\u001b[0;34m:\u001b[0m\u001b[0;34m\u001b[0m\u001b[0;34m\u001b[0m\u001b[0m\n\u001b[1;32m    104\u001b[0m             \u001b[0;31m# Unlike other parsers, html.parser doesn't send separate end tag\u001b[0m\u001b[0;34m\u001b[0m\u001b[0;34m\u001b[0m\u001b[0m\n",
            "\u001b[0;32m/usr/local/lib/python3.9/dist-packages/bs4/__init__.py\u001b[0m in \u001b[0;36mhandle_starttag\u001b[0;34m(self, name, namespace, nsprefix, attrs)\u001b[0m\n\u001b[1;32m    517\u001b[0m             \u001b[0;32mreturn\u001b[0m \u001b[0;32mNone\u001b[0m\u001b[0;34m\u001b[0m\u001b[0;34m\u001b[0m\u001b[0m\n\u001b[1;32m    518\u001b[0m \u001b[0;34m\u001b[0m\u001b[0m\n\u001b[0;32m--> 519\u001b[0;31m         tag = Tag(self, self.builder, name, namespace, nsprefix, attrs,\n\u001b[0m\u001b[1;32m    520\u001b[0m                   self.currentTag, self._most_recent_element)\n\u001b[1;32m    521\u001b[0m         \u001b[0;32mif\u001b[0m \u001b[0mtag\u001b[0m \u001b[0;32mis\u001b[0m \u001b[0;32mNone\u001b[0m\u001b[0;34m:\u001b[0m\u001b[0;34m\u001b[0m\u001b[0;34m\u001b[0m\u001b[0m\n",
            "\u001b[0;32m/usr/local/lib/python3.9/dist-packages/bs4/element.py\u001b[0m in \u001b[0;36m__init__\u001b[0;34m(self, parser, builder, name, namespace, prefix, attrs, parent, previous, is_xml)\u001b[0m\n\u001b[1;32m    914\u001b[0m         \u001b[0mself\u001b[0m\u001b[0;34m.\u001b[0m\u001b[0mattrs\u001b[0m \u001b[0;34m=\u001b[0m \u001b[0mattrs\u001b[0m\u001b[0;34m\u001b[0m\u001b[0;34m\u001b[0m\u001b[0m\n\u001b[1;32m    915\u001b[0m         \u001b[0mself\u001b[0m\u001b[0;34m.\u001b[0m\u001b[0mcontents\u001b[0m \u001b[0;34m=\u001b[0m \u001b[0;34m[\u001b[0m\u001b[0;34m]\u001b[0m\u001b[0;34m\u001b[0m\u001b[0;34m\u001b[0m\u001b[0m\n\u001b[0;32m--> 916\u001b[0;31m         \u001b[0mself\u001b[0m\u001b[0;34m.\u001b[0m\u001b[0msetup\u001b[0m\u001b[0;34m(\u001b[0m\u001b[0mparent\u001b[0m\u001b[0;34m,\u001b[0m \u001b[0mprevious\u001b[0m\u001b[0;34m)\u001b[0m\u001b[0;34m\u001b[0m\u001b[0;34m\u001b[0m\u001b[0m\n\u001b[0m\u001b[1;32m    917\u001b[0m         \u001b[0mself\u001b[0m\u001b[0;34m.\u001b[0m\u001b[0mhidden\u001b[0m \u001b[0;34m=\u001b[0m \u001b[0;32mFalse\u001b[0m\u001b[0;34m\u001b[0m\u001b[0;34m\u001b[0m\u001b[0m\n\u001b[1;32m    918\u001b[0m \u001b[0;34m\u001b[0m\u001b[0m\n",
            "\u001b[0;32m/usr/local/lib/python3.9/dist-packages/bs4/element.py\u001b[0m in \u001b[0;36msetup\u001b[0;34m(self, parent, previous_element, next_element, previous_sibling, next_sibling)\u001b[0m\n\u001b[1;32m    260\u001b[0m             \u001b[0mself\u001b[0m\u001b[0;34m.\u001b[0m\u001b[0mnext_element\u001b[0m\u001b[0;34m.\u001b[0m\u001b[0mprevious_element\u001b[0m \u001b[0;34m=\u001b[0m \u001b[0mself\u001b[0m\u001b[0;34m\u001b[0m\u001b[0;34m\u001b[0m\u001b[0m\n\u001b[1;32m    261\u001b[0m \u001b[0;34m\u001b[0m\u001b[0m\n\u001b[0;32m--> 262\u001b[0;31m         \u001b[0mself\u001b[0m\u001b[0;34m.\u001b[0m\u001b[0mnext_sibling\u001b[0m \u001b[0;34m=\u001b[0m \u001b[0mnext_sibling\u001b[0m\u001b[0;34m\u001b[0m\u001b[0;34m\u001b[0m\u001b[0m\n\u001b[0m\u001b[1;32m    263\u001b[0m         \u001b[0;32mif\u001b[0m \u001b[0mself\u001b[0m\u001b[0;34m.\u001b[0m\u001b[0mnext_sibling\u001b[0m\u001b[0;34m:\u001b[0m\u001b[0;34m\u001b[0m\u001b[0;34m\u001b[0m\u001b[0m\n\u001b[1;32m    264\u001b[0m             \u001b[0mself\u001b[0m\u001b[0;34m.\u001b[0m\u001b[0mnext_sibling\u001b[0m\u001b[0;34m.\u001b[0m\u001b[0mprevious_sibling\u001b[0m \u001b[0;34m=\u001b[0m \u001b[0mself\u001b[0m\u001b[0;34m\u001b[0m\u001b[0;34m\u001b[0m\u001b[0m\n",
            "\u001b[0;31mKeyboardInterrupt\u001b[0m: "
          ]
        }
      ]
    },
    {
      "cell_type": "code",
      "source": [
        "# 수집된 URL 개수 확인\n",
        "len(news_url_list)"
      ],
      "metadata": {
        "id": "x749z0f8qurk",
        "colab": {
          "base_uri": "https://localhost:8080/"
        },
        "outputId": "94fe2532-95fb-49ef-e084-5af71abf2d9f"
      },
      "execution_count": null,
      "outputs": [
        {
          "output_type": "execute_result",
          "data": {
            "text/plain": [
              "0"
            ]
          },
          "metadata": {},
          "execution_count": 34
        }
      ]
    },
    {
      "cell_type": "code",
      "source": [
        "# 뉴스 URL 추출\n",
        "news_url_list = list(map(lambda x : x.get('href'), daily_news_list))\n",
        "\n",
        "# for문을 이용하지 않고 뉴스 맵 함수를 이용하여 빠르게 URL을 추출합니다."
      ],
      "metadata": {
        "id": "Gm7EeD-UZcuJ"
      },
      "execution_count": null,
      "outputs": []
    },
    {
      "cell_type": "code",
      "source": [
        "# URL 데이터 프레임으로 변환\n",
        "df = pd.DataFrame(news_url_list, columns = ['URL']); df"
      ],
      "metadata": {
        "id": "18hCf-qHZW0Y",
        "colab": {
          "base_uri": "https://localhost:8080/",
          "height": 423
        },
        "outputId": "93127153-7830-4e07-d0a2-177e13ae40b1"
      },
      "execution_count": null,
      "outputs": [
        {
          "output_type": "execute_result",
          "data": {
            "text/plain": [
              "                                                   URL\n",
              "0    https://n.news.naver.com/mnews/article/030/000...\n",
              "1    https://n.news.naver.com/mnews/article/030/000...\n",
              "2    https://n.news.naver.com/mnews/article/030/000...\n",
              "3    https://n.news.naver.com/mnews/article/001/001...\n",
              "4    https://n.news.naver.com/mnews/article/008/000...\n",
              "..                                                 ...\n",
              "236  https://n.news.naver.com/mnews/article/109/000...\n",
              "237  https://n.news.naver.com/mnews/article/032/000...\n",
              "238  https://n.news.naver.com/mnews/article/009/000...\n",
              "239  https://n.news.naver.com/mnews/article/052/000...\n",
              "240  https://n.news.naver.com/mnews/article/109/000...\n",
              "\n",
              "[241 rows x 1 columns]"
            ],
            "text/html": [
              "\n",
              "  <div id=\"df-606b5b0a-bc06-4f8d-ad95-cd0d7bc12227\">\n",
              "    <div class=\"colab-df-container\">\n",
              "      <div>\n",
              "<style scoped>\n",
              "    .dataframe tbody tr th:only-of-type {\n",
              "        vertical-align: middle;\n",
              "    }\n",
              "\n",
              "    .dataframe tbody tr th {\n",
              "        vertical-align: top;\n",
              "    }\n",
              "\n",
              "    .dataframe thead th {\n",
              "        text-align: right;\n",
              "    }\n",
              "</style>\n",
              "<table border=\"1\" class=\"dataframe\">\n",
              "  <thead>\n",
              "    <tr style=\"text-align: right;\">\n",
              "      <th></th>\n",
              "      <th>URL</th>\n",
              "    </tr>\n",
              "  </thead>\n",
              "  <tbody>\n",
              "    <tr>\n",
              "      <th>0</th>\n",
              "      <td>https://n.news.naver.com/mnews/article/030/000...</td>\n",
              "    </tr>\n",
              "    <tr>\n",
              "      <th>1</th>\n",
              "      <td>https://n.news.naver.com/mnews/article/030/000...</td>\n",
              "    </tr>\n",
              "    <tr>\n",
              "      <th>2</th>\n",
              "      <td>https://n.news.naver.com/mnews/article/030/000...</td>\n",
              "    </tr>\n",
              "    <tr>\n",
              "      <th>3</th>\n",
              "      <td>https://n.news.naver.com/mnews/article/001/001...</td>\n",
              "    </tr>\n",
              "    <tr>\n",
              "      <th>4</th>\n",
              "      <td>https://n.news.naver.com/mnews/article/008/000...</td>\n",
              "    </tr>\n",
              "    <tr>\n",
              "      <th>...</th>\n",
              "      <td>...</td>\n",
              "    </tr>\n",
              "    <tr>\n",
              "      <th>236</th>\n",
              "      <td>https://n.news.naver.com/mnews/article/109/000...</td>\n",
              "    </tr>\n",
              "    <tr>\n",
              "      <th>237</th>\n",
              "      <td>https://n.news.naver.com/mnews/article/032/000...</td>\n",
              "    </tr>\n",
              "    <tr>\n",
              "      <th>238</th>\n",
              "      <td>https://n.news.naver.com/mnews/article/009/000...</td>\n",
              "    </tr>\n",
              "    <tr>\n",
              "      <th>239</th>\n",
              "      <td>https://n.news.naver.com/mnews/article/052/000...</td>\n",
              "    </tr>\n",
              "    <tr>\n",
              "      <th>240</th>\n",
              "      <td>https://n.news.naver.com/mnews/article/109/000...</td>\n",
              "    </tr>\n",
              "  </tbody>\n",
              "</table>\n",
              "<p>241 rows × 1 columns</p>\n",
              "</div>\n",
              "      <button class=\"colab-df-convert\" onclick=\"convertToInteractive('df-606b5b0a-bc06-4f8d-ad95-cd0d7bc12227')\"\n",
              "              title=\"Convert this dataframe to an interactive table.\"\n",
              "              style=\"display:none;\">\n",
              "        \n",
              "  <svg xmlns=\"http://www.w3.org/2000/svg\" height=\"24px\"viewBox=\"0 0 24 24\"\n",
              "       width=\"24px\">\n",
              "    <path d=\"M0 0h24v24H0V0z\" fill=\"none\"/>\n",
              "    <path d=\"M18.56 5.44l.94 2.06.94-2.06 2.06-.94-2.06-.94-.94-2.06-.94 2.06-2.06.94zm-11 1L8.5 8.5l.94-2.06 2.06-.94-2.06-.94L8.5 2.5l-.94 2.06-2.06.94zm10 10l.94 2.06.94-2.06 2.06-.94-2.06-.94-.94-2.06-.94 2.06-2.06.94z\"/><path d=\"M17.41 7.96l-1.37-1.37c-.4-.4-.92-.59-1.43-.59-.52 0-1.04.2-1.43.59L10.3 9.45l-7.72 7.72c-.78.78-.78 2.05 0 2.83L4 21.41c.39.39.9.59 1.41.59.51 0 1.02-.2 1.41-.59l7.78-7.78 2.81-2.81c.8-.78.8-2.07 0-2.86zM5.41 20L4 18.59l7.72-7.72 1.47 1.35L5.41 20z\"/>\n",
              "  </svg>\n",
              "      </button>\n",
              "      \n",
              "  <style>\n",
              "    .colab-df-container {\n",
              "      display:flex;\n",
              "      flex-wrap:wrap;\n",
              "      gap: 12px;\n",
              "    }\n",
              "\n",
              "    .colab-df-convert {\n",
              "      background-color: #E8F0FE;\n",
              "      border: none;\n",
              "      border-radius: 50%;\n",
              "      cursor: pointer;\n",
              "      display: none;\n",
              "      fill: #1967D2;\n",
              "      height: 32px;\n",
              "      padding: 0 0 0 0;\n",
              "      width: 32px;\n",
              "    }\n",
              "\n",
              "    .colab-df-convert:hover {\n",
              "      background-color: #E2EBFA;\n",
              "      box-shadow: 0px 1px 2px rgba(60, 64, 67, 0.3), 0px 1px 3px 1px rgba(60, 64, 67, 0.15);\n",
              "      fill: #174EA6;\n",
              "    }\n",
              "\n",
              "    [theme=dark] .colab-df-convert {\n",
              "      background-color: #3B4455;\n",
              "      fill: #D2E3FC;\n",
              "    }\n",
              "\n",
              "    [theme=dark] .colab-df-convert:hover {\n",
              "      background-color: #434B5C;\n",
              "      box-shadow: 0px 1px 3px 1px rgba(0, 0, 0, 0.15);\n",
              "      filter: drop-shadow(0px 1px 2px rgba(0, 0, 0, 0.3));\n",
              "      fill: #FFFFFF;\n",
              "    }\n",
              "  </style>\n",
              "\n",
              "      <script>\n",
              "        const buttonEl =\n",
              "          document.querySelector('#df-606b5b0a-bc06-4f8d-ad95-cd0d7bc12227 button.colab-df-convert');\n",
              "        buttonEl.style.display =\n",
              "          google.colab.kernel.accessAllowed ? 'block' : 'none';\n",
              "\n",
              "        async function convertToInteractive(key) {\n",
              "          const element = document.querySelector('#df-606b5b0a-bc06-4f8d-ad95-cd0d7bc12227');\n",
              "          const dataTable =\n",
              "            await google.colab.kernel.invokeFunction('convertToInteractive',\n",
              "                                                     [key], {});\n",
              "          if (!dataTable) return;\n",
              "\n",
              "          const docLinkHtml = 'Like what you see? Visit the ' +\n",
              "            '<a target=\"_blank\" href=https://colab.research.google.com/notebooks/data_table.ipynb>data table notebook</a>'\n",
              "            + ' to learn more about interactive tables.';\n",
              "          element.innerHTML = '';\n",
              "          dataTable['output_type'] = 'display_data';\n",
              "          await google.colab.output.renderOutput(dataTable, element);\n",
              "          const docLink = document.createElement('div');\n",
              "          docLink.innerHTML = docLinkHtml;\n",
              "          element.appendChild(docLink);\n",
              "        }\n",
              "      </script>\n",
              "    </div>\n",
              "  </div>\n",
              "  "
            ]
          },
          "metadata": {},
          "execution_count": 40
        }
      ]
    },
    {
      "cell_type": "code",
      "source": [
        "# URL 데이터 프레임 저장\n",
        "# Google Drive 불러온 후\n",
        "\n",
        "path = '/content/drive/MyDrive/[deep daiv.] 머신러닝 입문/'\n",
        "file_name = '네이버 뉴스_AI_{}.csv'.format(date_string)\n",
        "df.to_csv(path + file_name, index = False)"
      ],
      "metadata": {
        "id": "8LL4uWoLJoKT",
        "colab": {
          "base_uri": "https://localhost:8080/",
          "height": 405
        },
        "outputId": "e204c0dd-171e-47f5-b343-968265df8a42"
      },
      "execution_count": null,
      "outputs": [
        {
          "output_type": "error",
          "ename": "FileNotFoundError",
          "evalue": "ignored",
          "traceback": [
            "\u001b[0;31m---------------------------------------------------------------------------\u001b[0m",
            "\u001b[0;31mFileNotFoundError\u001b[0m                         Traceback (most recent call last)",
            "\u001b[0;32m<ipython-input-41-b78f3d730840>\u001b[0m in \u001b[0;36m<module>\u001b[0;34m\u001b[0m\n\u001b[1;32m      4\u001b[0m \u001b[0mpath\u001b[0m \u001b[0;34m=\u001b[0m \u001b[0;34m'/content/drive/MyDrive/[deep daiv.] 머신러닝 입문/'\u001b[0m\u001b[0;34m\u001b[0m\u001b[0;34m\u001b[0m\u001b[0m\n\u001b[1;32m      5\u001b[0m \u001b[0mfile_name\u001b[0m \u001b[0;34m=\u001b[0m \u001b[0;34m'네이버 뉴스_AI_{}.csv'\u001b[0m\u001b[0;34m.\u001b[0m\u001b[0mformat\u001b[0m\u001b[0;34m(\u001b[0m\u001b[0mdate_string\u001b[0m\u001b[0;34m)\u001b[0m\u001b[0;34m\u001b[0m\u001b[0;34m\u001b[0m\u001b[0m\n\u001b[0;32m----> 6\u001b[0;31m \u001b[0mdf\u001b[0m\u001b[0;34m.\u001b[0m\u001b[0mto_csv\u001b[0m\u001b[0;34m(\u001b[0m\u001b[0mpath\u001b[0m \u001b[0;34m+\u001b[0m \u001b[0mfile_name\u001b[0m\u001b[0;34m,\u001b[0m \u001b[0mindex\u001b[0m \u001b[0;34m=\u001b[0m \u001b[0;32mFalse\u001b[0m\u001b[0;34m)\u001b[0m\u001b[0;34m\u001b[0m\u001b[0;34m\u001b[0m\u001b[0m\n\u001b[0m",
            "\u001b[0;32m/usr/local/lib/python3.9/dist-packages/pandas/core/generic.py\u001b[0m in \u001b[0;36mto_csv\u001b[0;34m(self, path_or_buf, sep, na_rep, float_format, columns, header, index, index_label, mode, encoding, compression, quoting, quotechar, line_terminator, chunksize, date_format, doublequote, escapechar, decimal, errors, storage_options)\u001b[0m\n\u001b[1;32m   3464\u001b[0m         )\n\u001b[1;32m   3465\u001b[0m \u001b[0;34m\u001b[0m\u001b[0m\n\u001b[0;32m-> 3466\u001b[0;31m         return DataFrameRenderer(formatter).to_csv(\n\u001b[0m\u001b[1;32m   3467\u001b[0m             \u001b[0mpath_or_buf\u001b[0m\u001b[0;34m,\u001b[0m\u001b[0;34m\u001b[0m\u001b[0;34m\u001b[0m\u001b[0m\n\u001b[1;32m   3468\u001b[0m             \u001b[0mline_terminator\u001b[0m\u001b[0;34m=\u001b[0m\u001b[0mline_terminator\u001b[0m\u001b[0;34m,\u001b[0m\u001b[0;34m\u001b[0m\u001b[0;34m\u001b[0m\u001b[0m\n",
            "\u001b[0;32m/usr/local/lib/python3.9/dist-packages/pandas/io/formats/format.py\u001b[0m in \u001b[0;36mto_csv\u001b[0;34m(self, path_or_buf, encoding, sep, columns, index_label, mode, compression, quoting, quotechar, line_terminator, chunksize, date_format, doublequote, escapechar, errors, storage_options)\u001b[0m\n\u001b[1;32m   1103\u001b[0m             \u001b[0mformatter\u001b[0m\u001b[0;34m=\u001b[0m\u001b[0mself\u001b[0m\u001b[0;34m.\u001b[0m\u001b[0mfmt\u001b[0m\u001b[0;34m,\u001b[0m\u001b[0;34m\u001b[0m\u001b[0;34m\u001b[0m\u001b[0m\n\u001b[1;32m   1104\u001b[0m         )\n\u001b[0;32m-> 1105\u001b[0;31m         \u001b[0mcsv_formatter\u001b[0m\u001b[0;34m.\u001b[0m\u001b[0msave\u001b[0m\u001b[0;34m(\u001b[0m\u001b[0;34m)\u001b[0m\u001b[0;34m\u001b[0m\u001b[0;34m\u001b[0m\u001b[0m\n\u001b[0m\u001b[1;32m   1106\u001b[0m \u001b[0;34m\u001b[0m\u001b[0m\n\u001b[1;32m   1107\u001b[0m         \u001b[0;32mif\u001b[0m \u001b[0mcreated_buffer\u001b[0m\u001b[0;34m:\u001b[0m\u001b[0;34m\u001b[0m\u001b[0;34m\u001b[0m\u001b[0m\n",
            "\u001b[0;32m/usr/local/lib/python3.9/dist-packages/pandas/io/formats/csvs.py\u001b[0m in \u001b[0;36msave\u001b[0;34m(self)\u001b[0m\n\u001b[1;32m    235\u001b[0m         \"\"\"\n\u001b[1;32m    236\u001b[0m         \u001b[0;31m# apply compression and byte/text conversion\u001b[0m\u001b[0;34m\u001b[0m\u001b[0;34m\u001b[0m\u001b[0m\n\u001b[0;32m--> 237\u001b[0;31m         with get_handle(\n\u001b[0m\u001b[1;32m    238\u001b[0m             \u001b[0mself\u001b[0m\u001b[0;34m.\u001b[0m\u001b[0mfilepath_or_buffer\u001b[0m\u001b[0;34m,\u001b[0m\u001b[0;34m\u001b[0m\u001b[0;34m\u001b[0m\u001b[0m\n\u001b[1;32m    239\u001b[0m             \u001b[0mself\u001b[0m\u001b[0;34m.\u001b[0m\u001b[0mmode\u001b[0m\u001b[0;34m,\u001b[0m\u001b[0;34m\u001b[0m\u001b[0;34m\u001b[0m\u001b[0m\n",
            "\u001b[0;32m/usr/local/lib/python3.9/dist-packages/pandas/io/common.py\u001b[0m in \u001b[0;36mget_handle\u001b[0;34m(path_or_buf, mode, encoding, compression, memory_map, is_text, errors, storage_options)\u001b[0m\n\u001b[1;32m    700\u001b[0m         \u001b[0;32mif\u001b[0m \u001b[0mioargs\u001b[0m\u001b[0;34m.\u001b[0m\u001b[0mencoding\u001b[0m \u001b[0;32mand\u001b[0m \u001b[0;34m\"b\"\u001b[0m \u001b[0;32mnot\u001b[0m \u001b[0;32min\u001b[0m \u001b[0mioargs\u001b[0m\u001b[0;34m.\u001b[0m\u001b[0mmode\u001b[0m\u001b[0;34m:\u001b[0m\u001b[0;34m\u001b[0m\u001b[0;34m\u001b[0m\u001b[0m\n\u001b[1;32m    701\u001b[0m             \u001b[0;31m# Encoding\u001b[0m\u001b[0;34m\u001b[0m\u001b[0;34m\u001b[0m\u001b[0m\n\u001b[0;32m--> 702\u001b[0;31m             handle = open(\n\u001b[0m\u001b[1;32m    703\u001b[0m                 \u001b[0mhandle\u001b[0m\u001b[0;34m,\u001b[0m\u001b[0;34m\u001b[0m\u001b[0;34m\u001b[0m\u001b[0m\n\u001b[1;32m    704\u001b[0m                 \u001b[0mioargs\u001b[0m\u001b[0;34m.\u001b[0m\u001b[0mmode\u001b[0m\u001b[0;34m,\u001b[0m\u001b[0;34m\u001b[0m\u001b[0;34m\u001b[0m\u001b[0m\n",
            "\u001b[0;31mFileNotFoundError\u001b[0m: [Errno 2] No such file or directory: '/content/drive/MyDrive/[deep daiv.] 머신러닝 입문/네이버 뉴스_AI_2023.03.05.csv'"
          ]
        }
      ]
    },
    {
      "cell_type": "markdown",
      "source": [
        "## 뉴스 기사 본문 수집 복습"
      ],
      "metadata": {
        "id": "sQD5gN7Ua8j5"
      }
    },
    {
      "cell_type": "code",
      "source": [
        "from urllib.request import urlopen"
      ],
      "metadata": {
        "id": "oXu0bxIZaApg"
      },
      "execution_count": null,
      "outputs": []
    },
    {
      "cell_type": "code",
      "source": [
        "df = pd.read_csv(path + '네이버 뉴스_AI_{}.csv'.format(date_string))"
      ],
      "metadata": {
        "id": "wa3DwVAvbKu6"
      },
      "execution_count": null,
      "outputs": []
    },
    {
      "cell_type": "code",
      "source": [
        "test_url = df['URL'][1]\n",
        "\n",
        "res = urlopen(test_url)\n",
        "html = res.read().decode('utf-8')\n",
        "soup = BeautifulSoup(html, 'lxml')"
      ],
      "metadata": {
        "id": "w9qJEpTlbecj"
      },
      "execution_count": null,
      "outputs": []
    },
    {
      "cell_type": "code",
      "source": [
        "# 뉴스 기사 제목 수집\n",
        "title = # Your Code\n",
        "print(title)"
      ],
      "metadata": {
        "id": "aw9wnAAmbj_4"
      },
      "execution_count": null,
      "outputs": []
    },
    {
      "cell_type": "code",
      "source": [
        "# 뉴스 기사 본문 수집\n",
        "content = # Your Code\n",
        "\n",
        "content = # Your Code\n",
        "print(content)"
      ],
      "metadata": {
        "id": "Sf9IITJKcS07"
      },
      "execution_count": null,
      "outputs": []
    },
    {
      "cell_type": "code",
      "source": [
        "# 언론사 수집\n",
        "press = # Your Code\n",
        "print(press)"
      ],
      "metadata": {
        "id": "sWOqnmfVc4Ao"
      },
      "execution_count": null,
      "outputs": []
    },
    {
      "cell_type": "code",
      "source": [
        "# 날짜 데이터 변환\n",
        "from datetime import datetime, timedelta, timezone\n",
        "\n",
        "date = # Your Code\n",
        "date = # Your Code\n",
        "print(date)"
      ],
      "metadata": {
        "id": "79skuIzDdxJr"
      },
      "execution_count": null,
      "outputs": []
    },
    {
      "cell_type": "code",
      "source": [
        "# 반복문의 진행 상황을 알려주는 패키지: tqdm\n",
        "from tqdm.auto import tqdm"
      ],
      "metadata": {
        "id": "ac1nmBvKpZTm"
      },
      "execution_count": null,
      "outputs": []
    },
    {
      "cell_type": "code",
      "source": [
        "data_list = []\n",
        "error_list = []\n",
        "\n",
        "for url in tqdm(df['URL']):\n",
        "    try:\n",
        "        res = urlopen(url)\n",
        "        time.sleep(1)\n",
        "    except:\n",
        "        error_list.append(url)\n",
        "        print(url)\n",
        "        time.sleep(1)\n",
        "        continue\n",
        "\n",
        "    if 'entertain.naver.com' in res.url or 'sports.news.naver.com' in res.url:\n",
        "        error_list.append(url)\n",
        "        print(url)\n",
        "        continue\n",
        "\n",
        "    html = res.read().decode('utf-8')\n",
        "    soup = BeautifulSoup(html, 'lxml')\n",
        "\n",
        "    # 타이틀\n",
        "    title = soup.find('h2').text.strip()\n",
        "\n",
        "    # 본문 내용\n",
        "    content = soup.find('div', {'id' : 'dic_area'}).text.strip()\n",
        "    content = re.sub('\\n+', '\\n', content)\n",
        "\n",
        "    # 언론사\n",
        "    press = soup.find('img', 'media_end_head_top_logo_img light_type').get('title')\n",
        "\n",
        "    # 날짜\n",
        "    date = soup.find('span','media_end_head_info_datestamp_time _ARTICLE_DATE_TIME').get('data-date-time')\n",
        "    date = datetime.strptime(date, '%Y-%m-%d %H:%M:%S')\n",
        "\n",
        "    data = title, content, press, date\n",
        "    data_list.append(data)\n",
        "\n",
        "    if len(data_list) % 100 == 0:\n",
        "        news = pd.DataFrame(data_list, columns = ['Title', 'Content', 'Press', 'Date'])\n",
        "        news.to_csv(path + '네이버 뉴스 본문_AI_11월 1주차.csv', index = False)\n",
        "        \n",
        "        with open(path + 'news_list_11월 1주차.p', 'wb') as f:\n",
        "            pickle.dump(data_list, f)\n",
        "\n",
        "        datetime_utc = datetime.utcnow()\n",
        "        timezone_kst = timezone(timedelta(hours = 9))\n",
        "        datetime_kst = datetime_utc.astimezone(timezone_kst)\n",
        "        print(datetime_kst)"
      ],
      "metadata": {
        "id": "HCrVO0M4hJ9O"
      },
      "execution_count": null,
      "outputs": []
    },
    {
      "cell_type": "code",
      "source": [
        "len(data_list)"
      ],
      "metadata": {
        "id": "mj_LuuvPrmyM"
      },
      "execution_count": null,
      "outputs": []
    },
    {
      "cell_type": "code",
      "source": [
        "data_list[-1]"
      ],
      "metadata": {
        "id": "dr0Rg96buvnm"
      },
      "execution_count": null,
      "outputs": []
    },
    {
      "cell_type": "code",
      "source": [
        "news = pd.DataFrame(data_list, columns = ['Title', 'Content', 'Press', 'Date'])\n",
        "news.to_csv(path + '네이버 뉴스 본문_AI.csv', index = False)\n",
        "\n",
        "import pickle\n",
        "with open(path + 'news_list_{}.p'.format(date_string), 'wb') as f:\n",
        "    pickle.dump(data_list, f)"
      ],
      "metadata": {
        "id": "W790DEpSNFDW"
      },
      "execution_count": null,
      "outputs": []
    },
    {
      "cell_type": "code",
      "source": [
        "with open(path+'news_list_{}.p'.format(date_string), 'rb') as f:\n",
        "    data_list = pickle.load(f)"
      ],
      "metadata": {
        "id": "h27sGVKnt8L2"
      },
      "execution_count": null,
      "outputs": []
    }
  ]
}