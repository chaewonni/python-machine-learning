{
  "nbformat": 4,
  "nbformat_minor": 0,
  "metadata": {
    "colab": {
      "provenance": [],
      "include_colab_link": true
    },
    "kernelspec": {
      "name": "python3",
      "display_name": "Python 3"
    },
    "language_info": {
      "name": "python"
    }
  },
  "cells": [
    {
      "cell_type": "markdown",
      "metadata": {
        "id": "view-in-github",
        "colab_type": "text"
      },
      "source": [
        "<a href=\"https://colab.research.google.com/github/chaewonni/python-machine-learning/blob/main/%ED%81%AC%EB%A1%A4%EB%A7%81_%EC%8B%A4%EC%A0%84.ipynb\" target=\"_parent\"><img src=\"https://colab.research.google.com/assets/colab-badge.svg\" alt=\"Open In Colab\"/></a>"
      ]
    },
    {
      "cell_type": "markdown",
      "source": [
        "#크롤링 실전\n",
        "\n",
        "> 들여쓴 블록\n",
        "\n",
        "\n",
        "정해진 기간 동안의 뉴스 기사를 크롤링하는 코드를 작성해봅시다.<br>\n",
        "한 단어로 표시되는 뉴스 기사 수는 제한되어 있습니다. 그래서 하루 단위로 필터링하여 놓치는 기사 없이 모두 수집해보려고합니다.<br>\n",
        "조금 더 재미 있는 코드들을 소개해드릴게요!"
      ],
      "metadata": {
        "id": "PBKIuehH7uDp"
      }
    },
    {
      "cell_type": "markdown",
      "source": [
        "### 이번주 뉴스 기사 URL 수집\n",
        "본격적으로 URL을 조작하여 지난 한 주 동안의 뉴스 기사를 수집해봅시다.<br>\n",
        "여기서는 날짜 리스트를 만들어야 하는데, 어떻게 만들면 더 쉬운지 알아보고<br>\n",
        "사용자 정의 함수를 구현하여 조금 더 효율적이고 이해 가능한 코드를 구현해봅시다.<br>"
      ],
      "metadata": {
        "id": "MJkWuBiraHok"
      }
    },
    {
      "cell_type": "code",
      "execution_count": null,
      "metadata": {
        "id": "s_Hc6doet83q"
      },
      "outputs": [],
      "source": [
        "# 필요한 라이브러리 불러오기\n",
        "import requests\n",
        "from bs4 import BeautifulSoup\n",
        "import re\n",
        "import time"
      ]
    },
    {
      "cell_type": "code",
      "source": [
        "# 임시 URL 설정\n",
        "tmp_url = 'https://search.naver.com/search.naver?where=news&sm=tab_pge&query=AI&sort=2&photo=0&field=0&pd=3&ds=2023.02.01&de=2023.02.01&mynews=0&office_type=0&office_section_code=0&news_office_checked=&nso=so:r,p:from20230201to20230201,a:all&start=1'"
      ],
      "metadata": {
        "id": "mkEPZ0fz4wmy"
      },
      "execution_count": null,
      "outputs": []
    },
    {
      "cell_type": "code",
      "source": [
        "from urllib.parse import urlparse\n",
        "from urllib.parse import parse_qs\n",
        "\n",
        "# 위의 복잡한 URL은 사실 요청문으로 이루어져 있습니다. 여기에서 정보를 빠르고 쉽게 추출할 수 있어요!\n",
        "params = parse_qs(urlparse(tmp_url).query)\n",
        "params"
      ],
      "metadata": {
        "id": "Mg4wP-rv5Ew5",
        "colab": {
          "base_uri": "https://localhost:8080/"
        },
        "outputId": "a640540d-d833-4af3-87b3-2b9c8fe5809c"
      },
      "execution_count": null,
      "outputs": [
        {
          "output_type": "execute_result",
          "data": {
            "text/plain": [
              "{'where': ['news'],\n",
              " 'sm': ['tab_pge'],\n",
              " 'query': ['AI'],\n",
              " 'sort': ['2'],\n",
              " 'photo': ['0'],\n",
              " 'field': ['0'],\n",
              " 'pd': ['3'],\n",
              " 'ds': ['2023.02.01'],\n",
              " 'de': ['2023.02.01'],\n",
              " 'mynews': ['0'],\n",
              " 'office_type': ['0'],\n",
              " 'office_section_code': ['0'],\n",
              " 'nso': ['so:r,p:from20230201to20230201,a:all'],\n",
              " 'start': ['1']}"
            ]
          },
          "metadata": {},
          "execution_count": 3
        }
      ]
    },
    {
      "cell_type": "code",
      "source": [
        "# 파라미터 변경\n",
        "params['start'] = 1 # 이 값은 저희가 추후에 변경해야 하는 부분이라 리스트 형태에서 정수 형태로 미리 바꾸어두었습니다."
      ],
      "metadata": {
        "id": "SyTDkOtDAX0H"
      },
      "execution_count": null,
      "outputs": []
    },
    {
      "cell_type": "code",
      "source": [
        "# 날짜 리스트 생성\n",
        "from datetime import datetime\n",
        "from datetime import timedelta\n",
        "\n",
        "today = datetime.today()\n",
        "last_week = today - timedelta(days = 7)\n",
        "\n",
        "today = today.strftime('%Y.%m.%d')\n",
        "last_week = last_week.strftime('%Y.%m.%d')\n",
        "\n",
        "import pandas as pd\n",
        "date_list = pd.date_range(last_week, today)\n",
        "#Pandas에서 날짜 리스트를 쉽게 얻을 수 있습니다. 저희가 알고 있는 문자열이 아니라, 날짜 데이터를 조금 더 유연하게 다룰 수 있는 형식으로 저장됩니다.\n",
        "print(date_list)"
      ],
      "metadata": {
        "id": "XS0TC4eY8XHh",
        "colab": {
          "base_uri": "https://localhost:8080/"
        },
        "outputId": "92cb029f-a35d-48fa-a81e-d7edd198e00e"
      },
      "execution_count": null,
      "outputs": [
        {
          "output_type": "stream",
          "name": "stdout",
          "text": [
            "DatetimeIndex(['2023-03-11', '2023-03-12', '2023-03-13', '2023-03-14',\n",
            "               '2023-03-15', '2023-03-16', '2023-03-17', '2023-03-18'],\n",
            "              dtype='datetime64[ns]', freq='D')\n"
          ]
        }
      ]
    },
    {
      "cell_type": "code",
      "source": [
        "# 뉴스 URL 수집 | 매일 첫 페이지만\n",
        "url = 'https://search.naver.com/search.naver'\n",
        "\n",
        "news_url_list = []\n",
        "for date in date_list:\n",
        "    date_string = date.strftime('%Y.%m.%d')\n",
        "    params['ds'] = date_string\n",
        "    params['de'] = date_string\n",
        "    params['nso'] = 'so:r,p:from{fr}to{to}'.format(fr = date.strftime('%Y%m%d'), to = date.strftime('%Y%m%d'))\n",
        "    time.sleep(1)\n",
        "\n",
        "    res = requests.get(url, params = params)\n",
        "\n",
        "    html = res.text\n",
        "    soup = BeautifulSoup(html, 'html.parser')\n",
        "\n",
        "    news_url_list_part = soup.find_all('a', 'info', text = '네이버뉴스')\n",
        "    print(date_string, len(news_url_list_part), '개')\n",
        "    news_url_list.extend(news_url_list_part)"
      ],
      "metadata": {
        "id": "Y9hOybG77Qiy",
        "colab": {
          "base_uri": "https://localhost:8080/"
        },
        "outputId": "e50225bc-92f7-4154-9dd0-56df438cd807"
      },
      "execution_count": null,
      "outputs": [
        {
          "output_type": "stream",
          "name": "stderr",
          "text": [
            "<ipython-input-6-7c37061ce0b2>:17: DeprecationWarning: The 'text' argument to find()-type methods is deprecated. Use 'string' instead.\n",
            "  news_url_list_part = soup.find_all('a', 'info', text = '네이버뉴스')\n"
          ]
        },
        {
          "output_type": "stream",
          "name": "stdout",
          "text": [
            "2023.03.11 4 개\n",
            "2023.03.12 6 개\n",
            "2023.03.13 3 개\n",
            "2023.03.14 3 개\n",
            "2023.03.15 4 개\n",
            "2023.03.16 6 개\n",
            "2023.03.17 4 개\n",
            "2023.03.18 3 개\n"
          ]
        }
      ]
    },
    {
      "cell_type": "code",
      "source": [
        "def get_soup(url, params):\n",
        "    res = requests.get(url, params = params)\n",
        "    time.sleep(1)\n",
        "\n",
        "    html = res.text\n",
        "    soup = BeautifulSoup(html, 'html.parser')\n",
        "    return soup"
      ],
      "metadata": {
        "id": "KkcWHsrWl7vE"
      },
      "execution_count": null,
      "outputs": []
    },
    {
      "cell_type": "code",
      "source": [
        "def get_news_url_list(soup):\n",
        "    news_url_list = soup.find_all('a', 'info', text = '네이버뉴스')\n",
        "    return news_url_list"
      ],
      "metadata": {
        "id": "oIhp_540l7oG"
      },
      "execution_count": null,
      "outputs": []
    },
    {
      "cell_type": "code",
      "source": [
        "def get_page_list(soup):\n",
        "    page_list = list(map(lambda x: int(x.text),soup.find('div', 'sc_page_inner').find_all('a')))\n",
        "    return page_list"
      ],
      "metadata": {
        "id": "o6l4bmNOlsMl"
      },
      "execution_count": null,
      "outputs": []
    },
    {
      "cell_type": "code",
      "source": [
        "def get_daily_news(url, params):\n",
        "    news_url_list = []\n",
        "    n = 1\n",
        "\n",
        "    soup = get_soup(url, params)\n",
        "    page_list = get_page_list(soup)\n",
        "\n",
        "    while n in page_list:\n",
        "\n",
        "        soup = get_soup(url, params)\n",
        "        news_url_list_part = get_news_url_list(soup)\n",
        "        news_url_list.extend(news_url_list_part)\n",
        "\n",
        "        time.sleep(1)\n",
        "        page_list = get_page_list(soup)\n",
        "        print(n, page_list)\n",
        "        \n",
        "        n += 1\n",
        "        params['start'] += 10\n",
        "\n",
        "    print(len(news_url_list), '개,', n-1, '페이지')\n",
        "    return news_url_list"
      ],
      "metadata": {
        "id": "hu1O0hJ6LVIX"
      },
      "execution_count": null,
      "outputs": []
    },
    {
      "cell_type": "code",
      "source": [
        "# 뉴스 URL 수집 | 하루\n",
        "date = date_list[0]\n",
        "params['start'] = 1\n",
        "\n",
        "date_string = date.strftime('%Y.%m.%d')\n",
        "params['ds'] = date_string\n",
        "params['de'] = date_string\n",
        "params['nso'] = 'so:r,p:from{fr}to{to}'.format(fr = date.strftime('%Y%m%d'), to = date.strftime('%Y%m%d'))\n",
        "time.sleep(1)\n",
        "\n",
        "print(date_string)\n",
        "daily_news_list = get_daily_news(url, params)"
      ],
      "metadata": {
        "id": "zpyrtG30FKRM",
        "colab": {
          "base_uri": "https://localhost:8080/"
        },
        "outputId": "7749beca-ae7c-4e21-93b4-08ebfd1c1e2c"
      },
      "execution_count": null,
      "outputs": [
        {
          "output_type": "stream",
          "name": "stdout",
          "text": [
            "2023.03.11\n"
          ]
        },
        {
          "output_type": "stream",
          "name": "stderr",
          "text": [
            "<ipython-input-8-9bd9733922cf>:2: DeprecationWarning: The 'text' argument to find()-type methods is deprecated. Use 'string' instead.\n",
            "  news_url_list = soup.find_all('a', 'info', text = '네이버뉴스')\n"
          ]
        },
        {
          "output_type": "stream",
          "name": "stdout",
          "text": [
            "1 [1, 2, 3, 4, 5, 6, 7, 8, 9, 10]\n",
            "2 [1, 2, 3, 4, 5, 6, 7, 8, 9, 10]\n",
            "3 [1, 2, 3, 4, 5, 6, 7, 8, 9, 10]\n",
            "4 [1, 2, 3, 4, 5, 6, 7, 8, 9, 10]\n",
            "5 [1, 2, 3, 4, 5, 6, 7, 8, 9, 10]\n",
            "6 [2, 3, 4, 5, 6, 7, 8, 9, 10, 11]\n",
            "7 [3, 4, 5, 6, 7, 8, 9, 10, 11, 12]\n",
            "8 [4, 5, 6, 7, 8, 9, 10, 11, 12, 13]\n",
            "9 [5, 6, 7, 8, 9, 10, 11, 12, 13, 14]\n",
            "10 [6, 7, 8, 9, 10, 11, 12, 13, 14, 15]\n",
            "11 [7, 8, 9, 10, 11, 12, 13, 14, 15, 16]\n",
            "12 [8, 9, 10, 11, 12, 13, 14, 15, 16, 17]\n",
            "13 [9, 10, 11, 12, 13, 14, 15, 16, 17, 18]\n",
            "14 [10, 11, 12, 13, 14, 15, 16, 17, 18, 19]\n",
            "15 [11, 12, 13, 14, 15, 16, 17, 18, 19, 20]\n",
            "16 [12, 13, 14, 15, 16, 17, 18, 19, 20, 21]\n",
            "17 [12, 13, 14, 15, 16, 17, 18, 19, 20, 21]\n",
            "18 [12, 13, 14, 15, 16, 17, 18, 19, 20, 21]\n",
            "19 [12, 13, 14, 15, 16, 17, 18, 19, 20, 21]\n",
            "20 [12, 13, 14, 15, 16, 17, 18, 19, 20, 21]\n",
            "21 [12, 13, 14, 15, 16, 17, 18, 19, 20, 21]\n",
            "107 개, 21 페이지\n"
          ]
        }
      ]
    },
    {
      "cell_type": "code",
      "source": [
        "# 뉴스 URL 수집 | 모든 페이지\n",
        "url = 'https://search.naver.com/search.naver'\n",
        "params = parse_qs(urlparse(tmp_url).query)\n",
        "\n",
        "news_url_list = []\n",
        "for date in date_list:\n",
        "    params['start'] = 1\n",
        "\n",
        "    date_string = date.strftime('%Y.%m.%d')\n",
        "    params['ds'] = date_string\n",
        "    params['de'] = date_string\n",
        "    params['nso'] = 'so:r,p:from{fr}to{to}'.format(fr = date.strftime('%Y%m%d'), to = date.strftime('%Y%m%d'))\n",
        "    time.sleep(1)\n",
        "    \n",
        "    print(date_string)\n",
        "    daily_news_list = get_daily_news(url, params)\n",
        "    news_url_list.extend(daily_news_list)\n",
        "\n",
        "# 1주일 분량에 46분 30초 소요"
      ],
      "metadata": {
        "id": "us1AAcfjP6Yc",
        "colab": {
          "base_uri": "https://localhost:8080/"
        },
        "outputId": "84ec8d5b-2642-4dcd-87be-54da6c5ff2fe"
      },
      "execution_count": null,
      "outputs": [
        {
          "metadata": {
            "tags": null
          },
          "name": "stdout",
          "output_type": "stream",
          "text": [
            "2023.03.11\n"
          ]
        },
        {
          "metadata": {
            "tags": null
          },
          "name": "stderr",
          "output_type": "stream",
          "text": [
            "<ipython-input-8-9bd9733922cf>:2: DeprecationWarning: The 'text' argument to find()-type methods is deprecated. Use 'string' instead.\n",
            "  news_url_list = soup.find_all('a', 'info', text = '네이버뉴스')\n"
          ]
        },
        {
          "output_type": "stream",
          "name": "stdout",
          "text": [
            "1 [1, 2, 3, 4, 5, 6, 7, 8, 9, 10]\n",
            "2 [1, 2, 3, 4, 5, 6, 7, 8, 9, 10]\n",
            "3 [1, 2, 3, 4, 5, 6, 7, 8, 9, 10]\n",
            "4 [1, 2, 3, 4, 5, 6, 7, 8, 9, 10]\n",
            "5 [1, 2, 3, 4, 5, 6, 7, 8, 9, 10]\n",
            "6 [2, 3, 4, 5, 6, 7, 8, 9, 10, 11]\n",
            "7 [3, 4, 5, 6, 7, 8, 9, 10, 11, 12]\n",
            "8 [4, 5, 6, 7, 8, 9, 10, 11, 12, 13]\n"
          ]
        }
      ]
    },
    {
      "cell_type": "code",
      "source": [
        "# 수집된 URL 개수 확인\n",
        "len(news_url_list)"
      ],
      "metadata": {
        "id": "x749z0f8qurk",
        "colab": {
          "base_uri": "https://localhost:8080/"
        },
        "outputId": "10567492-974a-42cb-902d-fa10a03bde0a"
      },
      "execution_count": null,
      "outputs": [
        {
          "output_type": "execute_result",
          "data": {
            "text/plain": [
              "0"
            ]
          },
          "metadata": {},
          "execution_count": 13
        }
      ]
    },
    {
      "cell_type": "code",
      "source": [
        "# 뉴스 URL 추출\n",
        "news_url_list = list(map(lambda x : x.get('href'), news_url_list))\n",
        "\n",
        "# for문을 이용하지 않고 뉴스 맵 함수를 이용하여 빠르게 URL을 추출합니다."
      ],
      "metadata": {
        "id": "Gm7EeD-UZcuJ"
      },
      "execution_count": null,
      "outputs": []
    },
    {
      "cell_type": "code",
      "source": [
        "# URL 데이터 프레임으로 변환\n",
        "df = pd.DataFrame(news_url_list, columns = ['URL']); df"
      ],
      "metadata": {
        "id": "18hCf-qHZW0Y",
        "colab": {
          "base_uri": "https://localhost:8080/",
          "height": 49
        },
        "outputId": "84ace19d-2c83-4f68-a0e7-37e304486e95"
      },
      "execution_count": null,
      "outputs": [
        {
          "output_type": "execute_result",
          "data": {
            "text/plain": [
              "Empty DataFrame\n",
              "Columns: [URL]\n",
              "Index: []"
            ],
            "text/html": [
              "\n",
              "  <div id=\"df-bd1a9514-deef-4b66-82e3-84e64c96f81f\">\n",
              "    <div class=\"colab-df-container\">\n",
              "      <div>\n",
              "<style scoped>\n",
              "    .dataframe tbody tr th:only-of-type {\n",
              "        vertical-align: middle;\n",
              "    }\n",
              "\n",
              "    .dataframe tbody tr th {\n",
              "        vertical-align: top;\n",
              "    }\n",
              "\n",
              "    .dataframe thead th {\n",
              "        text-align: right;\n",
              "    }\n",
              "</style>\n",
              "<table border=\"1\" class=\"dataframe\">\n",
              "  <thead>\n",
              "    <tr style=\"text-align: right;\">\n",
              "      <th></th>\n",
              "      <th>URL</th>\n",
              "    </tr>\n",
              "  </thead>\n",
              "  <tbody>\n",
              "  </tbody>\n",
              "</table>\n",
              "</div>\n",
              "      <button class=\"colab-df-convert\" onclick=\"convertToInteractive('df-bd1a9514-deef-4b66-82e3-84e64c96f81f')\"\n",
              "              title=\"Convert this dataframe to an interactive table.\"\n",
              "              style=\"display:none;\">\n",
              "        \n",
              "  <svg xmlns=\"http://www.w3.org/2000/svg\" height=\"24px\"viewBox=\"0 0 24 24\"\n",
              "       width=\"24px\">\n",
              "    <path d=\"M0 0h24v24H0V0z\" fill=\"none\"/>\n",
              "    <path d=\"M18.56 5.44l.94 2.06.94-2.06 2.06-.94-2.06-.94-.94-2.06-.94 2.06-2.06.94zm-11 1L8.5 8.5l.94-2.06 2.06-.94-2.06-.94L8.5 2.5l-.94 2.06-2.06.94zm10 10l.94 2.06.94-2.06 2.06-.94-2.06-.94-.94-2.06-.94 2.06-2.06.94z\"/><path d=\"M17.41 7.96l-1.37-1.37c-.4-.4-.92-.59-1.43-.59-.52 0-1.04.2-1.43.59L10.3 9.45l-7.72 7.72c-.78.78-.78 2.05 0 2.83L4 21.41c.39.39.9.59 1.41.59.51 0 1.02-.2 1.41-.59l7.78-7.78 2.81-2.81c.8-.78.8-2.07 0-2.86zM5.41 20L4 18.59l7.72-7.72 1.47 1.35L5.41 20z\"/>\n",
              "  </svg>\n",
              "      </button>\n",
              "      \n",
              "  <style>\n",
              "    .colab-df-container {\n",
              "      display:flex;\n",
              "      flex-wrap:wrap;\n",
              "      gap: 12px;\n",
              "    }\n",
              "\n",
              "    .colab-df-convert {\n",
              "      background-color: #E8F0FE;\n",
              "      border: none;\n",
              "      border-radius: 50%;\n",
              "      cursor: pointer;\n",
              "      display: none;\n",
              "      fill: #1967D2;\n",
              "      height: 32px;\n",
              "      padding: 0 0 0 0;\n",
              "      width: 32px;\n",
              "    }\n",
              "\n",
              "    .colab-df-convert:hover {\n",
              "      background-color: #E2EBFA;\n",
              "      box-shadow: 0px 1px 2px rgba(60, 64, 67, 0.3), 0px 1px 3px 1px rgba(60, 64, 67, 0.15);\n",
              "      fill: #174EA6;\n",
              "    }\n",
              "\n",
              "    [theme=dark] .colab-df-convert {\n",
              "      background-color: #3B4455;\n",
              "      fill: #D2E3FC;\n",
              "    }\n",
              "\n",
              "    [theme=dark] .colab-df-convert:hover {\n",
              "      background-color: #434B5C;\n",
              "      box-shadow: 0px 1px 3px 1px rgba(0, 0, 0, 0.15);\n",
              "      filter: drop-shadow(0px 1px 2px rgba(0, 0, 0, 0.3));\n",
              "      fill: #FFFFFF;\n",
              "    }\n",
              "  </style>\n",
              "\n",
              "      <script>\n",
              "        const buttonEl =\n",
              "          document.querySelector('#df-bd1a9514-deef-4b66-82e3-84e64c96f81f button.colab-df-convert');\n",
              "        buttonEl.style.display =\n",
              "          google.colab.kernel.accessAllowed ? 'block' : 'none';\n",
              "\n",
              "        async function convertToInteractive(key) {\n",
              "          const element = document.querySelector('#df-bd1a9514-deef-4b66-82e3-84e64c96f81f');\n",
              "          const dataTable =\n",
              "            await google.colab.kernel.invokeFunction('convertToInteractive',\n",
              "                                                     [key], {});\n",
              "          if (!dataTable) return;\n",
              "\n",
              "          const docLinkHtml = 'Like what you see? Visit the ' +\n",
              "            '<a target=\"_blank\" href=https://colab.research.google.com/notebooks/data_table.ipynb>data table notebook</a>'\n",
              "            + ' to learn more about interactive tables.';\n",
              "          element.innerHTML = '';\n",
              "          dataTable['output_type'] = 'display_data';\n",
              "          await google.colab.output.renderOutput(dataTable, element);\n",
              "          const docLink = document.createElement('div');\n",
              "          docLink.innerHTML = docLinkHtml;\n",
              "          element.appendChild(docLink);\n",
              "        }\n",
              "      </script>\n",
              "    </div>\n",
              "  </div>\n",
              "  "
            ]
          },
          "metadata": {},
          "execution_count": 15
        }
      ]
    },
    {
      "cell_type": "code",
      "source": [
        "# URL 데이터 프레임 저장\n",
        "# Google Drive 불러온 후\n",
        "\n",
        "path = '/content/drive/MyDrive/[deep daiv.] 머신러닝 입문/'\n",
        "file_name = '네이버 뉴스_AI_{}.csv'.format(date_string)\n",
        "df.to_csv(path + file_name, index = False)"
      ],
      "metadata": {
        "id": "8LL4uWoLJoKT",
        "colab": {
          "base_uri": "https://localhost:8080/",
          "height": 368
        },
        "outputId": "070b6f5d-d407-4378-9c80-c02f54d5a8de"
      },
      "execution_count": null,
      "outputs": [
        {
          "output_type": "error",
          "ename": "OSError",
          "evalue": "ignored",
          "traceback": [
            "\u001b[0;31m---------------------------------------------------------------------------\u001b[0m",
            "\u001b[0;31mOSError\u001b[0m                                   Traceback (most recent call last)",
            "\u001b[0;32m<ipython-input-21-b78f3d730840>\u001b[0m in \u001b[0;36m<module>\u001b[0;34m\u001b[0m\n\u001b[1;32m      4\u001b[0m \u001b[0mpath\u001b[0m \u001b[0;34m=\u001b[0m \u001b[0;34m'/content/drive/MyDrive/[deep daiv.] 머신러닝 입문/'\u001b[0m\u001b[0;34m\u001b[0m\u001b[0;34m\u001b[0m\u001b[0m\n\u001b[1;32m      5\u001b[0m \u001b[0mfile_name\u001b[0m \u001b[0;34m=\u001b[0m \u001b[0;34m'네이버 뉴스_AI_{}.csv'\u001b[0m\u001b[0;34m.\u001b[0m\u001b[0mformat\u001b[0m\u001b[0;34m(\u001b[0m\u001b[0mdate_string\u001b[0m\u001b[0;34m)\u001b[0m\u001b[0;34m\u001b[0m\u001b[0;34m\u001b[0m\u001b[0m\n\u001b[0;32m----> 6\u001b[0;31m \u001b[0mdf\u001b[0m\u001b[0;34m.\u001b[0m\u001b[0mto_csv\u001b[0m\u001b[0;34m(\u001b[0m\u001b[0mpath\u001b[0m \u001b[0;34m+\u001b[0m \u001b[0mfile_name\u001b[0m\u001b[0;34m,\u001b[0m \u001b[0mindex\u001b[0m \u001b[0;34m=\u001b[0m \u001b[0;32mFalse\u001b[0m\u001b[0;34m)\u001b[0m\u001b[0;34m\u001b[0m\u001b[0;34m\u001b[0m\u001b[0m\n\u001b[0m",
            "\u001b[0;32m/usr/local/lib/python3.9/dist-packages/pandas/core/generic.py\u001b[0m in \u001b[0;36mto_csv\u001b[0;34m(self, path_or_buf, sep, na_rep, float_format, columns, header, index, index_label, mode, encoding, compression, quoting, quotechar, line_terminator, chunksize, date_format, doublequote, escapechar, decimal, errors, storage_options)\u001b[0m\n\u001b[1;32m   3549\u001b[0m         )\n\u001b[1;32m   3550\u001b[0m \u001b[0;34m\u001b[0m\u001b[0m\n\u001b[0;32m-> 3551\u001b[0;31m         return DataFrameRenderer(formatter).to_csv(\n\u001b[0m\u001b[1;32m   3552\u001b[0m             \u001b[0mpath_or_buf\u001b[0m\u001b[0;34m,\u001b[0m\u001b[0;34m\u001b[0m\u001b[0;34m\u001b[0m\u001b[0m\n\u001b[1;32m   3553\u001b[0m             \u001b[0mline_terminator\u001b[0m\u001b[0;34m=\u001b[0m\u001b[0mline_terminator\u001b[0m\u001b[0;34m,\u001b[0m\u001b[0;34m\u001b[0m\u001b[0;34m\u001b[0m\u001b[0m\n",
            "\u001b[0;32m/usr/local/lib/python3.9/dist-packages/pandas/io/formats/format.py\u001b[0m in \u001b[0;36mto_csv\u001b[0;34m(self, path_or_buf, encoding, sep, columns, index_label, mode, compression, quoting, quotechar, line_terminator, chunksize, date_format, doublequote, escapechar, errors, storage_options)\u001b[0m\n\u001b[1;32m   1178\u001b[0m             \u001b[0mformatter\u001b[0m\u001b[0;34m=\u001b[0m\u001b[0mself\u001b[0m\u001b[0;34m.\u001b[0m\u001b[0mfmt\u001b[0m\u001b[0;34m,\u001b[0m\u001b[0;34m\u001b[0m\u001b[0;34m\u001b[0m\u001b[0m\n\u001b[1;32m   1179\u001b[0m         )\n\u001b[0;32m-> 1180\u001b[0;31m         \u001b[0mcsv_formatter\u001b[0m\u001b[0;34m.\u001b[0m\u001b[0msave\u001b[0m\u001b[0;34m(\u001b[0m\u001b[0;34m)\u001b[0m\u001b[0;34m\u001b[0m\u001b[0;34m\u001b[0m\u001b[0m\n\u001b[0m\u001b[1;32m   1181\u001b[0m \u001b[0;34m\u001b[0m\u001b[0m\n\u001b[1;32m   1182\u001b[0m         \u001b[0;32mif\u001b[0m \u001b[0mcreated_buffer\u001b[0m\u001b[0;34m:\u001b[0m\u001b[0;34m\u001b[0m\u001b[0;34m\u001b[0m\u001b[0m\n",
            "\u001b[0;32m/usr/local/lib/python3.9/dist-packages/pandas/io/formats/csvs.py\u001b[0m in \u001b[0;36msave\u001b[0;34m(self)\u001b[0m\n\u001b[1;32m    239\u001b[0m         \"\"\"\n\u001b[1;32m    240\u001b[0m         \u001b[0;31m# apply compression and byte/text conversion\u001b[0m\u001b[0;34m\u001b[0m\u001b[0;34m\u001b[0m\u001b[0m\n\u001b[0;32m--> 241\u001b[0;31m         with get_handle(\n\u001b[0m\u001b[1;32m    242\u001b[0m             \u001b[0mself\u001b[0m\u001b[0;34m.\u001b[0m\u001b[0mfilepath_or_buffer\u001b[0m\u001b[0;34m,\u001b[0m\u001b[0;34m\u001b[0m\u001b[0;34m\u001b[0m\u001b[0m\n\u001b[1;32m    243\u001b[0m             \u001b[0mself\u001b[0m\u001b[0;34m.\u001b[0m\u001b[0mmode\u001b[0m\u001b[0;34m,\u001b[0m\u001b[0;34m\u001b[0m\u001b[0;34m\u001b[0m\u001b[0m\n",
            "\u001b[0;32m/usr/local/lib/python3.9/dist-packages/pandas/io/common.py\u001b[0m in \u001b[0;36mget_handle\u001b[0;34m(path_or_buf, mode, encoding, compression, memory_map, is_text, errors, storage_options)\u001b[0m\n\u001b[1;32m    692\u001b[0m     \u001b[0;31m# Only for write methods\u001b[0m\u001b[0;34m\u001b[0m\u001b[0;34m\u001b[0m\u001b[0m\n\u001b[1;32m    693\u001b[0m     \u001b[0;32mif\u001b[0m \u001b[0;34m\"r\"\u001b[0m \u001b[0;32mnot\u001b[0m \u001b[0;32min\u001b[0m \u001b[0mmode\u001b[0m \u001b[0;32mand\u001b[0m \u001b[0mis_path\u001b[0m\u001b[0;34m:\u001b[0m\u001b[0;34m\u001b[0m\u001b[0;34m\u001b[0m\u001b[0m\n\u001b[0;32m--> 694\u001b[0;31m         \u001b[0mcheck_parent_directory\u001b[0m\u001b[0;34m(\u001b[0m\u001b[0mstr\u001b[0m\u001b[0;34m(\u001b[0m\u001b[0mhandle\u001b[0m\u001b[0;34m)\u001b[0m\u001b[0;34m)\u001b[0m\u001b[0;34m\u001b[0m\u001b[0;34m\u001b[0m\u001b[0m\n\u001b[0m\u001b[1;32m    695\u001b[0m \u001b[0;34m\u001b[0m\u001b[0m\n\u001b[1;32m    696\u001b[0m     \u001b[0;32mif\u001b[0m \u001b[0mcompression\u001b[0m\u001b[0;34m:\u001b[0m\u001b[0;34m\u001b[0m\u001b[0;34m\u001b[0m\u001b[0m\n",
            "\u001b[0;32m/usr/local/lib/python3.9/dist-packages/pandas/io/common.py\u001b[0m in \u001b[0;36mcheck_parent_directory\u001b[0;34m(path)\u001b[0m\n\u001b[1;32m    566\u001b[0m     \u001b[0mparent\u001b[0m \u001b[0;34m=\u001b[0m \u001b[0mPath\u001b[0m\u001b[0;34m(\u001b[0m\u001b[0mpath\u001b[0m\u001b[0;34m)\u001b[0m\u001b[0;34m.\u001b[0m\u001b[0mparent\u001b[0m\u001b[0;34m\u001b[0m\u001b[0;34m\u001b[0m\u001b[0m\n\u001b[1;32m    567\u001b[0m     \u001b[0;32mif\u001b[0m \u001b[0;32mnot\u001b[0m \u001b[0mparent\u001b[0m\u001b[0;34m.\u001b[0m\u001b[0mis_dir\u001b[0m\u001b[0;34m(\u001b[0m\u001b[0;34m)\u001b[0m\u001b[0;34m:\u001b[0m\u001b[0;34m\u001b[0m\u001b[0;34m\u001b[0m\u001b[0m\n\u001b[0;32m--> 568\u001b[0;31m         \u001b[0;32mraise\u001b[0m \u001b[0mOSError\u001b[0m\u001b[0;34m(\u001b[0m\u001b[0;34mrf\"Cannot save file into a non-existent directory: '{parent}'\"\u001b[0m\u001b[0;34m)\u001b[0m\u001b[0;34m\u001b[0m\u001b[0;34m\u001b[0m\u001b[0m\n\u001b[0m\u001b[1;32m    569\u001b[0m \u001b[0;34m\u001b[0m\u001b[0m\n\u001b[1;32m    570\u001b[0m \u001b[0;34m\u001b[0m\u001b[0m\n",
            "\u001b[0;31mOSError\u001b[0m: Cannot save file into a non-existent directory: '/content/drive/MyDrive/[deep daiv.] 머신러닝 입문'"
          ]
        }
      ]
    },
    {
      "cell_type": "markdown",
      "source": [
        "## 뉴스 기사 본문 수집 복습"
      ],
      "metadata": {
        "id": "sQD5gN7Ua8j5"
      }
    },
    {
      "cell_type": "code",
      "source": [
        "from urllib.request import urlopen"
      ],
      "metadata": {
        "id": "oXu0bxIZaApg"
      },
      "execution_count": null,
      "outputs": []
    },
    {
      "cell_type": "code",
      "source": [
        "df = pd.read_csv(path + '네이버 뉴스_AI_{}.csv'.format(date_string))"
      ],
      "metadata": {
        "id": "wa3DwVAvbKu6",
        "colab": {
          "base_uri": "https://localhost:8080/",
          "height": 331
        },
        "outputId": "bf56cb02-ac50-434d-aa3e-1052116f5430"
      },
      "execution_count": null,
      "outputs": [
        {
          "output_type": "error",
          "ename": "FileNotFoundError",
          "evalue": "ignored",
          "traceback": [
            "\u001b[0;31m---------------------------------------------------------------------------\u001b[0m",
            "\u001b[0;31mFileNotFoundError\u001b[0m                         Traceback (most recent call last)",
            "\u001b[0;32m<ipython-input-19-48961527aae4>\u001b[0m in \u001b[0;36m<module>\u001b[0;34m\u001b[0m\n\u001b[0;32m----> 1\u001b[0;31m \u001b[0mdf\u001b[0m \u001b[0;34m=\u001b[0m \u001b[0mpd\u001b[0m\u001b[0;34m.\u001b[0m\u001b[0mread_csv\u001b[0m\u001b[0;34m(\u001b[0m\u001b[0mpath\u001b[0m \u001b[0;34m+\u001b[0m \u001b[0;34m'네이버 뉴스_AI_{}.csv'\u001b[0m\u001b[0;34m.\u001b[0m\u001b[0mformat\u001b[0m\u001b[0;34m(\u001b[0m\u001b[0mdate_string\u001b[0m\u001b[0;34m)\u001b[0m\u001b[0;34m)\u001b[0m\u001b[0;34m\u001b[0m\u001b[0;34m\u001b[0m\u001b[0m\n\u001b[0m",
            "\u001b[0;32m/usr/local/lib/python3.9/dist-packages/pandas/util/_decorators.py\u001b[0m in \u001b[0;36mwrapper\u001b[0;34m(*args, **kwargs)\u001b[0m\n\u001b[1;32m    309\u001b[0m                     \u001b[0mstacklevel\u001b[0m\u001b[0;34m=\u001b[0m\u001b[0mstacklevel\u001b[0m\u001b[0;34m,\u001b[0m\u001b[0;34m\u001b[0m\u001b[0;34m\u001b[0m\u001b[0m\n\u001b[1;32m    310\u001b[0m                 )\n\u001b[0;32m--> 311\u001b[0;31m             \u001b[0;32mreturn\u001b[0m \u001b[0mfunc\u001b[0m\u001b[0;34m(\u001b[0m\u001b[0;34m*\u001b[0m\u001b[0margs\u001b[0m\u001b[0;34m,\u001b[0m \u001b[0;34m**\u001b[0m\u001b[0mkwargs\u001b[0m\u001b[0;34m)\u001b[0m\u001b[0;34m\u001b[0m\u001b[0;34m\u001b[0m\u001b[0m\n\u001b[0m\u001b[1;32m    312\u001b[0m \u001b[0;34m\u001b[0m\u001b[0m\n\u001b[1;32m    313\u001b[0m         \u001b[0;32mreturn\u001b[0m \u001b[0mwrapper\u001b[0m\u001b[0;34m\u001b[0m\u001b[0;34m\u001b[0m\u001b[0m\n",
            "\u001b[0;32m/usr/local/lib/python3.9/dist-packages/pandas/io/parsers/readers.py\u001b[0m in \u001b[0;36mread_csv\u001b[0;34m(filepath_or_buffer, sep, delimiter, header, names, index_col, usecols, squeeze, prefix, mangle_dupe_cols, dtype, engine, converters, true_values, false_values, skipinitialspace, skiprows, skipfooter, nrows, na_values, keep_default_na, na_filter, verbose, skip_blank_lines, parse_dates, infer_datetime_format, keep_date_col, date_parser, dayfirst, cache_dates, iterator, chunksize, compression, thousands, decimal, lineterminator, quotechar, quoting, doublequote, escapechar, comment, encoding, encoding_errors, dialect, error_bad_lines, warn_bad_lines, on_bad_lines, delim_whitespace, low_memory, memory_map, float_precision, storage_options)\u001b[0m\n\u001b[1;32m    676\u001b[0m     \u001b[0mkwds\u001b[0m\u001b[0;34m.\u001b[0m\u001b[0mupdate\u001b[0m\u001b[0;34m(\u001b[0m\u001b[0mkwds_defaults\u001b[0m\u001b[0;34m)\u001b[0m\u001b[0;34m\u001b[0m\u001b[0;34m\u001b[0m\u001b[0m\n\u001b[1;32m    677\u001b[0m \u001b[0;34m\u001b[0m\u001b[0m\n\u001b[0;32m--> 678\u001b[0;31m     \u001b[0;32mreturn\u001b[0m \u001b[0m_read\u001b[0m\u001b[0;34m(\u001b[0m\u001b[0mfilepath_or_buffer\u001b[0m\u001b[0;34m,\u001b[0m \u001b[0mkwds\u001b[0m\u001b[0;34m)\u001b[0m\u001b[0;34m\u001b[0m\u001b[0;34m\u001b[0m\u001b[0m\n\u001b[0m\u001b[1;32m    679\u001b[0m \u001b[0;34m\u001b[0m\u001b[0m\n\u001b[1;32m    680\u001b[0m \u001b[0;34m\u001b[0m\u001b[0m\n",
            "\u001b[0;32m/usr/local/lib/python3.9/dist-packages/pandas/io/parsers/readers.py\u001b[0m in \u001b[0;36m_read\u001b[0;34m(filepath_or_buffer, kwds)\u001b[0m\n\u001b[1;32m    573\u001b[0m \u001b[0;34m\u001b[0m\u001b[0m\n\u001b[1;32m    574\u001b[0m     \u001b[0;31m# Create the parser.\u001b[0m\u001b[0;34m\u001b[0m\u001b[0;34m\u001b[0m\u001b[0m\n\u001b[0;32m--> 575\u001b[0;31m     \u001b[0mparser\u001b[0m \u001b[0;34m=\u001b[0m \u001b[0mTextFileReader\u001b[0m\u001b[0;34m(\u001b[0m\u001b[0mfilepath_or_buffer\u001b[0m\u001b[0;34m,\u001b[0m \u001b[0;34m**\u001b[0m\u001b[0mkwds\u001b[0m\u001b[0;34m)\u001b[0m\u001b[0;34m\u001b[0m\u001b[0;34m\u001b[0m\u001b[0m\n\u001b[0m\u001b[1;32m    576\u001b[0m \u001b[0;34m\u001b[0m\u001b[0m\n\u001b[1;32m    577\u001b[0m     \u001b[0;32mif\u001b[0m \u001b[0mchunksize\u001b[0m \u001b[0;32mor\u001b[0m \u001b[0miterator\u001b[0m\u001b[0;34m:\u001b[0m\u001b[0;34m\u001b[0m\u001b[0;34m\u001b[0m\u001b[0m\n",
            "\u001b[0;32m/usr/local/lib/python3.9/dist-packages/pandas/io/parsers/readers.py\u001b[0m in \u001b[0;36m__init__\u001b[0;34m(self, f, engine, **kwds)\u001b[0m\n\u001b[1;32m    930\u001b[0m \u001b[0;34m\u001b[0m\u001b[0m\n\u001b[1;32m    931\u001b[0m         \u001b[0mself\u001b[0m\u001b[0;34m.\u001b[0m\u001b[0mhandles\u001b[0m\u001b[0;34m:\u001b[0m \u001b[0mIOHandles\u001b[0m \u001b[0;34m|\u001b[0m \u001b[0;32mNone\u001b[0m \u001b[0;34m=\u001b[0m \u001b[0;32mNone\u001b[0m\u001b[0;34m\u001b[0m\u001b[0;34m\u001b[0m\u001b[0m\n\u001b[0;32m--> 932\u001b[0;31m         \u001b[0mself\u001b[0m\u001b[0;34m.\u001b[0m\u001b[0m_engine\u001b[0m \u001b[0;34m=\u001b[0m \u001b[0mself\u001b[0m\u001b[0;34m.\u001b[0m\u001b[0m_make_engine\u001b[0m\u001b[0;34m(\u001b[0m\u001b[0mf\u001b[0m\u001b[0;34m,\u001b[0m \u001b[0mself\u001b[0m\u001b[0;34m.\u001b[0m\u001b[0mengine\u001b[0m\u001b[0;34m)\u001b[0m\u001b[0;34m\u001b[0m\u001b[0;34m\u001b[0m\u001b[0m\n\u001b[0m\u001b[1;32m    933\u001b[0m \u001b[0;34m\u001b[0m\u001b[0m\n\u001b[1;32m    934\u001b[0m     \u001b[0;32mdef\u001b[0m \u001b[0mclose\u001b[0m\u001b[0;34m(\u001b[0m\u001b[0mself\u001b[0m\u001b[0;34m)\u001b[0m\u001b[0;34m:\u001b[0m\u001b[0;34m\u001b[0m\u001b[0;34m\u001b[0m\u001b[0m\n",
            "\u001b[0;32m/usr/local/lib/python3.9/dist-packages/pandas/io/parsers/readers.py\u001b[0m in \u001b[0;36m_make_engine\u001b[0;34m(self, f, engine)\u001b[0m\n\u001b[1;32m   1214\u001b[0m             \u001b[0;31m# \"Union[str, PathLike[str], ReadCsvBuffer[bytes], ReadCsvBuffer[str]]\"\u001b[0m\u001b[0;34m\u001b[0m\u001b[0;34m\u001b[0m\u001b[0m\n\u001b[1;32m   1215\u001b[0m             \u001b[0;31m# , \"str\", \"bool\", \"Any\", \"Any\", \"Any\", \"Any\", \"Any\"\u001b[0m\u001b[0;34m\u001b[0m\u001b[0;34m\u001b[0m\u001b[0m\n\u001b[0;32m-> 1216\u001b[0;31m             self.handles = get_handle(  # type: ignore[call-overload]\n\u001b[0m\u001b[1;32m   1217\u001b[0m                 \u001b[0mf\u001b[0m\u001b[0;34m,\u001b[0m\u001b[0;34m\u001b[0m\u001b[0;34m\u001b[0m\u001b[0m\n\u001b[1;32m   1218\u001b[0m                 \u001b[0mmode\u001b[0m\u001b[0;34m,\u001b[0m\u001b[0;34m\u001b[0m\u001b[0;34m\u001b[0m\u001b[0m\n",
            "\u001b[0;32m/usr/local/lib/python3.9/dist-packages/pandas/io/common.py\u001b[0m in \u001b[0;36mget_handle\u001b[0;34m(path_or_buf, mode, encoding, compression, memory_map, is_text, errors, storage_options)\u001b[0m\n\u001b[1;32m    784\u001b[0m         \u001b[0;32mif\u001b[0m \u001b[0mioargs\u001b[0m\u001b[0;34m.\u001b[0m\u001b[0mencoding\u001b[0m \u001b[0;32mand\u001b[0m \u001b[0;34m\"b\"\u001b[0m \u001b[0;32mnot\u001b[0m \u001b[0;32min\u001b[0m \u001b[0mioargs\u001b[0m\u001b[0;34m.\u001b[0m\u001b[0mmode\u001b[0m\u001b[0;34m:\u001b[0m\u001b[0;34m\u001b[0m\u001b[0;34m\u001b[0m\u001b[0m\n\u001b[1;32m    785\u001b[0m             \u001b[0;31m# Encoding\u001b[0m\u001b[0;34m\u001b[0m\u001b[0;34m\u001b[0m\u001b[0m\n\u001b[0;32m--> 786\u001b[0;31m             handle = open(\n\u001b[0m\u001b[1;32m    787\u001b[0m                 \u001b[0mhandle\u001b[0m\u001b[0;34m,\u001b[0m\u001b[0;34m\u001b[0m\u001b[0;34m\u001b[0m\u001b[0m\n\u001b[1;32m    788\u001b[0m                 \u001b[0mioargs\u001b[0m\u001b[0;34m.\u001b[0m\u001b[0mmode\u001b[0m\u001b[0;34m,\u001b[0m\u001b[0;34m\u001b[0m\u001b[0;34m\u001b[0m\u001b[0m\n",
            "\u001b[0;31mFileNotFoundError\u001b[0m: [Errno 2] No such file or directory: '/content/drive/MyDrive/[deep daiv.] 머신러닝 입문/네이버 뉴스_AI_2023.03.11.csv'"
          ]
        }
      ]
    },
    {
      "cell_type": "code",
      "source": [
        "test_url = df['URL'][1]\n",
        "\n",
        "res = urlopen(test_url)\n",
        "html = res.read().decode('utf-8')\n",
        "soup = BeautifulSoup(html, 'lxml')"
      ],
      "metadata": {
        "id": "w9qJEpTlbecj",
        "colab": {
          "base_uri": "https://localhost:8080/",
          "height": 381
        },
        "outputId": "f1b19c45-edfd-4271-8d10-c7fc0b2aec8c"
      },
      "execution_count": null,
      "outputs": [
        {
          "output_type": "error",
          "ename": "IndexError",
          "evalue": "ignored",
          "traceback": [
            "\u001b[0;31m---------------------------------------------------------------------------\u001b[0m",
            "\u001b[0;31mIndexError\u001b[0m                                Traceback (most recent call last)",
            "\u001b[0;32m<ipython-input-20-1a4c2d1a6c56>\u001b[0m in \u001b[0;36m<module>\u001b[0;34m\u001b[0m\n\u001b[0;32m----> 1\u001b[0;31m \u001b[0mtest_url\u001b[0m \u001b[0;34m=\u001b[0m \u001b[0mdf\u001b[0m\u001b[0;34m[\u001b[0m\u001b[0;34m'URL'\u001b[0m\u001b[0;34m]\u001b[0m\u001b[0;34m[\u001b[0m\u001b[0;36m1\u001b[0m\u001b[0;34m]\u001b[0m\u001b[0;34m\u001b[0m\u001b[0;34m\u001b[0m\u001b[0m\n\u001b[0m\u001b[1;32m      2\u001b[0m \u001b[0;34m\u001b[0m\u001b[0m\n\u001b[1;32m      3\u001b[0m \u001b[0mres\u001b[0m \u001b[0;34m=\u001b[0m \u001b[0murlopen\u001b[0m\u001b[0;34m(\u001b[0m\u001b[0mtest_url\u001b[0m\u001b[0;34m)\u001b[0m\u001b[0;34m\u001b[0m\u001b[0;34m\u001b[0m\u001b[0m\n\u001b[1;32m      4\u001b[0m \u001b[0mhtml\u001b[0m \u001b[0;34m=\u001b[0m \u001b[0mres\u001b[0m\u001b[0;34m.\u001b[0m\u001b[0mread\u001b[0m\u001b[0;34m(\u001b[0m\u001b[0;34m)\u001b[0m\u001b[0;34m.\u001b[0m\u001b[0mdecode\u001b[0m\u001b[0;34m(\u001b[0m\u001b[0;34m'utf-8'\u001b[0m\u001b[0;34m)\u001b[0m\u001b[0;34m\u001b[0m\u001b[0;34m\u001b[0m\u001b[0m\n\u001b[1;32m      5\u001b[0m \u001b[0msoup\u001b[0m \u001b[0;34m=\u001b[0m \u001b[0mBeautifulSoup\u001b[0m\u001b[0;34m(\u001b[0m\u001b[0mhtml\u001b[0m\u001b[0;34m,\u001b[0m \u001b[0;34m'lxml'\u001b[0m\u001b[0;34m)\u001b[0m\u001b[0;34m\u001b[0m\u001b[0;34m\u001b[0m\u001b[0m\n",
            "\u001b[0;32m/usr/local/lib/python3.9/dist-packages/pandas/core/series.py\u001b[0m in \u001b[0;36m__getitem__\u001b[0;34m(self, key)\u001b[0m\n\u001b[1;32m    953\u001b[0m \u001b[0;34m\u001b[0m\u001b[0m\n\u001b[1;32m    954\u001b[0m         \u001b[0;32mif\u001b[0m \u001b[0mis_integer\u001b[0m\u001b[0;34m(\u001b[0m\u001b[0mkey\u001b[0m\u001b[0;34m)\u001b[0m \u001b[0;32mand\u001b[0m \u001b[0mself\u001b[0m\u001b[0;34m.\u001b[0m\u001b[0mindex\u001b[0m\u001b[0;34m.\u001b[0m\u001b[0m_should_fallback_to_positional\u001b[0m\u001b[0;34m:\u001b[0m\u001b[0;34m\u001b[0m\u001b[0;34m\u001b[0m\u001b[0m\n\u001b[0;32m--> 955\u001b[0;31m             \u001b[0;32mreturn\u001b[0m \u001b[0mself\u001b[0m\u001b[0;34m.\u001b[0m\u001b[0m_values\u001b[0m\u001b[0;34m[\u001b[0m\u001b[0mkey\u001b[0m\u001b[0;34m]\u001b[0m\u001b[0;34m\u001b[0m\u001b[0;34m\u001b[0m\u001b[0m\n\u001b[0m\u001b[1;32m    956\u001b[0m \u001b[0;34m\u001b[0m\u001b[0m\n\u001b[1;32m    957\u001b[0m         \u001b[0;32melif\u001b[0m \u001b[0mkey_is_scalar\u001b[0m\u001b[0;34m:\u001b[0m\u001b[0;34m\u001b[0m\u001b[0;34m\u001b[0m\u001b[0m\n",
            "\u001b[0;31mIndexError\u001b[0m: index 1 is out of bounds for axis 0 with size 0"
          ]
        }
      ]
    },
    {
      "cell_type": "code",
      "source": [
        "# 뉴스 기사 제목 수집\n",
        "title = soup.find('h2').text\n",
        "print(title)"
      ],
      "metadata": {
        "id": "aw9wnAAmbj_4"
      },
      "execution_count": null,
      "outputs": []
    },
    {
      "cell_type": "code",
      "source": [
        "# 뉴스 기사 본문 수집\n",
        "content = soup.find('div', {'id' : 'dic_area'}).text.strip()\n",
        "\n",
        "content = re.sub('\\n+', '\\n', content) # 이 코드는 정규표현식을 활용하여 불필요한(\\n) 띄어쓰기를 줄이는 코드입니다.\n",
        "print(content)"
      ],
      "metadata": {
        "id": "Sf9IITJKcS07"
      },
      "execution_count": null,
      "outputs": []
    },
    {
      "cell_type": "code",
      "source": [
        "# 언론사 수집\n",
        "press = soup.find('img', 'media_end_head_top_logo_img light_type').get('title')\n",
        "print(press)"
      ],
      "metadata": {
        "id": "sWOqnmfVc4Ao"
      },
      "execution_count": null,
      "outputs": []
    },
    {
      "cell_type": "code",
      "source": [
        "# 날짜 데이터 변환\n",
        "from datetime import datetime, timedelta, timezone\n",
        "\n",
        "date = soup.find('span','media_end_head_info_datestamp_time _ARTICLE_DATE_TIME').get('data-date-time')\n",
        "date = datetime.strptime(date, '%Y-%m-%d %H:%M:%S')\n",
        "print(date)"
      ],
      "metadata": {
        "id": "79skuIzDdxJr"
      },
      "execution_count": null,
      "outputs": []
    },
    {
      "cell_type": "code",
      "source": [
        "# 반복문의 진행 상황을 알려주는 패키지: tqdm\n",
        "from tqdm.auto import tqdm"
      ],
      "metadata": {
        "id": "ac1nmBvKpZTm"
      },
      "execution_count": null,
      "outputs": []
    },
    {
      "cell_type": "code",
      "source": [
        "data_list = []\n",
        "error_list = []\n",
        "\n",
        "for url in tqdm(df['URL']):\n",
        "    try:\n",
        "        res = urlopen(url)\n",
        "        time.sleep(1)\n",
        "    except:\n",
        "        error_list.append(url)\n",
        "        print(url)\n",
        "        time.sleep(1)\n",
        "        continue\n",
        "\n",
        "    if 'entertain.naver.com' in res.url or 'sports.news.naver.com' in res.url:\n",
        "        error_list.append(url)\n",
        "        print(url)\n",
        "        continue\n",
        "\n",
        "    html = res.read().decode('utf-8')\n",
        "    soup = BeautifulSoup(html, 'lxml')\n",
        "\n",
        "    # 타이틀\n",
        "    title = soup.find('h2').text.strip()\n",
        "\n",
        "    # 본문 내용\n",
        "    content = soup.find('div', {'id' : 'dic_area'}).text.strip()\n",
        "    content = re.sub('\\n+', '\\n', content)\n",
        "\n",
        "    # 언론사\n",
        "    press = soup.find('img', 'media_end_head_top_logo_img light_type').get('title')\n",
        "\n",
        "    # 날짜\n",
        "    date = soup.find('span','media_end_head_info_datestamp_time _ARTICLE_DATE_TIME').get('data-date-time')\n",
        "    date = datetime.strptime(date, '%Y-%m-%d %H:%M:%S')\n",
        "\n",
        "    data = title, content, press, date\n",
        "    data_list.append(data)\n",
        "\n",
        "    if len(data_list) % 100 == 0:\n",
        "        news = pd.DataFrame(data_list, columns = ['Title', 'Content', 'Press', 'Date'])\n",
        "        news.to_csv(path + '네이버 뉴스 본문_AI_11월 1주차.csv', index = False)\n",
        "        \n",
        "        with open(path + 'news_list_11월 1주차.p', 'wb') as f:\n",
        "            pickle.dump(data_list, f)\n",
        "\n",
        "        datetime_utc = datetime.utcnow()\n",
        "        timezone_kst = timezone(timedelta(hours = 9))\n",
        "        datetime_kst = datetime_utc.astimezone(timezone_kst)\n",
        "        print(datetime_kst)"
      ],
      "metadata": {
        "id": "HCrVO0M4hJ9O"
      },
      "execution_count": null,
      "outputs": []
    },
    {
      "cell_type": "code",
      "source": [
        "len(data_list)"
      ],
      "metadata": {
        "id": "mj_LuuvPrmyM"
      },
      "execution_count": null,
      "outputs": []
    },
    {
      "cell_type": "code",
      "source": [
        "data_list[-1]"
      ],
      "metadata": {
        "id": "dr0Rg96buvnm"
      },
      "execution_count": null,
      "outputs": []
    },
    {
      "cell_type": "code",
      "source": [
        "news = pd.DataFrame(data_list, columns = ['Title', 'Content', 'Press', 'Date'])\n",
        "news.to_csv(path + '네이버 뉴스 본문_AI.csv', index = False)\n",
        "\n",
        "import pickle\n",
        "with open(path + 'news_list_{}.p'.format(date_string), 'wb') as f:\n",
        "    pickle.dump(data_list, f)"
      ],
      "metadata": {
        "id": "W790DEpSNFDW"
      },
      "execution_count": null,
      "outputs": []
    },
    {
      "cell_type": "code",
      "source": [
        "with open(path+'news_list_{}.p'.format(date_string), 'rb') as f:\n",
        "    data_list = pickle.load(f)"
      ],
      "metadata": {
        "id": "h27sGVKnt8L2"
      },
      "execution_count": null,
      "outputs": []
    }
  ]
}