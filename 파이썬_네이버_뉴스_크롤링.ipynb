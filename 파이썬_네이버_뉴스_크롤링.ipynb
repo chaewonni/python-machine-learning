{
  "nbformat": 4,
  "nbformat_minor": 0,
  "metadata": {
    "colab": {
      "provenance": [],
      "include_colab_link": true
    },
    "kernelspec": {
      "name": "python3",
      "display_name": "Python 3"
    },
    "language_info": {
      "name": "python"
    }
  },
  "cells": [
    {
      "cell_type": "markdown",
      "metadata": {
        "id": "view-in-github",
        "colab_type": "text"
      },
      "source": [
        "<a href=\"https://colab.research.google.com/github/chaewonni/python-machine-learning/blob/main/%E1%84%91%E1%85%A1%E1%84%8B%E1%85%B5%E1%84%8A%E1%85%A5%E1%86%AB_%E1%84%82%E1%85%A6%E1%84%8B%E1%85%B5%E1%84%87%E1%85%A5_%E1%84%82%E1%85%B2%E1%84%89%E1%85%B3_%E1%84%8F%E1%85%B3%E1%84%85%E1%85%A9%E1%86%AF%E1%84%85%E1%85%B5%E1%86%BC.ipynb\" target=\"_parent\"><img src=\"https://colab.research.google.com/assets/colab-badge.svg\" alt=\"Open In Colab\"/></a>"
      ]
    },
    {
      "cell_type": "markdown",
      "source": [
        "# 1강 Python 기초 | 네이버 뉴스 크롤링\n",
        "\n",
        "1주차는 Python 기초 문법을 익히고, 네이버에서 뉴스 기사를 크롤링해봅니다.<br>\n",
        "<br>\n",
        "우선, Python의 자료형과 반복문에 대해서 알아보도록 하겠습니다.<br>\n",
        "\n"
      ],
      "metadata": {
        "id": "32IsXnD8wOIL"
      }
    },
    {
      "cell_type": "markdown",
      "source": [
        "## 파이썬 기초"
      ],
      "metadata": {
        "id": "OCpkQKy2EN-z"
      }
    },
    {
      "cell_type": "markdown",
      "source": [
        "### 1. 숫자형 데이터"
      ],
      "metadata": {
        "id": "SOWL6kqj636N"
      }
    },
    {
      "cell_type": "code",
      "execution_count": null,
      "metadata": {
        "colab": {
          "base_uri": "https://localhost:8080/"
        },
        "id": "PZ72ufuru3Fz",
        "outputId": "3376d71e-2aec-44df-e525-a7b87443cc5d"
      },
      "outputs": [
        {
          "output_type": "stream",
          "name": "stdout",
          "text": [
            "3\n"
          ]
        }
      ],
      "source": [
        "# 변수 할당 숫자 덧셈\n",
        "\n",
        "a = 1\n",
        "b = 2\n",
        "c = a + b\n",
        "\n",
        "print(c)"
      ]
    },
    {
      "cell_type": "code",
      "source": [
        "# 숫자 제곱\n",
        "\n",
        "# 피타고라스의 정리\n",
        "\n",
        "a = 3\n",
        "b = 4 \n",
        "c = a**2 + b**2\n",
        "\n",
        "print('a가', a, 'b가', b, '일 때', 'c의 길이는', c**0.5)"
      ],
      "metadata": {
        "colab": {
          "base_uri": "https://localhost:8080/"
        },
        "id": "wS9ZZIli7dex",
        "outputId": "411e8a7b-e70e-45e7-d9d9-7dd43cfb8a52"
      },
      "execution_count": null,
      "outputs": [
        {
          "output_type": "stream",
          "name": "stdout",
          "text": [
            "a가 3 b가 4 일 때 c의 길이는 5.0\n"
          ]
        }
      ]
    },
    {
      "cell_type": "markdown",
      "source": [
        "### 2. 문자형 데이터"
      ],
      "metadata": {
        "id": "EBkGWjMG68vS"
      }
    },
    {
      "cell_type": "code",
      "source": [
        "# 문자 덧셈\n",
        "\n",
        "a = 'deep'\n",
        "b = 'daiv'\n",
        "\n",
        "c = a + b\n",
        "\n",
        "print(c)"
      ],
      "metadata": {
        "colab": {
          "base_uri": "https://localhost:8080/"
        },
        "id": "aEH3Lhg_x9fC",
        "outputId": "a517ca30-7fe6-46a1-bb98-935ccc802c2f"
      },
      "execution_count": null,
      "outputs": [
        {
          "output_type": "stream",
          "name": "stdout",
          "text": [
            "deepdaiv\n"
          ]
        }
      ]
    },
    {
      "cell_type": "code",
      "source": [
        "# 문자 곱셈\n",
        "\n",
        "a = 'hey '\n",
        "b = 3\n",
        "\n",
        "c = a * b\n",
        "\n",
        "print(c)"
      ],
      "metadata": {
        "colab": {
          "base_uri": "https://localhost:8080/"
        },
        "id": "ZLGbJuw3yHoB",
        "outputId": "ccb49ed3-45a0-4d45-e920-49d87a01551b"
      },
      "execution_count": null,
      "outputs": [
        {
          "output_type": "stream",
          "name": "stdout",
          "text": [
            "hey hey hey \n"
          ]
        }
      ]
    },
    {
      "cell_type": "markdown",
      "source": [
        "### 3. 리스트"
      ],
      "metadata": {
        "id": "4Ga3ZlT27BmL"
      }
    },
    {
      "cell_type": "code",
      "source": [
        "# 리스트와 리스트 인덱싱\n",
        "\n",
        "# 리스트 생성\n",
        "member = ['피카츄', '라이츄', '파이리', '꼬부기', '버터플', '야도란', '피죤투', '또가스']\n",
        "print('지우의 포켓몬 후보:', member) # print 함수에 쉼표(comma)를 넣어서 출력하면 기본적으로 띄어쓰기로 출력됩니다.\n",
        "\n",
        "# 리스트 인덱싱\n",
        "print('지우의 첫 번째 포켓몬: ', member[0]) # 파이썬에서는 가장 첫 번째 인덱스를 0으로 씁니다. R과는 달라요!\n",
        "print('지우의 세 번째 포켓몬: ', member[2]) # 그래서 세 번째는 인덱스가 2입니다.\n",
        "print('지우의 마지막 포켓몬: ', member[-1]) # 뒤에서부터 인덱스를 찾는 경우에는 -1부터 -2, -3...과 같이 내려가면 됩니다."
      ],
      "metadata": {
        "colab": {
          "base_uri": "https://localhost:8080/"
        },
        "id": "OLQ5IYxCyfQ3",
        "outputId": "cb6c1d4d-8f62-4c0f-d403-e685fafa594e"
      },
      "execution_count": null,
      "outputs": [
        {
          "output_type": "stream",
          "name": "stdout",
          "text": [
            "지우의 포켓몬 후보: ['피카츄', '라이츄', '파이리', '꼬부기', '버터플', '야도란', '피죤투', '또가스']\n",
            "지우의 첫 번째 포켓몬:  피카츄\n",
            "지우의 세 번째 포켓몬:  파이리\n",
            "지우의 마지막 포켓몬:  또가스\n"
          ]
        }
      ]
    },
    {
      "cell_type": "code",
      "source": [
        "# 리스트 원소 변경\n",
        "\n",
        "# 파이리가 진화해서 리자몽으로 바뀌었다면?\n",
        "member[2] = '리자몽'\n",
        "print('지우의 변경된 포켓몬 후보:', member)"
      ],
      "metadata": {
        "colab": {
          "base_uri": "https://localhost:8080/"
        },
        "id": "o7tff_CGzNN1",
        "outputId": "9d20ca0f-9b0d-4776-ccf4-8cd3c8fc4b99"
      },
      "execution_count": null,
      "outputs": [
        {
          "output_type": "stream",
          "name": "stdout",
          "text": [
            "지우의 변경된 포켓몬 후보: ['피카츄', '라이츄', '리자몽', '꼬부기', '버터플', '야도란', '피죤투', '또가스']\n"
          ]
        }
      ]
    },
    {
      "cell_type": "code",
      "source": [
        "# 리스트 원소 제거\n",
        "\n",
        "# 야도란과 또가스는 지우의 포켓몬이 아니었다면?\n",
        "\n",
        "# 원소 제거 방법 (1) list.remove\n",
        "member.remove('야도란')\n",
        "\n",
        "# 원소 제거 방법 (2) del\n",
        "i = member.index('또가스') # 원소의 인덱스를 찾아 i 변수에 할당합니다.\n",
        "del member[i] # 리스트에서 원소의 인덱스를 찾아 제거합니다.\n",
        "\n",
        "print('지우에게 남은 포켓몬:', member)"
      ],
      "metadata": {
        "colab": {
          "base_uri": "https://localhost:8080/"
        },
        "id": "VZkfywhZ1oNu",
        "outputId": "eef33c63-c5f2-40c5-f1b2-43fa19901ae6"
      },
      "execution_count": null,
      "outputs": [
        {
          "output_type": "stream",
          "name": "stdout",
          "text": [
            "지우에게 남은 포켓몬: ['피카츄', '라이츄', '리자몽', '꼬부기', '버터플', '피죤투']\n"
          ]
        }
      ]
    },
    {
      "cell_type": "code",
      "source": [
        "# 리스트 원소 추가\n",
        "\n",
        "# 지우가 새롭게 야생의 포켓몬 잠만보를 잡았다면?\n",
        "member.append('잠만보')\n",
        "print('지우가 새롭게 잡은 포켓몬:', member)"
      ],
      "metadata": {
        "colab": {
          "base_uri": "https://localhost:8080/"
        },
        "id": "5rS3Leex3h_e",
        "outputId": "be8ab5a6-67e0-4c71-e3ae-dd928c0ab3ee"
      },
      "execution_count": null,
      "outputs": [
        {
          "output_type": "stream",
          "name": "stdout",
          "text": [
            "지우가 새롭게 잡은 포켓몬: ['피카츄', '라이츄', '리자몽', '꼬부기', '버터플', '피죤투', '잠만보']\n"
          ]
        }
      ]
    },
    {
      "cell_type": "code",
      "source": [
        "# 리스트에 리스트 추가(확장)\n",
        "\n",
        "# 웅이가 포켓몬을 맡아달라고 했다...!\n",
        "woong_pokemon = ['롱스톤', '꼬마돌']\n",
        "member.extend(woong_pokemon)\n",
        "print('지우가 현재 보유한 포켓몬:', member)"
      ],
      "metadata": {
        "colab": {
          "base_uri": "https://localhost:8080/"
        },
        "id": "KafgdDMS31Lb",
        "outputId": "44d2f491-8061-4e8c-dbe4-2e13993b7ea2"
      },
      "execution_count": null,
      "outputs": [
        {
          "output_type": "stream",
          "name": "stdout",
          "text": [
            "지우가 현재 보유한 포켓몬: ['피카츄', '라이츄', '리자몽', '꼬부기', '버터플', '피죤투', '잠만보', '롱스톤', '꼬마돌']\n"
          ]
        }
      ]
    },
    {
      "cell_type": "markdown",
      "source": [
        "### 4. 조건문"
      ],
      "metadata": {
        "id": "gTZKN7BbEcfn"
      }
    },
    {
      "cell_type": "code",
      "source": [
        "# 조건문\n",
        "\n",
        "# 지우가 보유할 수 있는 포켓몬은 최대 6마리이다.\n",
        "# 6마리가 넘으면 뒤에서부터 6마리를 남겨둡니다.\n",
        "\n",
        "print('지우가 보유한 포켓몬 수', len(member), '마리') #len은 length의 줄임말로 리스트의 길이를 확인할 수 있습니다.\n",
        "\n",
        "if len(member) > 6: # if (조건문):\n",
        "    member = member[-6:] # 리스트 슬라이싱, 뒤에서부터 6마리\n",
        "    print('지우가 보유하고 있는 6마리의 포켓몬:', member)"
      ],
      "metadata": {
        "colab": {
          "base_uri": "https://localhost:8080/"
        },
        "id": "OOQI6B2C5DOT",
        "outputId": "2464325e-b0db-4cbc-b780-6369d12cfc7d"
      },
      "execution_count": null,
      "outputs": [
        {
          "output_type": "stream",
          "name": "stdout",
          "text": [
            "지우가 보유한 포켓몬 수 9 마리\n",
            "지우가 보유하고 있는 6마리의 포켓몬: ['꼬부기', '버터플', '피죤투', '잠만보', '롱스톤', '꼬마돌']\n"
          ]
        }
      ]
    },
    {
      "cell_type": "markdown",
      "source": [
        "### 5. 튜플과 딕셔너리"
      ],
      "metadata": {
        "id": "lAyIr8cY8QhW"
      }
    },
    {
      "cell_type": "code",
      "source": [
        "# 튜플\n",
        "\n",
        "# 포켓몬의 타입을 지정해보자.\n",
        "member_type_list = [('물'), ('벌레', '비행'), ('노말', '비행'), ('노말'), ('바위', '땅'), ('바위')]\n",
        "member_type = zip(member, member_type_list) # zip() 함수는 리스트를 인덱스 순서에 맞게 튜플 형태로 묶어줍니다.\n",
        "print(list(member_type))"
      ],
      "metadata": {
        "colab": {
          "base_uri": "https://localhost:8080/"
        },
        "id": "u4SDwppk6Djx",
        "outputId": "e39e4664-de96-4d44-a69b-d9eb0b5d43ce"
      },
      "execution_count": null,
      "outputs": [
        {
          "output_type": "stream",
          "name": "stdout",
          "text": [
            "[('꼬부기', '물'), ('버터플', ('벌레', '비행')), ('피죤투', ('노말', '비행')), ('잠만보', '노말'), ('롱스톤', ('바위', '땅')), ('꼬마돌', '바위')]\n"
          ]
        }
      ]
    },
    {
      "cell_type": "code",
      "source": [
        "# 딕셔너리\n",
        "member_type = zip(member, member_type_list)\n",
        "\n",
        "pokedex = dict(member_type) # zip으로 만든 객체를 활용한다면 쉽게 만들 수 있습니다.\n",
        "pokemon = '버터플'\n",
        "print(pokemon+'의 특성:', pokedex[pokemon]) # 딕셔너리 형태는 키 값으로 검색이 가능합니다.\n",
        "print(pokemon+'의 첫 번째 특성:', pokedex[pokemon][0])\n",
        "print(pokemon+'의 두 번째 특성:', pokedex[pokemon][1])"
      ],
      "metadata": {
        "colab": {
          "base_uri": "https://localhost:8080/"
        },
        "id": "jno2yW69_tsi",
        "outputId": "4df19005-e817-4155-99b8-5620776b340e"
      },
      "execution_count": null,
      "outputs": [
        {
          "output_type": "stream",
          "name": "stdout",
          "text": [
            "버터플의 특성: ('벌레', '비행')\n",
            "버터플의 첫 번째 특성: 벌레\n",
            "버터플의 두 번째 특성: 비행\n"
          ]
        }
      ]
    },
    {
      "cell_type": "markdown",
      "source": [
        "### 6. 반복문"
      ],
      "metadata": {
        "id": "oVXgnNoxEKiO"
      }
    },
    {
      "cell_type": "code",
      "source": [
        "# 반복문\n",
        "\n",
        "n = 0\n",
        "for pokemon in member:\n",
        "    n += 1\n",
        "    print(n, '번 포켓몬:',pokemon)"
      ],
      "metadata": {
        "colab": {
          "base_uri": "https://localhost:8080/"
        },
        "id": "gplJ0BCpDxYE",
        "outputId": "5434fcbb-641b-4869-f1b9-daf112462962"
      },
      "execution_count": null,
      "outputs": [
        {
          "output_type": "stream",
          "name": "stdout",
          "text": [
            "1 번 포켓몬: 꼬부기\n",
            "2 번 포켓몬: 버터플\n",
            "3 번 포켓몬: 피죤투\n",
            "4 번 포켓몬: 잠만보\n",
            "5 번 포켓몬: 롱스톤\n",
            "6 번 포켓몬: 꼬마돌\n"
          ]
        }
      ]
    },
    {
      "cell_type": "markdown",
      "source": [
        "## 네이버 뉴스 크롤링\n",
        "네이버에 'AI' 키워드로 검색한 뉴스 기사 결과 중 네이버 뉴스 링크가 있는 경우,<br>\n",
        "해당 네이버 뉴스의 본문 내용을 크롤링하는 실습을 해보도록 하겠습니다.<br>\n",
        "<br>\n",
        "첫 번째로, 네이버 뉴스 기사의 링크를 수집하고,<br>\n",
        "두 번째로, 네이버 뉴스 본문을 수집하겠습니다.<br>\n",
        "<br>\n",
        "이 실습 이후에는 대량의 데이터를 한 번에 수집할 수 있는 코드를 만들어 보겠습니다."
      ],
      "metadata": {
        "id": "hWMS9AGPGfg1"
      }
    },
    {
      "cell_type": "markdown",
      "source": [
        "### BeautifulSoup\n",
        "우선 html 소스 코드를 불러와 BeautifulSoup으로 원하는 정보를 파싱해보도록 하겠습니다."
      ],
      "metadata": {
        "id": "1Fat3sW7zqL6"
      }
    },
    {
      "cell_type": "code",
      "source": [
        "# 필요한 라이브러리(패키지) 불러오기\n",
        "import requests # 서버와 통신하여 html 소스 코드를 반환하는 라이브러리\n",
        "from bs4 import BeautifulSoup # html 소스 코드를 분석하여 원하는 정보를 추출할 수 있게 도와주는 라이브러리\n",
        "import time # 시간 관련 정보를 제어할 수 있는 라이브러리"
      ],
      "metadata": {
        "id": "jzR0QiSgGBWd"
      },
      "execution_count": 4,
      "outputs": []
    },
    {
      "cell_type": "code",
      "source": [
        "# Requests\n",
        "url = 'https://search.naver.com/search.naver?where=news&query=AI'\n",
        "r = requests.get(url) # .get() 메소드를 활용하여 url에 해당하는 소스 코드를 불러옵니다\n",
        "print(r) # <Response [200]>에서 숫자 200은 정상적으로 정보를 불러왔다는 것을 의미합니다. 400이나 500번 대가 나오면 실패한 거예요!"
      ],
      "metadata": {
        "colab": {
          "base_uri": "https://localhost:8080/"
        },
        "id": "RDzJKvkuGlqi",
        "outputId": "8b92ff74-c374-401c-b9d4-bfb0b9df80c6"
      },
      "execution_count": 5,
      "outputs": [
        {
          "output_type": "stream",
          "name": "stdout",
          "text": [
            "<Response [200]>\n"
          ]
        }
      ]
    },
    {
      "cell_type": "code",
      "source": [
        "# BeautifulSoup\n",
        "html = r.text # html 소스 코드를 텍스트 데이터 형태로 변환합니다.\n",
        "soup = BeautifulSoup(html, 'html.parser') # 이것은 BeautifulSoup의 공식과도 같습니다. 그냥 외우세요!"
      ],
      "metadata": {
        "id": "a7mQX24C0gSK"
      },
      "execution_count": 7,
      "outputs": []
    },
    {
      "cell_type": "code",
      "source": [
        "# 원하는 태그 찾기\n",
        "# soup.find('태그', attrs = {'속성 키1': '속성 값1', '속성 키2': '속성 값2'})\n",
        "\n",
        "soup.find('a', 'news_tit')\n",
        "# '속성 키'가 class인 경우 {} 생략 가능합니다. 여러 개를 쓰는 경우에는 딕셔너리 형태로 적어주셔야 합니다."
      ],
      "metadata": {
        "colab": {
          "base_uri": "https://localhost:8080/"
        },
        "id": "JeF7shkCIfHe",
        "outputId": "0487ed1b-a30f-4917-c3b4-b4f5adcb7f51"
      },
      "execution_count": 9,
      "outputs": [
        {
          "output_type": "execute_result",
          "data": {
            "text/plain": [
              "<a class=\"news_tit\" href=\"https://www.yna.co.kr/view/AKR20230317124100009?input=1195m\" onclick=\"return goOtherCR(this, 'a=nws*h.tit&amp;r=1&amp;i=880000D8_000000000000000013821811&amp;g=001.0013821811&amp;u='+urlencode(this.href));\" target=\"_blank\" title='챗GPT 개발사 CEO \"AI, 가장 위대한 기술 될수도…조금 무서워\"'>챗GPT 개발사 CEO \"<mark>AI</mark>, 가장 위대한 기술 될수도…조금 무서워\"</a>"
            ]
          },
          "metadata": {},
          "execution_count": 9
        }
      ]
    },
    {
      "cell_type": "code",
      "source": [
        "# 원하는 정보 추출하기\n",
        "title = soup.find('a', 'news_tit').text # 태그 사이에 있는 텍스트를 추출하는 경우에는 text를 사용합니다.\n",
        "link = soup.find('a', 'news_tit').get('href') # 속성 정보를 추출하고 싶은 경우에는 .get() 메소드를 활용합니다.\n",
        "\n",
        "print(title, link)"
      ],
      "metadata": {
        "colab": {
          "base_uri": "https://localhost:8080/"
        },
        "id": "nJziLPATBHsh",
        "outputId": "9b9a0308-e7a5-49c2-8c12-8eae6171c4a0"
      },
      "execution_count": 10,
      "outputs": [
        {
          "output_type": "stream",
          "name": "stdout",
          "text": [
            "챗GPT 개발사 CEO \"AI, 가장 위대한 기술 될수도…조금 무서워\" https://www.yna.co.kr/view/AKR20230317124100009?input=1195m\n"
          ]
        }
      ]
    },
    {
      "cell_type": "code",
      "source": [
        "# find_all을 활용하여 페이지에서 원하는 모든 정보 추출하기\n",
        "url_tag_list = soup.find_all('a', 'info', text = '네이버뉴스')\n",
        "url_tag_list"
      ],
      "metadata": {
        "colab": {
          "base_uri": "https://localhost:8080/"
        },
        "id": "KSQwNNQKBQZu",
        "outputId": "1cae8db3-5835-4ef5-b8ec-a5ffb48faf08"
      },
      "execution_count": 11,
      "outputs": [
        {
          "output_type": "stream",
          "name": "stderr",
          "text": [
            "<ipython-input-11-0c8f6b8f2212>:2: DeprecationWarning: The 'text' argument to find()-type methods is deprecated. Use 'string' instead.\n",
            "  url_tag_list = soup.find_all('a', 'info', text = '네이버뉴스')\n"
          ]
        },
        {
          "output_type": "execute_result",
          "data": {
            "text/plain": [
              "[<a class=\"info\" href=\"https://n.news.naver.com/mnews/article/001/0013821811?sid=104\" onclick=\"return goOtherCR(this, 'a=nws*h.nav&amp;r=1&amp;i=880000D8_000000000000000013821811&amp;u='+urlencode(this.href));\" target=\"_blank\">네이버뉴스</a>,\n",
              " <a class=\"info\" href=\"https://n.news.naver.com/mnews/article/003/0011749872?sid=101\" onclick=\"return goOtherCR(this, 'a=nws*j.nav&amp;r=4&amp;i=88000127_000000000000000011749872&amp;u='+urlencode(this.href));\" target=\"_blank\">네이버뉴스</a>,\n",
              " <a class=\"info\" href=\"https://n.news.naver.com/mnews/article/092/0002285816?sid=105\" onclick=\"return goOtherCR(this, 'a=nws*h.nav&amp;r=5&amp;i=8800011E_000000000000000002285816&amp;u='+urlencode(this.href));\" target=\"_blank\">네이버뉴스</a>,\n",
              " <a class=\"info\" href=\"https://n.news.naver.com/mnews/article/015/0004822373?sid=101\" onclick=\"return goOtherCR(this, 'a=nws*j.nav&amp;r=8&amp;i=88000107_000000000000000004822373&amp;u='+urlencode(this.href));\" target=\"_blank\">네이버뉴스</a>,\n",
              " <a class=\"info\" href=\"https://n.news.naver.com/mnews/article/029/0002789594?sid=105\" onclick=\"return goOtherCR(this, 'a=nws*j.nav&amp;r=9&amp;i=880000AD_000000000000000002789594&amp;u='+urlencode(this.href));\" target=\"_blank\">네이버뉴스</a>,\n",
              " <a class=\"info\" href=\"https://n.news.naver.com/mnews/article/469/0000729163?sid=105\" onclick=\"return goOtherCR(this, 'a=nws*j.nav&amp;r=10&amp;i=88156f75_000000000000000000729163&amp;u='+urlencode(this.href));\" target=\"_blank\">네이버뉴스</a>,\n",
              " <a class=\"info\" href=\"https://n.news.naver.com/mnews/article/014/0004983307?sid=105\" onclick=\"return goOtherCR(this, 'a=nws*j.nav&amp;r=11&amp;i=880000FF_000000000000000004983307&amp;u='+urlencode(this.href));\" target=\"_blank\">네이버뉴스</a>,\n",
              " <a class=\"info\" href=\"https://n.news.naver.com/mnews/article/032/0003211608?sid=110\" onclick=\"return goOtherCR(this, 'a=nws*j.nav&amp;r=12&amp;i=8800006B_000000000000000003211608&amp;u='+urlencode(this.href));\" target=\"_blank\">네이버뉴스</a>,\n",
              " <a class=\"info\" href=\"https://n.news.naver.com/mnews/article/031/0000735063?sid=105\" onclick=\"return goOtherCR(this, 'a=nws*j.nav&amp;r=13&amp;i=880000D6_000000000000000000735063&amp;u='+urlencode(this.href));\" target=\"_blank\">네이버뉴스</a>,\n",
              " <a class=\"info\" href=\"https://n.news.naver.com/mnews/article/020/0003486063?sid=101\" onclick=\"return goOtherCR(this, 'a=nws*j.nav&amp;r=14&amp;i=880000A9_000000000000000003486063&amp;u='+urlencode(this.href));\" target=\"_blank\">네이버뉴스</a>]"
            ]
          },
          "metadata": {},
          "execution_count": 11
        }
      ]
    },
    {
      "cell_type": "code",
      "source": [
        "# 반복문을 활용하여 url 추출하기\n",
        "for url_tag in url_tag_list:\n",
        "    print(url_tag.get('href'))"
      ],
      "metadata": {
        "colab": {
          "base_uri": "https://localhost:8080/"
        },
        "id": "dmjwLXQnJuSR",
        "outputId": "ca57fac1-4e71-485e-8c6c-0c9008fb56e3"
      },
      "execution_count": 12,
      "outputs": [
        {
          "output_type": "stream",
          "name": "stdout",
          "text": [
            "https://n.news.naver.com/mnews/article/001/0013821811?sid=104\n",
            "https://n.news.naver.com/mnews/article/003/0011749872?sid=101\n",
            "https://n.news.naver.com/mnews/article/092/0002285816?sid=105\n",
            "https://n.news.naver.com/mnews/article/015/0004822373?sid=101\n",
            "https://n.news.naver.com/mnews/article/029/0002789594?sid=105\n",
            "https://n.news.naver.com/mnews/article/469/0000729163?sid=105\n",
            "https://n.news.naver.com/mnews/article/014/0004983307?sid=105\n",
            "https://n.news.naver.com/mnews/article/032/0003211608?sid=110\n",
            "https://n.news.naver.com/mnews/article/031/0000735063?sid=105\n",
            "https://n.news.naver.com/mnews/article/020/0003486063?sid=101\n"
          ]
        }
      ]
    },
    {
      "cell_type": "code",
      "source": [
        "# 반복문을 활용하여 url을 리스트에 저장하기\n",
        "url_list = []\n",
        "for url_tag in url_tag_list:\n",
        "    url = url_tag.get('href')\n",
        "    url_list.append(url)\n",
        "\n",
        "url_list"
      ],
      "metadata": {
        "colab": {
          "base_uri": "https://localhost:8080/"
        },
        "id": "bWD5cCj7NwPk",
        "outputId": "a5b1cf2a-ed0e-49dc-aa7f-e8d01667940c"
      },
      "execution_count": 13,
      "outputs": [
        {
          "output_type": "execute_result",
          "data": {
            "text/plain": [
              "['https://n.news.naver.com/mnews/article/001/0013821811?sid=104',\n",
              " 'https://n.news.naver.com/mnews/article/003/0011749872?sid=101',\n",
              " 'https://n.news.naver.com/mnews/article/092/0002285816?sid=105',\n",
              " 'https://n.news.naver.com/mnews/article/015/0004822373?sid=101',\n",
              " 'https://n.news.naver.com/mnews/article/029/0002789594?sid=105',\n",
              " 'https://n.news.naver.com/mnews/article/469/0000729163?sid=105',\n",
              " 'https://n.news.naver.com/mnews/article/014/0004983307?sid=105',\n",
              " 'https://n.news.naver.com/mnews/article/032/0003211608?sid=110',\n",
              " 'https://n.news.naver.com/mnews/article/031/0000735063?sid=105',\n",
              " 'https://n.news.naver.com/mnews/article/020/0003486063?sid=101']"
            ]
          },
          "metadata": {},
          "execution_count": 13
        }
      ]
    },
    {
      "cell_type": "code",
      "source": [
        "# map과 lambda 함수를 활용하여 리스트에 저장하기\n",
        "list(map(lambda x: x.get('href'), url_tag_list))"
      ],
      "metadata": {
        "colab": {
          "base_uri": "https://localhost:8080/"
        },
        "id": "rtg-1le5KcNU",
        "outputId": "9131b0b4-9e69-4001-8ea9-0588f988a0d0"
      },
      "execution_count": 14,
      "outputs": [
        {
          "output_type": "execute_result",
          "data": {
            "text/plain": [
              "['https://n.news.naver.com/mnews/article/001/0013821811?sid=104',\n",
              " 'https://n.news.naver.com/mnews/article/003/0011749872?sid=101',\n",
              " 'https://n.news.naver.com/mnews/article/092/0002285816?sid=105',\n",
              " 'https://n.news.naver.com/mnews/article/015/0004822373?sid=101',\n",
              " 'https://n.news.naver.com/mnews/article/029/0002789594?sid=105',\n",
              " 'https://n.news.naver.com/mnews/article/469/0000729163?sid=105',\n",
              " 'https://n.news.naver.com/mnews/article/014/0004983307?sid=105',\n",
              " 'https://n.news.naver.com/mnews/article/032/0003211608?sid=110',\n",
              " 'https://n.news.naver.com/mnews/article/031/0000735063?sid=105',\n",
              " 'https://n.news.naver.com/mnews/article/020/0003486063?sid=101']"
            ]
          },
          "metadata": {},
          "execution_count": 14
        }
      ]
    },
    {
      "cell_type": "code",
      "source": [
        "# test_url 지정\n",
        "test_url = url_list[0]"
      ],
      "metadata": {
        "id": "_MvrCtSPK0Ju"
      },
      "execution_count": 15,
      "outputs": []
    },
    {
      "cell_type": "code",
      "source": [
        "# requests 모듈 오류로 urlopen 모듈로 대체\n",
        "from urllib.request import urlopen"
      ],
      "metadata": {
        "id": "zWC_Av8SigHB"
      },
      "execution_count": 1,
      "outputs": []
    },
    {
      "cell_type": "code",
      "source": [
        "# urlopen으로 html 소스 코드 불러오기\n",
        "r = urlopen(test_url)\n",
        "html = r.read().decode(\"utf-8\") # 바이트(byte) 형태로 불러오기 때문에 디코딩 과정이 필요합니다.\n",
        "soup = BeautifulSoup(html, 'html.parser')"
      ],
      "metadata": {
        "id": "68qhjmOaiqC9"
      },
      "execution_count": 16,
      "outputs": []
    },
    {
      "cell_type": "code",
      "source": [
        "# 제목 수집 및 출력\n",
        "title = soup.find('h2').text\n",
        "print(title)"
      ],
      "metadata": {
        "colab": {
          "base_uri": "https://localhost:8080/"
        },
        "id": "Yk-6lvukkuYg",
        "outputId": "28e522ab-ca70-412f-ca34-1c35b6760324"
      },
      "execution_count": 17,
      "outputs": [
        {
          "output_type": "stream",
          "name": "stdout",
          "text": [
            "챗GPT 개발사 CEO \"AI, 가장 위대한 기술 될수도…조금 무서워\"\n"
          ]
        }
      ]
    },
    {
      "cell_type": "code",
      "source": [
        "# 본문 내용 수집 및 출력\n",
        "content = soup.find('div', {'id' : 'dic_area'}).text\n",
        "print(content)"
      ],
      "metadata": {
        "colab": {
          "base_uri": "https://localhost:8080/"
        },
        "id": "lvLfBkxFjcXs",
        "outputId": "2ca1deb3-ae86-4919-83cb-3d2dc85f8464"
      },
      "execution_count": 18,
      "outputs": [
        {
          "output_type": "stream",
          "name": "stdout",
          "text": [
            "\n",
            "ABC뉴스 인터뷰…\"사이버 공격에 사용될 수도\"\"DB 아닌 추론 엔진…주요 정보 출처로 사용돼선 안돼\"오픈AI CEO 샘 올트먼[AP 연합뉴스 자료사진. 재판매 및 DB 금지]    (서울=연합뉴스) 최재서 기자 = 세계적인 열풍을 일으키고 있는 생성형 인공지능(AI) '챗GPT'의 개발사 오픈AI 최고경영자(CEO)가 AI 기술의 파급력을 언급하며 그 위험성에 대한 우려의 목소리를 전했다.    샘 올트먼 오픈AI CEO는 17일(현지시간) ABC뉴스와 진행한 인터뷰에서 \"AI 기술에 실존적인 위험이 뒤따를 수 있지만, 이는 인간이 개발한 가장 위대한 기술이 될 수도 있다\"고 말했다.    그러면서 \"우리는 매우 조심스러워야 한다\"며 \"사람들은 우리가 이것(AI 기술)을 조금 무서워하고 있다는 것에 기뻐해야 할 것\"이라고 강조했다.    이번 인터뷰는 오픈AI의 신규 AI 툴 'GPT-4'의 출시에 맞춰 진행됐다.    기존 모델과 비교해 GPT-4의 가장 큰 차별점은 텍스트뿐 아니라 이미지를 보고 이해하는 능력까지 갖췄다는 점이라고 CNN은 분석했다.    또한 코딩에 대한 기본적인 지식이 없는 사용자들도 직접 게임을 제작할 수 있을 정도로 언어 능력이 향상됐다. 처리할 수 있는 단어량은 2만5천개 수준으로 기존보다 약 8배 늘어 미국 변호사 시험을 비롯한 각종 시험에서도 상위 10% 수준의 성적을 기록했다.    올트먼은 그러나 GPT-4에 대해서도 \"완벽하지는 않다\"며 이러한 기술이 위험하게 사용될 수 있다는 두려움 때문에 밤잠을 이루지 못한다고 ABC에 털어놨다.    그는 AI 기술이 대규모 허위정보 유포에 사용될 수 있다는 점을 특히 우려하고 있다고 짚었다. 그는 \"(AI 기술은) 사이버 공격에 사용될 수 있다\"고도 했다.    그러면서 \"우리와 달리 안전장치로 제한을 두지 않고 (AI 기술을 통제하려는) 사람들이 있을 수 있다\"며 \"사회가 이를 어떻게 다뤄야 할지 파악할 수 있는 시간은 제한적일 것\"이라고 지적했다.    그는 특히 블라디미르 푸틴 러시아 대통령이 2017년 \"AI 리더가 세계를 지배할 것\"이라고 말한 데 대해 \"소름 끼치는 발언\"이라고 언급하기도 했다.'챗GPT'[AFP 연합뉴스 자료사진. 재판매 및 DB 금지]    올트먼은 챗GPT가 이용자들에게 잘못된 정보를 전달하는 문제에 대해서도 입장을 밝혔다.    그는 \"사람들에게 가장 주의를 주고 싶은 건 '환각(hallucination) 이슈'\"라며 \"이 모델은 완전히 지어낸 이야기를 사실인 것처럼 내세울 수 있다\"고 언급했다.    따라서 오픈AI의 기술은 \"팩트 데이터베이스가 아닌 추론 엔진\"으로 봐야 한다고 그는 강조했다. '기억'보다는 '추론' 능력에 초점을 맞추고 있다는 취지다.    그는 GPT-4는 기존 'GPT-3.5'보다 정확성이 40% 이상 향상됐으나, 이를 정보의 주요 출처로 사용해선 안 된다고 경고했다.    다만 올트먼은 챗GPT 기술을 대중이 자유롭게 사용할 수 있도록 '피드백'을 모으는 작업의 중요성도 잊지 않고 짚었다.    그는 \"이 기술을 비밀리에 개발하다가 갑작스럽게 'GPT-7'을 세상에 내놓을 경우 단점이 훨씬 많이 드러날 것\"이라며 \"사람들이 기술을 이해하고 단점을 파악하는 데는 시간이 걸린다\"고 지적했다.    이 밖에 그는 AI가 일자리를 빼앗을 가능성에 대해 \"인류는 거대한 기술적 전환에 완벽하게 적응해왔다\"며 \"하지만 한 자릿수의 해가 지나는 동안 기술전환이 일어날 수 있다는 점은 나도 우려되는 부분\"이라고 말했다.    교육 과정에 챗GPT가 사용되는 데 대해서는 \"개인별 학습을 가능하게 한다는 게 가장 흥분되는 지점\"이라며 어떠한 영역에서든 일종의 '부조종사'(co-pilot)로 활용되길 바란다고 전했다.    acui721@yna.co.kr\n",
            "\n"
          ]
        }
      ]
    },
    {
      "cell_type": "code",
      "source": [
        "# 언론사 수집\n",
        "soup.find('a', 'media_end_head_top_logo').img.get('title')"
      ],
      "metadata": {
        "id": "AQGEk82orLZR",
        "colab": {
          "base_uri": "https://localhost:8080/",
          "height": 36
        },
        "outputId": "caab064a-cace-45ff-953d-1df9d5f46892"
      },
      "execution_count": 19,
      "outputs": [
        {
          "output_type": "execute_result",
          "data": {
            "text/plain": [
              "'연합뉴스'"
            ],
            "application/vnd.google.colaboratory.intrinsic+json": {
              "type": "string"
            }
          },
          "metadata": {},
          "execution_count": 19
        }
      ]
    },
    {
      "cell_type": "code",
      "source": [
        "# 수집 결과\n",
        "result = title, content"
      ],
      "metadata": {
        "id": "-NenPvZSj45E"
      },
      "execution_count": 20,
      "outputs": []
    },
    {
      "cell_type": "code",
      "source": [
        "# 사용자 정의 함수로 html 소스 코드 불러오기\n",
        "def get_html(url):\n",
        "    r = urlopen(url)\n",
        "    html = r.read().decode('utf-8')\n",
        "\n",
        "    return html"
      ],
      "metadata": {
        "id": "ihXqVp22nvw-"
      },
      "execution_count": 21,
      "outputs": []
    },
    {
      "cell_type": "code",
      "source": [
        "data_list = []\n",
        "for url in url_list:\n",
        "    html = get_html(url)\n",
        "    time.sleep(1)\n",
        "\n",
        "    soup = BeautifulSoup(html, 'html.parser')\n",
        "    title = soup.find('h2').text\n",
        "    content = soup.find('div', {'id' : 'dic_area'}).text.strip()\n",
        "    media = soup.find('a', 'media_end_head_top_logo').img.get('title')\n",
        "\n",
        "    data = title, content, media\n",
        "    data_list.append(data)\n",
        "\n",
        "    time.sleep(1)\n",
        "    print(title, media, sep = ':')"
      ],
      "metadata": {
        "colab": {
          "base_uri": "https://localhost:8080/"
        },
        "id": "v6X0oYaonIZ6",
        "outputId": "5986a2cf-f079-4871-9767-8cec41bb62e6"
      },
      "execution_count": 22,
      "outputs": [
        {
          "output_type": "stream",
          "name": "stdout",
          "text": [
            "챗GPT 개발사 CEO \"AI, 가장 위대한 기술 될수도…조금 무서워\":연합뉴스\n",
            "\"마케팅도 초개인화 시대\"…유통가 'AI기반 시스템' 투자 확대:뉴시스\n",
            "생성 AI가 워드 쓰고, PPT 만드네…엑셀 분석도 '척척':ZDNet Korea\n",
            "'AI 시대' 최대 수혜 기업?…최종 승자는 이미 정해졌다 [성상훈의 해외주식학개론]:한국경제\n",
            "[단독] 구글 vs MS `AI 전쟁`… 카카오는 이걸 선택했다:디지털타임스\n",
            "치고 나간 MS, 추격하는 구글…달아오른 생성형AI 대전:한국일보\n",
            "AI, e메일 보내고 회의도 예약...인간은 뭐하지?:파이낸셜뉴스\n",
            "[이범의 불편한 진실] AI가 열어젖힌 육체노동 전성시대:경향신문\n",
            "[IT돋보기] '문송합니다'는 옛말?...억대 연봉 'AI조련사' 각광:아이뉴스24\n",
            "“딸 축하 PPT 만들어줘” 몇초만에 뚝딱… MS, 엑셀-워드 등에도 생성형 AI 도입:동아일보\n"
          ]
        }
      ]
    },
    {
      "cell_type": "code",
      "source": [
        "# 데이터 리스트 불러오기\n",
        "data_list"
      ],
      "metadata": {
        "colab": {
          "base_uri": "https://localhost:8080/"
        },
        "id": "19QAk2QHozW3",
        "outputId": "3588d428-a4fb-4a0c-c283-593642344fa7"
      },
      "execution_count": 23,
      "outputs": [
        {
          "output_type": "execute_result",
          "data": {
            "text/plain": [
              "[('챗GPT 개발사 CEO \"AI, 가장 위대한 기술 될수도…조금 무서워\"',\n",
              "  'ABC뉴스 인터뷰…\"사이버 공격에 사용될 수도\"\"DB 아닌 추론 엔진…주요 정보 출처로 사용돼선 안돼\"오픈AI CEO 샘 올트먼[AP 연합뉴스 자료사진. 재판매 및 DB 금지]    (서울=연합뉴스) 최재서 기자 = 세계적인 열풍을 일으키고 있는 생성형 인공지능(AI) \\'챗GPT\\'의 개발사 오픈AI 최고경영자(CEO)가 AI 기술의 파급력을 언급하며 그 위험성에 대한 우려의 목소리를 전했다.    샘 올트먼 오픈AI CEO는 17일(현지시간) ABC뉴스와 진행한 인터뷰에서 \"AI 기술에 실존적인 위험이 뒤따를 수 있지만, 이는 인간이 개발한 가장 위대한 기술이 될 수도 있다\"고 말했다.    그러면서 \"우리는 매우 조심스러워야 한다\"며 \"사람들은 우리가 이것(AI 기술)을 조금 무서워하고 있다는 것에 기뻐해야 할 것\"이라고 강조했다.    이번 인터뷰는 오픈AI의 신규 AI 툴 \\'GPT-4\\'의 출시에 맞춰 진행됐다.    기존 모델과 비교해 GPT-4의 가장 큰 차별점은 텍스트뿐 아니라 이미지를 보고 이해하는 능력까지 갖췄다는 점이라고 CNN은 분석했다.    또한 코딩에 대한 기본적인 지식이 없는 사용자들도 직접 게임을 제작할 수 있을 정도로 언어 능력이 향상됐다. 처리할 수 있는 단어량은 2만5천개 수준으로 기존보다 약 8배 늘어 미국 변호사 시험을 비롯한 각종 시험에서도 상위 10% 수준의 성적을 기록했다.    올트먼은 그러나 GPT-4에 대해서도 \"완벽하지는 않다\"며 이러한 기술이 위험하게 사용될 수 있다는 두려움 때문에 밤잠을 이루지 못한다고 ABC에 털어놨다.    그는 AI 기술이 대규모 허위정보 유포에 사용될 수 있다는 점을 특히 우려하고 있다고 짚었다. 그는 \"(AI 기술은) 사이버 공격에 사용될 수 있다\"고도 했다.    그러면서 \"우리와 달리 안전장치로 제한을 두지 않고 (AI 기술을 통제하려는) 사람들이 있을 수 있다\"며 \"사회가 이를 어떻게 다뤄야 할지 파악할 수 있는 시간은 제한적일 것\"이라고 지적했다.    그는 특히 블라디미르 푸틴 러시아 대통령이 2017년 \"AI 리더가 세계를 지배할 것\"이라고 말한 데 대해 \"소름 끼치는 발언\"이라고 언급하기도 했다.\\'챗GPT\\'[AFP 연합뉴스 자료사진. 재판매 및 DB 금지]    올트먼은 챗GPT가 이용자들에게 잘못된 정보를 전달하는 문제에 대해서도 입장을 밝혔다.    그는 \"사람들에게 가장 주의를 주고 싶은 건 \\'환각(hallucination) 이슈\\'\"라며 \"이 모델은 완전히 지어낸 이야기를 사실인 것처럼 내세울 수 있다\"고 언급했다.    따라서 오픈AI의 기술은 \"팩트 데이터베이스가 아닌 추론 엔진\"으로 봐야 한다고 그는 강조했다. \\'기억\\'보다는 \\'추론\\' 능력에 초점을 맞추고 있다는 취지다.    그는 GPT-4는 기존 \\'GPT-3.5\\'보다 정확성이 40% 이상 향상됐으나, 이를 정보의 주요 출처로 사용해선 안 된다고 경고했다.    다만 올트먼은 챗GPT 기술을 대중이 자유롭게 사용할 수 있도록 \\'피드백\\'을 모으는 작업의 중요성도 잊지 않고 짚었다.    그는 \"이 기술을 비밀리에 개발하다가 갑작스럽게 \\'GPT-7\\'을 세상에 내놓을 경우 단점이 훨씬 많이 드러날 것\"이라며 \"사람들이 기술을 이해하고 단점을 파악하는 데는 시간이 걸린다\"고 지적했다.    이 밖에 그는 AI가 일자리를 빼앗을 가능성에 대해 \"인류는 거대한 기술적 전환에 완벽하게 적응해왔다\"며 \"하지만 한 자릿수의 해가 지나는 동안 기술전환이 일어날 수 있다는 점은 나도 우려되는 부분\"이라고 말했다.    교육 과정에 챗GPT가 사용되는 데 대해서는 \"개인별 학습을 가능하게 한다는 게 가장 흥분되는 지점\"이라며 어떠한 영역에서든 일종의 \\'부조종사\\'(co-pilot)로 활용되길 바란다고 전했다.    acui721@yna.co.kr',\n",
              "  '연합뉴스'),\n",
              " ('\"마케팅도 초개인화 시대\"…유통가 \\'AI기반 시스템\\' 투자 확대',\n",
              "  '(사진=롯데면세점) *재판매 및 DB 금지[서울=뉴시스]이지영 기자 = 유통업계가 인공지능(AI) 기술을 활용한 \\'초개인화\\' 서비스를 확대하고 있다. 기존에는 주로 물류 시스템에 AI를 도입해 효율성을 높였으나, 최근엔 마케팅에도 AI 기술을 도입해 개개인의 취향을 반영한 성향 맞춤 서비스를 선보이고 있다.18일 관련 업계에 따르면 롯데면세점은 면세점 업계 최초로 AI 빅데이터를 기반으로 한 초개인화 마케팅 시스템을 구축했다. 초개인화란 고객의 취향이나 관심사를 파악해 맞춤형 광고나 정보를 제공하는 것을 의미한다. 개인의 행동 데이터를 기반으로 개인의 취향을 반영한 서비스를 제공하는 게 개인화였다면, 초개인화는 개인화된 데이터 기반에 다양한 상황까지 맞춤형으로 서비스를 제공한다.고객의 과거 구매 상품의 특성, 페이지별 체류 시간, 행사 반응률 등 지표를 분석해 개별 취향을 반영한 이벤트 정보를 최적의 시점에 제공한다.롯데면세점이 과거 7개월간 \\'MAS(마케팅자동화시스템)\\'를 시범 운영한 결과, 고객 유입이 기존 시스템보다 6배 이상 늘어나는 효과가 나타났다.G마켓도 지난달 모바일 애플리케이션 홈 전면에 AI를 기반으로 한 개인화 서비스를 탑재했다. 현재 약 10% 고객에게 시범 적용 중이고, 연내 전체 고객을 대상으로 확대한다는 방침이다.개인화 서비스는 개별 고객의 최근 행동 패턴을 기반으로 모바일 홈이 구성되기 때문에 노출되는 화면이 개인별로 달라 오직 \\'나\\'만을 위한 쇼핑환경이 조성된다.개인화 서비스를 탑재 후 가장 큰 변화는 홈 정면에 노출되는 데일리 특가딜, 슈퍼딜의 정렬이다.기존 슈퍼딜의 경우 G마켓이 추천하는 상품을 코너 상단에 배치해 구매를 유도했다면, 개편된 화면은 이 영역을 포기하는 대신 고객 관심도가 높은 상품을 우선순위로 정렬해 체류 시간을 연장하고, 실질적인 구매로 연결될 수 있게 했다.마케팅 카피를 자동으로 생성해주는 ‘AI 카피라이터’를 도입하는 곳도 늘어나고 있다.현대백화점은 최근 마케팅 문구 제작에 특화된 성향 맞춤 AI 카피라이팅 시스템 \\'루이스\\'를 정식 도입했다.\\'향기로 기억되는, 너의 새로운 시작\\'. 현대백화점이 이달부터 정식 AI 카피라이터 \\'루이스\\'가 10초 만에 선보인 문구다.‘봄’과 ‘입학식’을 키워드로 ‘향수’에 대한 광고 문구를 만들라는 지시를 내리자 순식간에 이 같은 결과물을 내놨다.현대백화점 관계자는 \"행사 기획 의도와 전달하고자 하는 메시지 등을 외부 전문 카피라이터와 소통하고 1차 카피를 도출하는 데 통상 2주 가량 걸리던 업무 시간이 평균 3~4시간 내로 줄어 카피라이팅 관련 업무 시간이 획기적으로 단축됐다\"고 말했다.CJ도 AI센터가 자체 개발한 엔진 기반으로 성향 맞춤 AI 카피라이터를 실무에 적용했다. 감성적 성향 고객에게는 대화체와 비유적 표현 방식의 문구를 제안하고, 이성적 성향 고객에게는 제품 효과와 계량화된 정보를 부각한 문구를 만들어주는 방식이다.개발 단계에서 고객 5만여 명을 대상으로 실제 마케팅 프로모션에 유입되는 반응률을 테스트한 결과, 고객 반응이 평균 30% 상승하는 효과가 있었다.업계 관계자는 \"개인화 서비스 투자는 초기 비용이 많이 들어가지만, 기술이 발전하면서 서비스 진입 문턱은 낮아지는 추세\"라며 \"고객의 취향을 반영한 마케팅은 만족도를 높일 뿐만 아니라 업무 효율성 측면에서도 이점이 많다\"고 설명했다．',\n",
              "  '뉴시스'),\n",
              " (\"생성 AI가 워드 쓰고, PPT 만드네…엑셀 분석도 '척척'\",\n",
              "  '마이크로소프트365 코파일럿 시연 보니마이크로소프트가 생성AI 기술을 오피스 제품군에 통합한 \\'마이크로소프트365 코파일럿\\'을 선보였다. 20분간 진행된 시연에서 자연어 명령을 받은 생성AI는 워드 문서를 만들고, 그렇게 만든 문서를 화려한 파워포인트 프리젠테이션으로 만들며, 엑셀 데이터를 분석하고 시각화했다. 사람이 수시간, 수일씩 걸리던 작업이 수분, 수초 안에 끝났다.마이크로소프트는 16일(현지시간) 온라인 이벤트를 개최하고 \\'마이크로소프트365 코파일럿\\'을 공개했다. 비공개 미리보기 상태인 마이크로소프트365 코파일럿은 수개월 내 일반에 제공될 예정이다.사티아 나델라 마이크로소프트 회장은 \"우린 그동안 AI를 오토파일럿으로 사용해왔지만, 이제 차세대 AI는 코파일럿으로 이동하고 있다\"며 \"처음으로 우리는 강력한 힘을 실어주는 AI에 접근할 수 있게 됐다\"고 말했다.\\n\\n\\n\\n마이크로소프트365 앱에 오픈AI의 기술을 결합한 \\'코파일럿\\'이 생긴다.나델라 회장은 \"우리는 그동안 인간의 지성과 행동의 확장으로 컴퓨팅의 미래를 구상했다\"며 \"이제 강력한 파운데이션 모델과 가장 보편적 인터페이스인 자연어로 접근할 수 있는 유능한 코파일럿과 함께 이 여정의 다음 단계를 시작한다\"고 밝혔다.그는 \"이것은 컴퓨터가 사람과 생각하고, 계획하고 행동하는데 도움되는 방식을 근본적으로 변화시킬 것\"이라며 \"오늘날 키보드, 마우스, 멀티터치없이 컴퓨팅을 상상할 수 없듯, 앞으로 코파일럿없이 컴퓨팅을 상상할 수 없을 것\"이라고 덧붙였다.제러드 스파타로 마이크로소프트 모던워크&비즈니스애플리케이션 기업부사장(CVP)은 \"떄때로 우리를 생산적으로 만들어야할 바로 그 도구가 방해인 것처럼 보인다\"며 \"우리 일의 영혼에 다시 연결하려면 동일한 작업을 수행하는 더 나은 방법이 필요한게 아니라 완전히 새로운 작업 방식이 필요하다.■ 워드 코파일럿, 질문으로 시작해 에디팅으로 끝나는 문서 작성시연 영상에서 워드 코파일럿은 사용자의 명령에 따라 문서를 생성해주고, 편집과 요약을 만들어준다. 짧은 명령어 한줄로 초안을 작성하고, 필요에 따라 기업이나 개인 소유 데이터에서 정보를 더 가져와 내용을 풍부하게 키워준다.일상적인 내용부터 전문적 업무에 대한 것까지 문장에 개인적 성격과 어조를 넣을 수도 있다.\\n\\n\\n\\n마이크로소프트 워드 코파일럿 작동 모습시연에 나선 수밋 추한 오피스프로덕트그룹 기업부사장(CVP)은 자신의 자녀 타샤의 고등학교 졸업을 축하하는 파티를 열려고 한다. 먼저 아웃룩에서 코파일럿으로 파티 초대 메일을 작성했다. 파워포인트 코파일럿으로 타샤의 파티에서 쓸 프리젠테이션을 작성했다. 워드로 넘어가선 더 구체적인 파티 문서를 작성했다. 그는 중간중간 자신의 입맛에 맞게 콘텐츠의 어조와 내용, 구성 등을 수정하도록 코파일럿에게 지시했다.워드 코파일럿은 개인의 문서와 스프레드시트 데이터를 기반으로 프로젝트 제안서 초안을 작성해준다. 문서의 어조를 더 캐주얼하게 변경할 수 있고, 특정 단락의 내용을 더 간결하게 하거나 늘릴 수도 있다.\\n\\n\\n\\n워드에 내장된 코파일럿수밋 부사장은 글로벌 제조기업의 한 팀장이 프로젝트 제안서를 만드는 시나리오를 보여줬다. 기업 내부 문서를 통해 코파일럿이 초안을 작성했다. 초안을 바탕으로 이미지나 스타일을 추가하며 더 그럴싸한 제안서로 완성해갔다.코파일럿은 사용자의 특성과 취향을 기억하며 다음 문서 작업에서 해당 지식을 반영해 콘텐츠를 생성해준다.■ 파워포인트 코파일럿, 수일 걸리던 프리젠테이션 제작 수분만에파워포인트 코파일럿을 이용하면 문서나 스프레드시트 데이터를 기반으로 프리젠테이션을 생성할 수 있다. 워드에서 코파일럿으로 작성한 문서를 파워포인트 프리젠테이션으로 전환하는 게 가능하다.구체적인 프롬프트와 함께 프리젠테이션 작성을 코파일럿에게 지시하면 원드라이브나 사용자로컬 저장소의 이미지, 파일 등을 가져와 풍부한 애니메이션을 갖춘 프리젠테이션 파일을 만들어낸다.\\n\\n\\n\\n파워포인트 코파일럿으로 프리젠테이션 만들기레이아웃을 조정할 뿐 아니라 몇장의 슬라이드로 구성된 프리젠테이션을 만들었다면, 그를 더 적은 수로 요약할 수도 있다. 글머리 기호를 그림을 넣은 방식으로 바꾸는 것도 가능하다. 프리젠테이션 발표자를 위해 장표별 노트를 작성해주기도 한다.수밋 부사장은 \"보통 사람들은 파워포인트 기능의 10%만 사용하지만, 코파일럿은 나머지 90%를 잠금해제한다\"고 강조했다.■ 엑셀 코파일럿, 데이터 분석과 예측 모델링엑셀 코파일럿은 데이터를 이해하고 분석과 탐색, 시각화를 돕는다. 수식뿐 아니라 자연어 데이터센트에 대해서도 코파일럿에게 질문할 수 있다.데이터의 상관관계를 분석하거나 가상 시나리오를 제안해달라고 할 수도 있다. 질문을 기반으로 새로운 공식을 제안하기도 한다.\\n\\n\\n\\n엑셀 코파일럿으로 데이터 분석하기데이터의 추세를 파악하고 그래프 시각화를 수행하거나, 결과 도출을. 위한 권장사항을 요청할 수 있다.시연에서 채널별 판매내역을 업로드해 변수 변경에 따른 영향을 전망하고, 시각화 차트를 생성한다. 성장률 변경이 총 마진에 미치는 영향을 모델링해주기도 했다.■ 아웃룩·팀즈, 메일 작성과 분류 자동화, 회의 핵심 내용 요약아웃룩 코파일럿은 받은편지함과 메시지, 연락처 등과 함께 작동한다. 주고 받은 소통의 흐름을 인식해 이메일을 분류하고, 길고 복잡한 스레드를 요약해주며, 답변해야 하는 질문에 답장을 보내도록 한다. 답장 작성 시 이미 받은 메일이나 문서저장소에서 참조할 만한 메일과 콘텐츠를 가져와 빠르게 전문적 답변을 만들 수 있다. 메모의 톤이나 길이 조정도 가능하다.팀즈 코파일럿은 전체 회의 내용을 요약할 수 있다. 회의 중 잠시 자리를 비워 그사이 진행된 대화를 요약해 보여주고, 회의 종료 후 핵심 내용을 보고서로 만들 수 있다. 채팅 기록을 기반으로 회의 의제 생성, 후속 조치에 적합한 사람 식별, 다음 체크인 예약 등을 지시할 수 있다.마이크로소프트365 코파일럿은 대규모언어모델(LLM)과 사용자 데이터의 백엔드 네트워크인 \\'마이크로소프트 그래프\\'를 워드, 엑셀, 파워포인트, 아웃룩, 팀즈 등의 앱에 통합한 것이다.제러드 스파타로 부사장은 \"마이크로소프트365 코파일럿은 챗GPT를 단순히 연결한 게 아니라 그라운딩을 위한 \\'코파일럿 시스템\\'이란 오케스트리이션 엔진을 기반으로 한다\"며 \"마이크로소프트365 앱과 마이크로소프트 그래프, 대규모언어모델 사이에서 코파일럿 시스템이 프로세스를 조율한다\"고 설명했다.',\n",
              "  'ZDNet Korea'),\n",
              " (\"'AI 시대' 최대 수혜 기업?…최종 승자는 이미 정해졌다 [성상훈의 해외주식학개론]\",\n",
              "  '이 기사는 국내 최대 해외 투자정보 플랫폼 한경 글로벌마켓에 게재된 기사입니다.\\n\\n\\n\\n\"AI 시대 최대 수혜주는 어디일까\"챗GPT가 불러온 AI 열풍 이후 미국 월가는 \\'어떤 기업이 AI 시대의 승자가 될 것이냐\\'에 주목하고 있습니다. 세상 변화와 그 변화가 가져올 수익에 가장 민감한 미국 월가인만큼 AI가 어떤 분야, 어떤 기업을 성장시킬지를 탐색하고 있습니다.  뱅크오브아메리카(BOA), 골드만삭스, 크레디트스위스 등 주요 대형 투자회사 및 투자은행들은 AI 시대 최대 수혜를 입을 기업들의 예상 목록을 잇따라 내놓고 있습니다, 이중 공통적으로 가장 많이 \\'톱픽(TOP PICK)\\'으로 꼽히는 곳이 반도체 업체 \\'엔비디아\\'입니다. 전문가들의 시각 뿐 아니라 시장의 반응도 비슷합니다. 챗 GPT 열풍 이후 수급이 몰리며 엔비디아의 주가는 16일(미국 현지시간) 기준 올해만 78.42%가 상승했습니다. 빅테크주를 통틀어 가장 높은 수준입니다. AI 전쟁 누가 이겨도 최종 승리자는 \\'엔비디아\\'챗GPT 이후 AI 경쟁은 이미 가시화 되고 있습니다. MS(마이크로소프트)는 자신들이 투자한 오픈AI의 챗GPT를 자사 프로그램인 엑셀과 파워포인트(PPT) 등에 접목하기로 했고, 이에 맞서 구글은 AI를 접목한 이메일 서비스, 의료용 언어모델 등의 제품을 대거 내놓고 있다. 중국의 검색 엔진업체 바이두 역시 AI 기술 \\'어니봇\\' 공개하며 미국을 쫓기 위한 경쟁을 벌이고 있습니다. 세 업체는 향후에도 인공지능 전쟁을 최전선에서 벌일 것으로 예상되는 기업들입니다.이들의 공통점은 또 있습니다. 모두 엔비디아의 GPU(그래픽 처리장치)를 AI 반도체로 사용한다는 점이다. GPU는 AI 반도체의 핵심 부품으로서, 현재 엔비디아는 GPU 시장의 90% 이상을 차지하고 있습니다. AI 기술 경쟁을 벌일 빅테크 기업들로서는 별다른 선택권이 없는 상황입니다. AI 업체들은 얼마나 많은 엔비디아의 GPU가 들어갔느냐를 \\'누가 더 뛰어난 기술인가\\'의 기준으로 삼을 정도입니다. 어떤 AI 모델이 승자가 될 것이냐와 관계없이 엔비디아는 어떤 상황에서도 조용히 웃을 수 있다는 의미입니다. 글로벌 IT정보업체의 전망에 따르면 AI반도체 시장은 5년내 2배 이상으로 커질 예정입니다. 하지만 엔비디아 GPU에 대한 수요는 시장 예상보다 빠르게 늘어날 것이란 전망도 심심치 않게 제기되고 있습니다. 시장 선점을 위해 MS, 구글, 바이두 등의 업체들이 실적과 관계없이 막대한 군비경쟁을 벌일 것으로 예상되기 때문입니다. 글로벌 금융데이터업체 팩트셋에 따르면 엔비디아의 올해 영업이익 추정치는 106억 달러, 2024년 추정치는 125억달러로 매년 급성장이 예고되고 있습니다. 향후 AI반도체 시장에서 GPU를 대체할 NPU(신경망처리장치)가 등장할 것이란 관측도 나오지만, GPU에서 한단계 발전된 기술인만큼 이 시장에서도 엔비디아가 선두를 차지할 것이란 전망이 우세합니다.반면 AI반도체 시장에서 엔비디아의 선두자리를 위협할 경쟁자도 아직까지는 보이지 않고 있습니다. AMD나 인텔이 엔비디아를 따라잡기 위해 여러 반도체 기업들을 인수하는 등 막대한 투자를 하고 있지만, 아직까지 엔비디아만큼의 경쟁력은 보이지 못하고 있다는 평가입니다.오히려 엔비디아는 격차를 벌릴 투자를 더욱 늘리고 있습니다. 팩트셋에 따르면 엔비디아의 R&D 연구개발비는 꾸준히 늘어나고 있습니다. 지난해 초 약 4억 달러(약 5200억원)였던 연구개발비는 올해 초 10억달러(약 1조 3000억원)까지 2.5배 늘어났습니다. 매출대비 연구개발비 비율도 15%에서 1년사이 23% 수준까지 올라왔습니다. 독점력을 유지하기 위해 꾸준히 경제적 진입장벽을 만들고 있는 셈입니다. 글로벌 증권사들이 큰폭의 주가 상승에도 목표주가를 잇따라 상향하고 있는 이유입니다.\\n\\n\\n\\n 벨류에이션 부담에 단기적 접근은 조심다만 리스크 요인도 있습니다. 일단 단기적으로 주가가 너무 많이 올라 벨류에이션(실적 대비 주가) 부담이 있습니다. 단기 조정 가능성이 충분하다는 의미입니다. 엔비디아의 12개월 선행 PER(주가수익비율)은 50배 이상으로 PER에 후한 월가의 입장에서도 다소 부담스러운 수준입니다. 향후 실적이 늘어나며 PER 등 벨류에이션이 다시 낮아질 것이란 전망이지만, 단기적 트레이딩으로 접근하는 것은 분명 리스크가 있어 보입니다. 향후 상당부분 매출을 담당할 중국 시장으로의 수출이 제한을 받을 가능성도 존재합니다. 미국과 중국 양국은 AI 분야를 차기 전쟁터로 삼고 있는데, 수출을 제한할 정책적 규제가 언제든지 나올 가능성이 있습니다. 이미 치열한 경쟁이 벌어지고 있는 2차전지 시장에서 IRA(인플레이션 방지법)와 같은 수많은 규제가 나오고 있는 것처럼, AI 시장에서도 마찬가지 상황이 벌어질 수 있다는 의미입니다. 만약 AI반도체 수출을 제한하는 규제가 나온다면 엔비디아로서는 실적 타격이 불가피합니다. \\n\\n\\n\\n몇가지 우려가 있지만 중장기적으로는 실적과 주가가 결국 우상향할 것이라는게 글로벌 증권사들의 공통적인 의견입니다. 흔히 기업의 향후 주가를 살필때 가장 중요하게 여기는건 \\'높은 실적 성장세가 예상 되느냐\\'와 \\'경쟁자의 진입을 막을 경제적 해자(진입장벽)가 있느냐\\' 두가지 입니다. 글로벌 증권사들이 확신에 가까운 긍정적 전망을 내놓고 있는건 엔비디아가 이 두가지 기준을 모두 충족하고 있어서 일 겁니다.주가가 올해 높은 수준으로 올랐지만 지난 1년으로 범위를 넓히면 상승률은 3.13% 수준입니다. 1년전 주가를 회복한 정도라는 의미입니다. 실적 전망이 크게 올랐는데도, 아직 이전 고점인 2021년 말 329.85달러에는 미치지 못하고 있습니다. 한 펀드매니저는 \"상황은 점점 더 좋아지고 있는데 주가는 왔다갔다 하고 있다\"면서 \"중장기적으로 결국 우상향할 것이란걸 확신할 수 있는 몇 안되는 기업\"이라고 말했습니다.',\n",
              "  '한국경제'),\n",
              " ('[단독] 구글 vs MS `AI 전쟁`… 카카오는 이걸 선택했다',\n",
              "  '오픈AI와 손잡은 MS(마이크로소프트)가 구글과 챗GPT를 비롯한 초거대 AI(인공지능)와 생성AI 주도권 전쟁을 펼치고 있는 가운데 국내 대표 플랫폼 기업 카카오가 둘중 MS를 선택했다. 오픈AI와 MS의 AI 기술이 녹아들어간 MS의 클라우드 서비스인 \\'애저\\'를 도입해 카카오를 포함한 관계사의 사업 전반에 AI를 녹여넣기로 했다.한 카카오 계열사 대표는 \"최근 카카오와 관계사들이 MS 애저 클라우드 서비스를 도입하기로 했다. 이는 실용화 가능성이 커진 챗GPT를 비롯한 AI 기술을 본사와 계열사 전반에 녹여넣기 위한 것\"이라고 말했다. 카카오는 AI 연구 전문 자회사인 카카오브레인을 통해 AI 기술개발과 사업화를 펼치고 있다. 이 같은 구도를 계속 이어가되 카카오 자체 AI 기술과 오픈AI·MS의 AI 기술을 활용해 경쟁력과 기술 도입 속도를 높이겠다는 전략이다. 현재 카카오와 관계사들은 글로벌 1위 클라우드 서비스 회사인 AWS(아마존웹서비스)와 계약을 맺고 사업전반에 AWS 클라우드를 활용하고 있다. 여기에 MS 애저를 추가로 도입, 기존 단일 클라우드 전략에서 멀티 클라우드로 선회한다. 이 대표는 \"구글 대신 MS 클라우드를 도입하기로 한 것은 구글보다 MS의 AI가 경쟁력 있다고 판단했기 때문\"이라면서 \"각 계열사와 사업의 특성에 맞춰 AWS와 MS 애저 중 선택해 쓰는 방식이 될 것\"이라고 밝혔다. 많은 기업들이 클라우드를 각 사업부 단위로 자율적으로 쓰지만 카카오는 그룹 차원에서 계약을 맺고 써 왔다. MS는 조만간 애저 클라우드 서비스 가격을 인상할 것으로 알려졌다. 카카오는 카카오브레인이 그룹 AI 컨트롤타워로 기술 전략을 총괄하는 그림은 그대로 유지한다. 카카오는 카카오브레인을 통해 2021년 300억개의 파라미터를 갖춘 한국어 특화 AI 언어모델인 코GPT를 처음 공개한 데 이어 후속연구를 해 왔다. 코GPT는 비용 효율성이 높으면서 한국어에 특화된 AI 모델이다. 카카오는 지난해에는 자체 초거대 AI 이미지 생성 모델 \\'민달리\\'의 업그레이드 버전 생성형 AI 모델 \\'칼로\\'도 선보였다. 홍은택 카카오 대표는 지난달 10일 열린 4분기 실적발표 콘퍼런스콜에서 \"챗GPT와 같은 초거대 AI 모델의 등장은 카카오에게 기회이자 위기가 될 것\"이라며 \"연내 AI 기반 버티컬 서비스를 빠르게 선보이면서 경쟁력 있게 AI 역량을 높여 나가겠다\"고 밝혔다.홍 대표는 당시 앞으로 AI가 만든 콘텐츠인 ACC(AI created contents)가 경쟁력을 가질 것이라고 내다봤다. 이는 생성형 AI를 자체 콘텐츠, 엔터테인먼트, 플랫폼 전반에 활용하겠다는 의지를 시사한다. 버티컬 서비스와 비용 경쟁력에 초점을 둔 AI에 역량을 집중하겠다는 방향도 제시했다. AI를 활용한 서비스로는 카카오톡 내 AI를 활용한 개인 비서 서비스 \\'죠르디\\'나 소상공인들을 위한 광고 카피 작성 서비스, 이미지 생성 모델인 \\'칼로\\'를 카카오톡 프로필 사진과 배경 등에 활용하는 방안 등을 제시했다.이런 과정에서 카카오 자체 기술과 MS의 AI, 클라우드가 섞여서 시너지를 낼 것으로 보인다. MS는 최근 오피스 SW(소프트웨어)에 생성형 AI를 적용한 \\'MS365 코파일럿(Copilot)\\'을 공개하는 등 스타트업 못지 않은 속도로 AI 사업을 확장하고 있다. MS 업무생산성 도구 전반에 초거대 AI와 생성AI를 접목하고, 이를 클라우드 플랫폼 위에 얹어 서비스한다는 전략이다. 자체 AI 개발과 구현에 어려움이 있지만 기술 활용 수요가 큰 카카오 같은 기업들이 이를 눈여겨 볼 것으로 보인다. MS는 AWS와 아직 격차가 있는 클라우드 2위 기업이지만 AI를 통해 AWS를 바짝 추격한다는 전략이다. 챗GPT와 초거대 AI가 가져온 기회를 바탕으로 AI에서는 전통적 강자인 구글을, 클라우드에서는 부동의 1위 AWS를 동시에 밀어내겠다는 것이다. MS는 이달 초 CRM(고객관계관리)과 ERP(전사적자원관리) 시스템에 차세대 AI를 적용한 \\'MS 다이나믹스 365 코파일럿\\'도 내놨다. GPT-4 기반 검색 서비스 \\'빙\\'에도 \\'코파일럿\\' 개념을 적용했다. 한편 카카오는 AI의 심장 역할을 하는 데이터센터 건설에도 속도를 내고 있다. 한양대 에리카 캠퍼스 내에 안산 데이터센터를 올해 중 준공하고 내년 가동할 예정이다. 이 센터는 1만8383㎡ 규모 부지에 지어지며 10만대 이상의 서버가 들어선다. 저장 가능한 데이터량은 6EB(엑사바이트)에 달한다. 카카오는 이 센터에 2021년부터 2029년까지 4249억원을 투자할 계획이다. 2026년 준공을 목표로 경기 시흥 소재 서울대 시흥캠퍼스에 \\'시흥 서울대 데이터센터\\' 건립을 준비 중이다. 이 센터는 연면적 4만평 이상, 전력량 100메가와트 규모로, 투자비용은 5000억원에 육박할 전망이다.  \\n\\n\\n\\n카카오 안산 데이터센터 조감도    카카오 제공',\n",
              "  '디지털타임스'),\n",
              " ('치고 나간 MS, 추격하는 구글…달아오른 생성형AI 대전',\n",
              "  'MS, ‘보는 눈’까지 달린 챗GPT 채용\\xa0구글, 기업용 제품에 생성형 AI 적용[아로마뉴스(34)]3.13~17편집자주4차 산업 혁명 시대다. 시·공간의 한계를 초월한 초연결 지능형 사회 구현도 초읽기다. 이곳에서 공생할 인공지능(AI), 로봇(Robot), 메타버스(Metaverse), 자율주행(Auto vehicle/드론·무인차) 등에 대한 주간 동향을 살펴봤다.\\n\\n\\n\\n생성형 인공지능(AI) 시장 선점을 놓고 글로벌 기업인 마이크로소프트(MS)와 구글의 경쟁이 갈수록 격화되고 있다. 게티이미지뱅크질문: “(특정 인물에 돼지 얼굴을 삽입한 사진을 보여주면서) 이 사진이 웃긴 이유는?”답변: “사람 얼굴에 돼지가 들어갔잖아요.”유치원 수업 시간에 선생님이 어린 원생들과 나눴을 법한 가벼운 형태의 가상 대화다. 하지만 향후엔 이런 수준의 질문에 대한 답변은 인공지능(AI)에 맡겨도 충분할 전망이다. 사진 속에 내포된 간단한 맥락은 이해할 만큼, AI의 성능이 업그레이드되면서다. 실제 지난해 말 생성형 인공지능(AI)으로 공개된 후, 전 세계에 신드롬을 불러일으킨 챗GPT가 ‘보는 눈’까지 이식한 모습으로 돌아왔다. 14일 챗GPT 개발사 오픈AI는 이전에 AI 언어모델로 탑재됐던 ‘GPT-3.5’ 버전에서 진화된 ‘GPT-4’ 사양을 선보였다. GPT-3.5 버전을 내장한 챗GPT는 지난해 말 출시 2개월 만에 1억 명의 가입자를 확보하면서 글로벌 정보기술(IT) 전자업계의 ‘블랙홀’로 자리했다.일단, 초반에 알려진 성능만 감안하면 기대치가 높다. “전문적인 시험에서 인간 수준의 능력을 보여줬다”며 오픈AI의 극찬과 함께 출시된 GPT-4 내공이 출중해서다. GPT-4가 미국 모의 변호사 시험과 대학 입학 자격시험인 SAT 등에서 상위 10% 내에 포함됐다는 오픈AI 설명이 이를 뒷받침한다.무엇보다 이전 모델과 달리 텍스트는 기본이고 이미지 이해도까지 끌어올렸다는 부문에서 높은 점수를 받고 있다. 그만큼, 쓰임새도 늘어날 것으로 점쳐지기 때문이다. 예컨대 특정한 이미지를 보여주고 이에 기반된 간단한 운문이나 짧은 작문 작성 등도 가능할 것으로 보이면서다. 이 밖에 다소 어색했던 한국어를 포함한 언어 능력과 기억력 등도 향상됐다. 아울러 부적절한 답변 생성률은 현저하게 줄었다.마이크로소프트(MS)에선 이날부터 자사 검색엔진인 ‘빙’의 유료화(월정액 20달러) 버전에 GPT-4 버전을 적용했다. GPT-3.5 버전의 챗GPT로 세계 생성형 AI 시장에서 주도권 확보에 성공한 기세를 이어가겠다는 계산이다. MS는 또 17일엔 생성형 AI를 자사 워드와 파워포인트, 엑셀 등을 포함한 사무용 소프트웨어에도 접목시킬 예정이라고 밝혔다. 사티아 나델라 MS 최고경영자(CEO)는 \"인간이 컴퓨팅과 상호작용하는 방식의 진화 과정에서 오늘은 다음의 주요 단계를 의미한다\"며 \"우리의 일하는 방식이 근본적으로 바뀌고, 생산성은 크게 높아질 것\"이라고 말했다. 다만, 구체적인 출시 시점과 가격에 대해선 밝히지 않았다. 현재 MS는 공식 출시 전, 소규모 고객들에게 해당 기능에 대한 마지막 시험과 함께 피드백을 받고 있는 것으로 알려졌다.MS에 생성형 AI 시장을 선점당한 구글의 움직임도 분주하다. 구글 모회사인 알파벳은 생성형 AI 기술을 기업용 협업 도구와 개발자 툴 등에 적용시킨 서비스를 15일 선보였다. 알파벳은 일단 구글 클라우드의 버텍스 AI 플랫폼에 생성형 AI 지원으로 텍스트와 이미지 생성까지 가능한 새로운 기반 모델을 제공할 계획이다. 구글 클라우드의 생성형 AI 앱 개발 도구인 앱 빌더의 경우엔 대화형 AI 흐름을 새로운 검색 경험·기반 모델과 연결, 짧은 시간 내 기업의 생성형 AI 앱 구축을 지원한다.기업용 협업 도구인 구글 워크스페이스에도 새로운 생성형 AI 기능이 접목된다. 지메일의 스마트 편지 쓰기, 구글 닥스의 자동 요약과 같은 기존 AI 기능에 이어, 새로운 글쓰기 지원 기능이 일부 검증된 시범 테스터를 대상으로 지메일과 구글 닥스에 공개될 예정이다. 원하는 주제를 입력하기만 하면 초안이 즉시 완성되며 몇 번의 클릭만으로 메시지 정교화와 축약, 어조 수정 등이 가능해 메일 작성에 드는 시간과 노력을 단축할 수 있다. 토마스 쿠리안 구글 클라우드 CEO는 \"우리의 AI 모델이 모든 사람에게 안전하고 도움을 줄 수 있는 방향으로 발전할 수 있도록 여러 파트너와 지속해 협력할 것\"이라고 전했다.구글은 또 생성형 AI로 달궈진 글로벌 검색시장에 본격적으로 뛰어들 채비에도 한창이다. 구글은 전사 차원에서 모든 주요 제품에 생성형 AI의 기본 탑재 방침까지 정한 것으로 전해졌다. 구글은 이달 초 동영상 플랫폼인 유튜브에도 AI 기능을 포함시키겠다고 밝힌 바 있다. 구글코리아 관계자는 “지난달 초 구글의 대형 언어 AI 모델인 \\'람다\\' 기반으로 공개 시연된 생성형 AI인 \\'바드\\'는 이르면 몇 주 안에 공식 출시될 예정이다”고 말했다.\\n\\n\\n\\n한규민 디자이너',\n",
              "  '한국일보'),\n",
              " ('AI, e메일 보내고 회의도 예약...인간은 뭐하지?',\n",
              "  \"구글, MS, 세일즈포스, AI로 사무 자동화 나서“인간, AI와 협업하는 능력 키워야 생존 가능”  [파이낸셜뉴스] 구글과 세일즈포스에 이어 마이크로소프트(MS)가 사무직 등 지식근로자를 위한 인공지능(AI) 서비스를 선보인다. AI가 e메일 작성은 물론 엑셀과 파워포인트(PPT) 작업까지 할 수 있게 된 만큼, 인간은 ‘AI와 협업’하는 능력을 하루 빨리 키워야 생존할 수 있다는 목소리가 나온다.    \\n\\n\\n\\nMS 워드에 내장된 코파일럿을 이용하면 AI가 문서를 작성, 편집, 요약해준다. 코파일럿 이용 예시. 한국MS 제공   인간은 AI 비서가 만들어온 문서 수정  18일 업계에 따르면 MS는 자체 AI 기술인 ‘마이크로소프트 365 코파일럿(코파일럿)’을 업무 생산성 도구에 결합한다. 코파일럿은 대형언어모델(LLM) 기반으로 정교한 처리 및 조정을 할 수 있는 엔진이다. 현재 소규모 그룹을 대상으로 테스트를 진행하고 있다. 출시 시점 및 가격은 아직 미정이지만, 업계에서는 '게임 체인저'로 주목하고 있다.   우선 워드, 엑셀, 파워포인트, 아웃룩, 팀즈 등 ‘마이크로소프트 365(M365)’ 애플리케이션(앱)에 코파일럿을 탑재한다. 일례로 코파일럿 기반 워드(Copilot in Word)는 코파일럿이 사용자를 위해 문서를 작성, 편집, 요약한다. 사용자는 코파일럿이 초안을 수정하도록 지시하는 등 제어권을 갖고 아이디어를 발전시켜 나갈 수 있다.   또 새로운 기능인 ‘비즈니스챗’에도 코파일럿이 적용된다. 비즈니스챗은 LLM과 M365 앱은 물론 캘린더, e메일, 채팅, 문서, 미팅, 연락처 등이 결합된 형태다. 사용자가 ‘제품 전략을 어떻게 업데이트했는지 팀에 알려줘’와 같은 자연어로 프롬프트(명령어)를 입력하면, 비즈니스챗은 오전 회의일정, e메일, 채팅 내역 등 사용자 앱 데이터 기반으로 업데이트 상황을 생성한다. 비즈니스챗은 MS 검색엔지 ‘빙’에서 업무용 계정으로 로그인 하거나 협업도구 ‘팀즈’를 통해 사용 할 수 있다.    \\n\\n\\n\\n구글 생성형 AI가 구글 닥스에서 이용자 요청에 따라 문서를 작성하는 모습. 구글 블로그 제공   AI로 e메일 작성, 회의 예약도 자동화  구글과 세일즈포스도 각각 AI를 기반으로 서비스를 고도화하고 있다.   구글 클라우드는 구글 생성형 AI 기술 기반으로 ‘구글 워크스페이스’를 업그레이드 할 예정이다. 구글 지메일 기반 ‘스마트 편지쓰기’, 구글 닥스 ‘자동 요약’ 등 기존 AI 기능을 비롯해 검증된 일부 테스터를 대상으로 새로운 글쓰기 지원 기능을 공개할 계획이다. 원하는 주제를 입력하면 초안이 즉각 완성되며 클릭만으로 메시지 정교화 및 축약, 어조 수정 등을 할 수 있도록 했다.   앞서 세일즈포스도 분석 플랫폼 ‘아인슈타인 GPT’를 공개했다. 개발자는 물론 영업, 마케팅, 서비스 담당자 등은 아인슈타인 GPT를 통해 개인화된 AI 콘텐츠를 생성할 수 있다. 또 고객 데이터에 대한 자연어 명령 기반으로 분야별 자동화 시스템 구축이 가능하다.   세일즈포스에 따르면 아인슈타인 GPT는 세일즈포스의 ‘커스터머 360’에서 매일 2000억 개 이상의 AI 기반 예측을 제공한다. 즉 사용자는 아인슈타인 GPT를 이용해 e메일 작성, 회의 예약 등과 같은 작업을 자동화할 수 있다. 세일즈포스는 또 오픈AI의 챗GPT를 협업도구인 ‘슬랙’과 연동한 슬랙용 챗GPT도 선보였다.   AI 비서가 고도화되면서 지식근로자의 AI 활용 능력도 더욱 중요하게 됐다.   특히 업계에서는 프롬프트 역량에 주목하고 있다. 이른바 ‘프롬프트 엔지니어’로 불리는 억대 연봉 직업이 생겨나는 이유다. 프롬프트 엔지니어란, AI가 더 좋은 답변과 역량을 발휘할 수 있도록 여러가지 목적의 프롬프트(명령어)를 제작하고 테스트하는 일이다. 업계 관계자는 “앞으로 AI를 각자 업무에 활용하는 능력이 더욱 중요해질 것”이라며 “챗GPT 같은 생성형 AI도 이용자 질의 수준에 따라 결과물이 다르기 때문에 AI와 협업하는 역량 등을 더욱 키워야 할 시점이다”라고 말했다. #구글 #MS #AI #세일즈포스 #지식근로자\",\n",
              "  '파이낸셜뉴스'),\n",
              " ('[이범의 불편한 진실] AI가 열어젖힌 육체노동 전성시대',\n",
              "  '| 이범 교육평론가·전 민주연구원 부원장얼마 전 여성 도배사 두 명이 화제에 올랐다. 배윤슬씨는 연세대를 졸업하고 도배사가 되었다. 유튜버 김스튜는 영화 관련 학과를 수석으로 졸업하고 역시 도배사가 되었다. 이들은 책과 방송을 통해 기술직에 뛰어든 과정과 이 직업의 장단점을 밝히고 있다. 이들은 아직 소장으로 독립하지 못한 일당 도배사이지만 월 500만원 정도를 벌고 있다고 전한다.\\n\\n\\n\\n이범 교육평론가·전 민주연구원 부원장나도 비슷한 사례를 알고 있다. 내가 ‘박소장님’이라고 부르는 교육 전문가가 있다. 그는 과거 한때 대치동에서 입시 상담으로 이름을 날리다 그만두고 10여년 전부터 공공적 활동을 하고 있다. 그의 아들은 일반고를 다니다 자퇴했는데, 자퇴 후 이것저것 시도하다가 ‘몸을 쓰는 일’이 적성에 맞다는 결론을 내리고 건축 목수가 되었다. 지금은 경력 7년차 중견 목수이고, 최근에 수입이 얼마쯤 되냐고 물어보니 월 700만원 정도라고 했다.나는 대중강연을 할 때 종종 박소장님의 아들을 언급하곤 했다. 일단 소득이 괜찮다. 한국의 개인별 평균 소득(무소득자 제외)이 20대 후반 251만원, 30대 초반 312만원(2019년)임을 고려하면 20대 후반인 그는 벌써 또래의 두세 배 소득을 올리고 있다. 전망도 괜찮다. 계절과 경기의 영향을 받기는 하지만 장기적으로 수요가 늘어날 것이다. 한국은 산업재해율이 높기로 유명하고 건축 현장도 예외가 아니지만, 과거에 비해서 꾸준히 여건이 개선되고 있다.여기에 더하여 손꼽을 만한 장점이 있다. 인공지능(AI)에 의해 대체되지 않을 것이다. 인공지능이 많은 일자리를 잠식할 것임은 어제오늘 얘기가 아니다. 하지만 건축 목수의 일 가운데 자동화가 가능한 과업은 많지 않다. 로봇? 로봇이 활동 가능한 경우는 주로 공장이나 물류창고처럼 동선이 단순하고 표준화하기 쉬운 환경이다. 로봇으로서는 계단을 오르는 것도 힘겹다. 정확히 말하면 계단을 오르는 건 가능하지만 그런 로봇은 복잡하고 비싸다. 더구나 몸을 틀고 손을 움직여 정교한 작업을 진행하기란 더더욱 어렵다. 전문가들은 건축이나 인테리어 공사 현장의 주요 직무 가운데 조적과 같은 비교적 단순한 일을 제외하면 한 세대 안에 인공지능을 갖춘 로봇으로 대체될 가능성은 낮다고 예측한다.<사피엔스>의 저자 유발 하라리도 비슷한 이야기를 한다. 그는 주로 데이터를 분석하는 일이 인공지능에 의해 대체될 것이라고 말한다. 그래서 의사와 간호사 중 주로 의사의 업무가 잠식될 것이라고 예측한다. 의사가 환자의 각종 데이터를 분석하여 병명을 진단하는 일은 인공지능으로 대체되기 쉬운 반면, 간호사가 환자를 달래며 붕대를 감고 상처를 처치하는 일은 대체하기 어렵다는 것이다. 흔히들 정신노동이 육체노동보다 우월하다고 생각한다. 그런데 챗GPT로 대표되는 최근의 인공지능이 보여주는 놀라운 능력은, 단순 사무직은 물론 고도의 분석 능력과 창의력을 요구하는 고소득 직군이 광범위하게 위협받을 것임을 예고하고 있다. 연구 보고서 ‘고용의 미래’(프레이·오즈번, 2013)에 의하면 대체될 가능성이 높은 직업에는 텔레마케터 같은 저소득 일자리뿐만 아니라 회계사 같은 고소득 일자리도 포함되어 있다. 월스트리트에 인공지능이 운영하는 ETF 펀드가 등장한 게 벌써 6년 전인 2017년의 일이다.건축 현장으로 국한해도 도배, 목수뿐만 아니라 타일, 미장, 도장, 배관 등 인공지능으로부터 비교적 안전한 일자리가 적지 않다. 소득 수준도 낮지 않다. 그런데 앞에 소개한 청년들은 일을 한국의 공교육 시스템에서 배운 것이 아니다. 현장에서 비공식적 관계 속에서 알음알음 배웠다. 전국의 특성화고등학교 가운데 이런 일을 배울 수 있는 학과는 극소수이고, 배운다 해도 실제 현장에서 활용 가능한 수준에 이르기가 거의 불가능하다. 전체적으로 현장의 요구와 학교 교육 사이에 상당한 불일치가 존재한다. 일반고의 위탁교육 또한 최근 참여율이 뚝 떨어지는 등 비슷한 문제를 노출하고 있다(경향신문 1월 연속기사 ‘취업 무방비 일반고 졸업생’ 참조).경제협력개발기구(OECD) 통계를 보면 고등학교에서 직업교육을 받는 학생 비율은 평균 46%(2016년 기준)다. 반면 한국의 직업계고 재학생 비율은 1980년 45%에서 2000년 36%, 2020년 18%로 현저히 낮아졌다. 교육당국이 지난 40년간 해온 일에 대한 근본적 반성과 대책이 필요하다. 더 이상 교육부에 희망을 걸 수 있을까? 인공지능 시대에 직업계고가 ‘괜찮은 일자리’로 나아가는 길을 열어주려면 직업계고 거버넌스의 중심을 교육부에서 고용노동부로 변경하는 수준의 개혁이 필요하다.',\n",
              "  '경향신문'),\n",
              " (\"[IT돋보기] '문송합니다'는 옛말?...억대 연봉 'AI조련사' 각광\",\n",
              "  '생성형AI 잘 다루려면 \\'문과적 소양\\' 필요...국내외 기업들, 억대 연봉 내걸고 채용\"좋은 답을 얻으려면 질문이 좋아야 한다.\"인간 세상의 진리가 인공지능(AI) 세계에도 고스란히 적용된다. 사람이 어떻게 질문하느냐에 따라 생성형 인공지능(AI)의 대답은 달라진다. \\'우문현답\\'이 아닌 \\'현문현답\\'이다.고도로 설계된 AI의 수많은 기능을 최대치로 끌어내려면 \\'명확하고 핵심을 찌르는 질문\\'이 중요하다. 코딩 능력만큼 창의력, 사고력 등 \\'인문학적 소양\\'이 생성형AI 시대에는 중요하게 평가받는 것이다.\\n\\n\\n\\n최근 생성형 AI 챗GPT의 인기로 AI와 대화하는 직업 \\'프롬프트 엔지니어\\'가 각광받고 있다. [사진=픽사베이]18일 업계에 따르면 생성형 AI 챗GPT의 인기로 AI와 대화하는 직업인 \\'프롬프트 엔지니어\\'가 각광받고 있다. AI가 최상의 답을 내놓을 수 있도록 AI를 훈련시키는 직업이다. 이 때문에 \\'AI조련사\\'라는 별칭이 붙었다.엔지니어라는 타이틀이 무색하게 코딩과 같은 개발 능력 보다는 생성AI의 사용경험과 논리적·언어적 관점에서 AI와 잘 대화할 수 능력이 중요하다. 챗GPT의 기반인 언어모델의 원리는 프롬프트에 어떤 지시를 내리면 데이터에 기반해 확률적으로 가장 적합한 결과물을 내놓는 것이다. 얼마나 구체적이고 적합한 명령어를 입력하는가에 따라 얻을 수 있는 정보값이 확연하게 차이가 난다.장병탁 서울대 컴퓨터공학부 교수(AI연구원 원장)은 \"전통적인 개발이나 소프트웨어에 대한 전문 지식이 없어도 영어, 한국어 등 자연어를 통해서 프로그래밍이 가능해졌다\"며 \"기술적 격차가 줄어든 만큼 글을 잘 쓰고 언어적 역량을 갖춘 문과적 성향을 높으면 유리할 것\"이라고 말했다. 장 교수는 \"AI는 아직 가르쳐서 훈련시킬 부분이 많은 기술\"이라며 \"더 고차원적인 기술이 되려면 좋은 질문을 통해 지속적으로 학습시킬 필요가 있다\"고 덧붙였다.◆억대 연봉 공채 제안한 기업들 \\'속속\\'…과기정통부, 관련 교육과정 검토AI조련사는  생성형AI 시대에 나온 직업인 만큼 경력자가 거의 없다. 당장 필요한 인력을 끌어오기 위해 억대 연봉을 제시하는 기업들이 속속 등장하고 있다.국내 AI스타트업 뤼튼테크놀로지스는 코딩 지식과 무관하게 최대 1억원 연봉을 내걸고 공개 채용에 나섰다. 앞서 구글이 5천억원을 투자한 미국 AI 스타트업 \\'앤스로픽\\'과 같은 테크기업은 물론 영국의 대형 로펌 \\'미시콘 데 레야\\'는 연봉 3~4억원을 제시하면서 프롬프트 엔지니어 공개 채용을 진행했다.뤼튼테크놀로지스 관계자는 \"스마트폰이 나왔을 때 인터넷 개발자는 있었지만 앱 개발자는 없었다. 프롬프트 엔지니어도 생성형AI로 인해 새로 생긴 직업이라 경력자가 없다\"면서 \"코딩지식과 상관없이 프롬프트 설계 경험이 있거나, 창의성과 논리성이 필요하기에 문과적 역량이 중요하다\"고 밝혔다. 그는 \"AI가 좋은 대답을 내놓을 수 있도록 설계한 기획안 시험을 통해 필요 인력을 뽑을 것\"이라고 덧붙였다.정부도 AI 프롬프트 엔지니어 육성을 위한 교육과정 신설을 검토 중이다. 목표 결과를 얻기 위해 생성 AI에 어떠한 질문을 던지고 다듬어야 하는지 등의 방법론을 교육하는 과정이다.과기정통부 관계자는 \"소프트웨어 역량 보다는 논리적 사고나 창의성을 높일 수 있도록 교육학 등으로 다방면으로 검토 중\"이라면서 \"프롬프트 엔지니어의 분야가 워낙 광범위한 만큼 디지털 교육 관점에서 접근하는 방법을 고려하고 있다\"고 밝혔다.생성형 AI가 공공·금융·유통·제조 등에서 활용도가 높아짐에 따라 프롬프트 엔지니어는 테크 기업은 물론 전 산업에서 수요가 늘어날 전망이다. 수천억개의 단어를 학습시킨 생성형AI를 특정 영역에서 활용하려면 해당 분야 지식에 기반한 구체적인 질문이 수반돼야 하기 때문이다.전병곤 서울대 컴퓨터공학부 교수는 \"특정 영역에서 어떤 방식으로 질문해야 좋은 결과가 나오는지 파악하는 게 프롬프트 엔지니어의 핵심 업무\"라며 \"이 영역에 지식이 있는 사람이 결과적으로 서비스의 질을 높일 수 있다\"고 설명했다. 전 교수는 \"다양한 작문 서비스를 제공하는 뤼튼테크놀로지스는 글쓰기 등 역량이 풍부한 인재를 찾을 것이고 로펌에서는 법률지식을 갖춘 인재가 필요할 것\"이라고 말했다.',\n",
              "  '아이뉴스24'),\n",
              " ('“딸 축하 PPT 만들어줘” 몇초만에 뚝딱… MS, 엑셀-워드 등에도 생성형 AI 도입',\n",
              "  '“챗GPT보다 더욱 강력할 것”오류 의식 “최종결정 사람이 해야”\\n\\n\\n\\n“내 딸 타샤의 고등학교 졸업을 축하하는 프레젠테이션을 만들어 줘. 그 애는 축구를 좋아하고 전자 클럽에서 우등생으로 활동 중이야. 딸에게 할 우리의 조언은 대담하고 모험적으로 살아가라는 거야.” 마치 PPT 전문가에게 전하는 듯한 지시문, 하지만 지시하는 대상은 ‘사람’이 아닌 ‘인공지능(AI)’이었다. 지시문과 함께 ‘재미있고 신나는 분위기 연출’ 등 간단한 추가 정보를 입력하자, 단 몇 초 만에 졸업을 축하하는 PPT 10여 장이 생성됐다. 마이크로소프트(MS)가 16일(현지 시간) 생성형 AI를 MS 365를 비롯한 자사의 업무 생산 도구에 도입할 계획을 밝혔다. 이날 공개된 서비스는 한국어로 ‘부조종사’라는 뜻의 ‘MS 365 코파일럿(Copilot)’. 14일 공개된 오픈AI의 거대언어모델(LLM) ‘GPT 4’를 기반으로 하고 있다. MS는 “기존 MS 365에 도입된 챗GPT보다 코파일럿이 더욱 강력할 것”이라고 밝혔다. 엑셀, PPT, 워드 등 전 세계 다수 이용자가 사용하는 MS의 소프트웨어에 고도화된 생성 AI가 도입되는 것이다. 이날 MS 온라인 행사에서는 PPT 작성뿐 아니라 글 작성·편집·요약, 이메일 답장, 전문적인 데이터 시각화, 새로운 수식 제안 등 다수의 오피스 프로그램과 코파일럿의 연동 사례가 소개됐다. MS는 오피스 외에도 캘린더, 연락처 등 사용자의 데이터와 코파일럿의 협업사례도 공개했다. 예를 들면 “제품전략을 어떻게 업데이트했는지 팀에 알려줘”라고 요청하면 회의록, 이메일, 채팅 기록 등 데이터를 기반으로 문서를 작성해 주는 방식이다. 이번 발표처럼 빅테크들이 단순 챗봇서비스뿐 아니라 기존 프로그램과 생성형 AI를 결합시키며 ‘AI 주도권’ 경쟁이 더욱 다각화·고도화되고 있다. 14일 구글도 자사 이메일 서비스 지메일과 문서작성 도구인 구글 독스에서 초안을 작성해주는 AI 기능을 발표한 바 있다. 각각 검색엔진과 업무용 소프트웨어에서 높은 시장점유율을 가지고 있는 양사가 각 서비스에 생성형 AI 접목 계획을 밝히며 기존 서비스의 점유율 경쟁도 요동칠 것으로 전망된다. 국내 기업 네이버도 코딩 없이 프로그램을 만들 수 있는 AI플랫폼 ‘클로바 스튜디오’ 서비스를 스타트업에 제공하며 업무 생산성 강화에 AI를 접목 중이다. 생성 AI가 각종 가짜 정보를 제공할 수 있다는 논란을 반영하듯 이날 MS는 ‘오류 가능성’에 대해서도 시인하는 모습을 보였다. 작업물의 최종 결정권자는 AI가 아닌 ‘인간’임을 명시한 것이다. MS는 “사용자가 자신의 지식과 판단에 따라 콘텐츠를 검토, 사실 확인, 미세 조정하도록 유도할 것”이라고 설명했다. 이날 시연에서도 “제대로 이해하지 못한 부분이 있으므로 다시 작성하겠다”는 언급과 함께 필요한 부분을 사람이 재작성하는 모습이 연출됐다.',\n",
              "  '동아일보')]"
            ]
          },
          "metadata": {},
          "execution_count": 23
        }
      ]
    },
    {
      "cell_type": "code",
      "source": [
        "# 다음 시간 미리보기 - Pandas로 데이터 프레임 만들기\n",
        "import pandas as pd"
      ],
      "metadata": {
        "id": "esTEAMO3pJ7u"
      },
      "execution_count": 24,
      "outputs": []
    },
    {
      "cell_type": "code",
      "source": [
        "df = pd.DataFrame(data_list, columns = ['Title', 'Content', 'Media']); df # 줄바꿈은 세미콜론(;)으로 처리가 가능합니다."
      ],
      "metadata": {
        "colab": {
          "base_uri": "https://localhost:8080/",
          "height": 363
        },
        "id": "1stvfhH3psrr",
        "outputId": "09fbadba-d614-4719-fcf9-376b838d6b37"
      },
      "execution_count": 25,
      "outputs": [
        {
          "output_type": "execute_result",
          "data": {
            "text/plain": [
              "                                              Title  \\\n",
              "0           챗GPT 개발사 CEO \"AI, 가장 위대한 기술 될수도…조금 무서워\"   \n",
              "1               \"마케팅도 초개인화 시대\"…유통가 'AI기반 시스템' 투자 확대   \n",
              "2                 생성 AI가 워드 쓰고, PPT 만드네…엑셀 분석도 '척척'   \n",
              "3   'AI 시대' 최대 수혜 기업?…최종 승자는 이미 정해졌다 [성상훈의 해외주식학개론]   \n",
              "4               [단독] 구글 vs MS `AI 전쟁`… 카카오는 이걸 선택했다   \n",
              "5                   치고 나간 MS, 추격하는 구글…달아오른 생성형AI 대전   \n",
              "6                     AI, e메일 보내고 회의도 예약...인간은 뭐하지?   \n",
              "7                   [이범의 불편한 진실] AI가 열어젖힌 육체노동 전성시대   \n",
              "8           [IT돋보기] '문송합니다'는 옛말?...억대 연봉 'AI조련사' 각광   \n",
              "9  “딸 축하 PPT 만들어줘” 몇초만에 뚝딱… MS, 엑셀-워드 등에도 생성형 AI 도입   \n",
              "\n",
              "                                             Content        Media  \n",
              "0  ABC뉴스 인터뷰…\"사이버 공격에 사용될 수도\"\"DB 아닌 추론 엔진…주요 정보 출...         연합뉴스  \n",
              "1  (사진=롯데면세점) *재판매 및 DB 금지[서울=뉴시스]이지영 기자 = 유통업계가 ...          뉴시스  \n",
              "2  마이크로소프트365 코파일럿 시연 보니마이크로소프트가 생성AI 기술을 오피스 제품군...  ZDNet Korea  \n",
              "3  이 기사는 국내 최대 해외 투자정보 플랫폼 한경 글로벌마켓에 게재된 기사입니다.\\n...         한국경제  \n",
              "4  오픈AI와 손잡은 MS(마이크로소프트)가 구글과 챗GPT를 비롯한 초거대 AI(인공...       디지털타임스  \n",
              "5  MS, ‘보는 눈’까지 달린 챗GPT 채용 구글, 기업용 제품에 생성형 AI 적용[...         한국일보  \n",
              "6  구글, MS, 세일즈포스, AI로 사무 자동화 나서“인간, AI와 협업하는 능력 키...       파이낸셜뉴스  \n",
              "7  | 이범 교육평론가·전 민주연구원 부원장얼마 전 여성 도배사 두 명이 화제에 올랐다...         경향신문  \n",
              "8  생성형AI 잘 다루려면 '문과적 소양' 필요...국내외 기업들, 억대 연봉 내걸고 ...       아이뉴스24  \n",
              "9  “챗GPT보다 더욱 강력할 것”오류 의식 “최종결정 사람이 해야”\\n\\n\\n\\n“내...         동아일보  "
            ],
            "text/html": [
              "\n",
              "  <div id=\"df-cd4504b9-f0c9-4d71-a049-a53fc5251feb\">\n",
              "    <div class=\"colab-df-container\">\n",
              "      <div>\n",
              "<style scoped>\n",
              "    .dataframe tbody tr th:only-of-type {\n",
              "        vertical-align: middle;\n",
              "    }\n",
              "\n",
              "    .dataframe tbody tr th {\n",
              "        vertical-align: top;\n",
              "    }\n",
              "\n",
              "    .dataframe thead th {\n",
              "        text-align: right;\n",
              "    }\n",
              "</style>\n",
              "<table border=\"1\" class=\"dataframe\">\n",
              "  <thead>\n",
              "    <tr style=\"text-align: right;\">\n",
              "      <th></th>\n",
              "      <th>Title</th>\n",
              "      <th>Content</th>\n",
              "      <th>Media</th>\n",
              "    </tr>\n",
              "  </thead>\n",
              "  <tbody>\n",
              "    <tr>\n",
              "      <th>0</th>\n",
              "      <td>챗GPT 개발사 CEO \"AI, 가장 위대한 기술 될수도…조금 무서워\"</td>\n",
              "      <td>ABC뉴스 인터뷰…\"사이버 공격에 사용될 수도\"\"DB 아닌 추론 엔진…주요 정보 출...</td>\n",
              "      <td>연합뉴스</td>\n",
              "    </tr>\n",
              "    <tr>\n",
              "      <th>1</th>\n",
              "      <td>\"마케팅도 초개인화 시대\"…유통가 'AI기반 시스템' 투자 확대</td>\n",
              "      <td>(사진=롯데면세점) *재판매 및 DB 금지[서울=뉴시스]이지영 기자 = 유통업계가 ...</td>\n",
              "      <td>뉴시스</td>\n",
              "    </tr>\n",
              "    <tr>\n",
              "      <th>2</th>\n",
              "      <td>생성 AI가 워드 쓰고, PPT 만드네…엑셀 분석도 '척척'</td>\n",
              "      <td>마이크로소프트365 코파일럿 시연 보니마이크로소프트가 생성AI 기술을 오피스 제품군...</td>\n",
              "      <td>ZDNet Korea</td>\n",
              "    </tr>\n",
              "    <tr>\n",
              "      <th>3</th>\n",
              "      <td>'AI 시대' 최대 수혜 기업?…최종 승자는 이미 정해졌다 [성상훈의 해외주식학개론]</td>\n",
              "      <td>이 기사는 국내 최대 해외 투자정보 플랫폼 한경 글로벌마켓에 게재된 기사입니다.\\n...</td>\n",
              "      <td>한국경제</td>\n",
              "    </tr>\n",
              "    <tr>\n",
              "      <th>4</th>\n",
              "      <td>[단독] 구글 vs MS `AI 전쟁`… 카카오는 이걸 선택했다</td>\n",
              "      <td>오픈AI와 손잡은 MS(마이크로소프트)가 구글과 챗GPT를 비롯한 초거대 AI(인공...</td>\n",
              "      <td>디지털타임스</td>\n",
              "    </tr>\n",
              "    <tr>\n",
              "      <th>5</th>\n",
              "      <td>치고 나간 MS, 추격하는 구글…달아오른 생성형AI 대전</td>\n",
              "      <td>MS, ‘보는 눈’까지 달린 챗GPT 채용 구글, 기업용 제품에 생성형 AI 적용[...</td>\n",
              "      <td>한국일보</td>\n",
              "    </tr>\n",
              "    <tr>\n",
              "      <th>6</th>\n",
              "      <td>AI, e메일 보내고 회의도 예약...인간은 뭐하지?</td>\n",
              "      <td>구글, MS, 세일즈포스, AI로 사무 자동화 나서“인간, AI와 협업하는 능력 키...</td>\n",
              "      <td>파이낸셜뉴스</td>\n",
              "    </tr>\n",
              "    <tr>\n",
              "      <th>7</th>\n",
              "      <td>[이범의 불편한 진실] AI가 열어젖힌 육체노동 전성시대</td>\n",
              "      <td>| 이범 교육평론가·전 민주연구원 부원장얼마 전 여성 도배사 두 명이 화제에 올랐다...</td>\n",
              "      <td>경향신문</td>\n",
              "    </tr>\n",
              "    <tr>\n",
              "      <th>8</th>\n",
              "      <td>[IT돋보기] '문송합니다'는 옛말?...억대 연봉 'AI조련사' 각광</td>\n",
              "      <td>생성형AI 잘 다루려면 '문과적 소양' 필요...국내외 기업들, 억대 연봉 내걸고 ...</td>\n",
              "      <td>아이뉴스24</td>\n",
              "    </tr>\n",
              "    <tr>\n",
              "      <th>9</th>\n",
              "      <td>“딸 축하 PPT 만들어줘” 몇초만에 뚝딱… MS, 엑셀-워드 등에도 생성형 AI 도입</td>\n",
              "      <td>“챗GPT보다 더욱 강력할 것”오류 의식 “최종결정 사람이 해야”\\n\\n\\n\\n“내...</td>\n",
              "      <td>동아일보</td>\n",
              "    </tr>\n",
              "  </tbody>\n",
              "</table>\n",
              "</div>\n",
              "      <button class=\"colab-df-convert\" onclick=\"convertToInteractive('df-cd4504b9-f0c9-4d71-a049-a53fc5251feb')\"\n",
              "              title=\"Convert this dataframe to an interactive table.\"\n",
              "              style=\"display:none;\">\n",
              "        \n",
              "  <svg xmlns=\"http://www.w3.org/2000/svg\" height=\"24px\"viewBox=\"0 0 24 24\"\n",
              "       width=\"24px\">\n",
              "    <path d=\"M0 0h24v24H0V0z\" fill=\"none\"/>\n",
              "    <path d=\"M18.56 5.44l.94 2.06.94-2.06 2.06-.94-2.06-.94-.94-2.06-.94 2.06-2.06.94zm-11 1L8.5 8.5l.94-2.06 2.06-.94-2.06-.94L8.5 2.5l-.94 2.06-2.06.94zm10 10l.94 2.06.94-2.06 2.06-.94-2.06-.94-.94-2.06-.94 2.06-2.06.94z\"/><path d=\"M17.41 7.96l-1.37-1.37c-.4-.4-.92-.59-1.43-.59-.52 0-1.04.2-1.43.59L10.3 9.45l-7.72 7.72c-.78.78-.78 2.05 0 2.83L4 21.41c.39.39.9.59 1.41.59.51 0 1.02-.2 1.41-.59l7.78-7.78 2.81-2.81c.8-.78.8-2.07 0-2.86zM5.41 20L4 18.59l7.72-7.72 1.47 1.35L5.41 20z\"/>\n",
              "  </svg>\n",
              "      </button>\n",
              "      \n",
              "  <style>\n",
              "    .colab-df-container {\n",
              "      display:flex;\n",
              "      flex-wrap:wrap;\n",
              "      gap: 12px;\n",
              "    }\n",
              "\n",
              "    .colab-df-convert {\n",
              "      background-color: #E8F0FE;\n",
              "      border: none;\n",
              "      border-radius: 50%;\n",
              "      cursor: pointer;\n",
              "      display: none;\n",
              "      fill: #1967D2;\n",
              "      height: 32px;\n",
              "      padding: 0 0 0 0;\n",
              "      width: 32px;\n",
              "    }\n",
              "\n",
              "    .colab-df-convert:hover {\n",
              "      background-color: #E2EBFA;\n",
              "      box-shadow: 0px 1px 2px rgba(60, 64, 67, 0.3), 0px 1px 3px 1px rgba(60, 64, 67, 0.15);\n",
              "      fill: #174EA6;\n",
              "    }\n",
              "\n",
              "    [theme=dark] .colab-df-convert {\n",
              "      background-color: #3B4455;\n",
              "      fill: #D2E3FC;\n",
              "    }\n",
              "\n",
              "    [theme=dark] .colab-df-convert:hover {\n",
              "      background-color: #434B5C;\n",
              "      box-shadow: 0px 1px 3px 1px rgba(0, 0, 0, 0.15);\n",
              "      filter: drop-shadow(0px 1px 2px rgba(0, 0, 0, 0.3));\n",
              "      fill: #FFFFFF;\n",
              "    }\n",
              "  </style>\n",
              "\n",
              "      <script>\n",
              "        const buttonEl =\n",
              "          document.querySelector('#df-cd4504b9-f0c9-4d71-a049-a53fc5251feb button.colab-df-convert');\n",
              "        buttonEl.style.display =\n",
              "          google.colab.kernel.accessAllowed ? 'block' : 'none';\n",
              "\n",
              "        async function convertToInteractive(key) {\n",
              "          const element = document.querySelector('#df-cd4504b9-f0c9-4d71-a049-a53fc5251feb');\n",
              "          const dataTable =\n",
              "            await google.colab.kernel.invokeFunction('convertToInteractive',\n",
              "                                                     [key], {});\n",
              "          if (!dataTable) return;\n",
              "\n",
              "          const docLinkHtml = 'Like what you see? Visit the ' +\n",
              "            '<a target=\"_blank\" href=https://colab.research.google.com/notebooks/data_table.ipynb>data table notebook</a>'\n",
              "            + ' to learn more about interactive tables.';\n",
              "          element.innerHTML = '';\n",
              "          dataTable['output_type'] = 'display_data';\n",
              "          await google.colab.output.renderOutput(dataTable, element);\n",
              "          const docLink = document.createElement('div');\n",
              "          docLink.innerHTML = docLinkHtml;\n",
              "          element.appendChild(docLink);\n",
              "        }\n",
              "      </script>\n",
              "    </div>\n",
              "  </div>\n",
              "  "
            ]
          },
          "metadata": {},
          "execution_count": 25
        }
      ]
    }
  ]
}